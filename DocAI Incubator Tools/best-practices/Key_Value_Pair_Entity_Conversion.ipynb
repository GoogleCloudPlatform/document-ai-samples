{
 "cells": [
  {
   "cell_type": "markdown",
   "id": "33e81a43-1c3e-4ba6-8ddf-cf1371e031ca",
   "metadata": {},
   "source": [
    "# Key Value Pair Entity Conversion"
   ]
  },
  {
   "cell_type": "markdown",
   "id": "357b28b9-4bc9-4c05-b144-b9bd7f08ea69",
   "metadata": {},
   "source": [
    "* Author: docai-incubator@google.com"
   ]
  },
  {
   "cell_type": "markdown",
   "id": "43d9299e-97fd-4bb9-813e-e3a26c29daa6",
   "metadata": {},
   "source": [
    "## Disclaimer\n",
    "\n",
    "This tool is not supported by the Google engineering team or product team. It is provided and supported on a best-effort basis by the DocAI Incubator Team. No guarantees of performance are implied.\t"
   ]
  },
  {
   "cell_type": "markdown",
   "id": "0f0dab58-25b4-4710-ad18-abdc98e0fae5",
   "metadata": {},
   "source": [
    "## Purpose and Description"
   ]
  },
  {
   "cell_type": "markdown",
   "id": "dba9362f-09bd-4481-b354-ebcde6133fe9",
   "metadata": {},
   "source": [
    "This tool uses Form parser JSON files (Parsed from a processor) from the GCS bucket as input, converts the key/value pair to the entities and stores it to the GCS bucket as JSON files."
   ]
  },
  {
   "cell_type": "markdown",
   "id": "f8fe7a56-d471-427f-a0ff-a7c6c44d1b3c",
   "metadata": {},
   "source": [
    "## Prerequisites\n",
    "\n",
    "1. Vertex AI Notebook\n",
    "2. Labeled json files in GCS Folder"
   ]
  },
  {
   "cell_type": "markdown",
   "id": "9955cea1-8f9f-413b-ad0b-d082f7f554e3",
   "metadata": {},
   "source": [
    "## Step by Step procedure "
   ]
  },
  {
   "cell_type": "markdown",
   "id": "a40e912e-79a2-4e4a-9ad7-86d4325c4c8e",
   "metadata": {},
   "source": [
    "### 1. Config file Creation"
   ]
  },
  {
   "cell_type": "markdown",
   "id": "e4472e18-ad97-486c-a8d2-c62c7026c265",
   "metadata": {},
   "source": [
    "Run the below code and create a config.ini file for providing input."
   ]
  },
  {
   "cell_type": "code",
   "execution_count": null,
   "id": "71087bd5-66ef-4cee-b3d4-8c2d3bbb2037",
   "metadata": {},
   "outputs": [],
   "source": [
    "import configparser\n",
    "\n",
    "config = configparser.ConfigParser()\n",
    "config_path = \"config.ini\"  # Enter the path of config file\n",
    "# Add the structure to the file we will create\n",
    "config.add_section(\"Entities_synonyms\")\n",
    "config.set(\"Entities_synonyms\", \"entity1\",\n",
    "           \"key_synonym1, key_synonym2, key_synonym3\")\n",
    "config.set(\"Entities_synonyms\", \"entity2\",\n",
    "           \"key_synonym1, key_synonym2, key_synonym3\")\n",
    "# Write the new structure to the new file\n",
    "with open(config_path, \"w\") as configfile:\n",
    "    config.write(configfile)"
   ]
  },
  {
   "cell_type": "markdown",
   "id": "019e148d-1ca8-4fad-a12c-7c725e9e148a",
   "metadata": {},
   "source": [
    "### 2. Input Details"
   ]
  },
  {
   "cell_type": "markdown",
   "id": "74ed06f0-3a95-45f6-80dd-bed793b130be",
   "metadata": {},
   "source": [
    "Once config.ini file is created with the above step , enter the input in the config file : "
   ]
  },
  {
   "cell_type": "markdown",
   "id": "c916f6ec-0329-4d1a-a0df-fd7e5dd431be",
   "metadata": {},
   "source": [
    "entity1 =  key_synonym1, key_synonym2, key_synonym3"
   ]
  },
  {
   "cell_type": "markdown",
   "id": "0d83c1f6-9c8c-4a13-8ed6-c375d102eeaa",
   "metadata": {},
   "source": [
    "![Alt text](https://screenshot.googleplex.com/BevguHAbpRKYQdX.png)"
   ]
  },
  {
   "cell_type": "markdown",
   "id": "044c1ec6-c9e6-4ef0-8a23-0f6fbf0138d9",
   "metadata": {},
   "source": [
    "Here add the entity name in place of entity1 and  add the synonyms related to the entity in place of key_synonym separated by comma(,). Add multiple entities with their synonyms in the next line.\n",
    "\n",
    "**Example :**  \n",
    "Address = AddressName, AddressName1, AddressLine\n",
    "InvoiceNumber = Invoice,InvoiceNo\n",
    "PaymentDate = SNC, SNCs, SNC1"
   ]
  },
  {
   "cell_type": "markdown",
   "id": "dfb2369e-4ae7-4675-854d-9d320acb5b62",
   "metadata": {},
   "source": [
    "### 3.Run the Code"
   ]
  },
  {
   "cell_type": "markdown",
   "id": "71d8f883-0287-4fb6-9680-eeafa259a67f",
   "metadata": {},
   "source": [
    "    a. Copy the code provided in this document, Enter the path of Config file "
   ]
  },
  {
   "cell_type": "markdown",
   "id": "53914f2d-33b7-4801-bd04-82b51468783a",
   "metadata": {},
   "source": [
    "![](https://screenshot.googleplex.com/9gpHncm7kNGibvw.png)"
   ]
  },
  {
   "cell_type": "markdown",
   "id": "ac1c7f11-79b2-4993-b91d-50f02ddb50fa",
   "metadata": {},
   "source": [
    "    b.  Update the project id, form parser output path, GCS bucket name and the GCP output for the labeled entities Jsons."
   ]
  },
  {
   "cell_type": "markdown",
   "id": "223c02ff-18ee-4da5-8e72-d8ff909b898b",
   "metadata": {},
   "source": [
    "![](https://screenshot.googleplex.com/BfBAVjwW2zoxhxT.png)"
   ]
  },
  {
   "cell_type": "markdown",
   "id": "f9bc87bb-44f7-44d2-b69d-6fd59071279b",
   "metadata": {},
   "source": [
    "### 4. Output"
   ]
  },
  {
   "cell_type": "markdown",
   "id": "707cc815-35e2-44bb-a767-48baeb9422be",
   "metadata": {},
   "source": [
    "We get the converted Json in the GCS path which is provided in the script with the variable name **output_path**. "
   ]
  },
  {
   "cell_type": "markdown",
   "id": "bf831c2e-45b5-474f-b3cd-044d37ec7964",
   "metadata": {},
   "source": [
    "![](https://screenshot.googleplex.com/43tgnEWB3HXSRpt.png)"
   ]
  },
  {
   "cell_type": "markdown",
   "id": "95b79b16-c50d-4e73-95f4-223c38a5188e",
   "metadata": {},
   "source": [
    "### 5. Sample Code"
   ]
  },
  {
   "cell_type": "markdown",
   "id": "7f68a4db-78f5-421b-8bc9-84c4c06839bd",
   "metadata": {
    "tags": []
   },
   "source": [
    "#### importing necessary modules"
   ]
  },
  {
   "cell_type": "code",
   "execution_count": null,
   "id": "76f25301-742f-4dbc-83f4-06bf57219eaf",
   "metadata": {},
   "outputs": [],
   "source": [
    "import json\n",
    "import re\n",
    "from io import BytesIO\n",
    "from pathlib import Path\n",
    "\n",
    "import gcsfs\n",
    "import google.auth\n",
    "from google.cloud import documentai_v1beta3 as documentai\n",
    "from google.cloud import storage\n",
    "from tqdm import tqdm"
   ]
  },
  {
   "cell_type": "markdown",
   "id": "e4e6b074-57ce-45f8-8a86-044f3e938bf0",
   "metadata": {},
   "source": [
    "#### Setup the required inputs"
   ]
  },
  {
   "cell_type": "code",
   "execution_count": null,
   "id": "732eec2a-3da1-4759-bb34-ecdddb5a3a50",
   "metadata": {},
   "outputs": [],
   "source": [
    "PROJECT_ID = “XXXX-XXXX-XXXX” # your project id\n",
    "bucket_name = \"ZZZZ-ZZZZ\" # bucket name\n",
    "\n",
    "credentials, _ = google.auth.default()\n",
    "fileSystem =gcsfs.GCSFileSystem(project=PROJECT_ID, token=credentials) \n",
    "formparser_path = \"kv_entites_conversion/test_script\" # path of the form parser output\n",
    "output_path = \"kv_entites_conversion/test_script/output\" # output path for this script\n",
    "config_path = \"/path/to/config.ini\n",
    "config = configparser.ConfigParser()\n",
    "config.optionxform = str\n",
    "config.read(config_path)"
   ]
  },
  {
   "cell_type": "markdown",
   "id": "a4cef02c-b4e6-4233-b04f-cf0b98a5045d",
   "metadata": {},
   "source": [
    "#### Execute the code"
   ]
  },
  {
   "cell_type": "code",
   "execution_count": null,
   "id": "b65904ff-89d1-4229-b375-47aadd51781f",
   "metadata": {},
   "outputs": [],
   "source": [
    "def get_file(file_path: str):\n",
    "    \"\"\"\n",
    "    To read files from cloud storage.\n",
    "    \"\"\"\n",
    "    file_object = json.loads(fileSystem.cat(file_path))\n",
    "    return file_object\n",
    "\n",
    "\n",
    "def store_blob(document, file_name: str):\n",
    "    \"\"\"\n",
    "    Store files in cloud storage.\n",
    "    \"\"\"\n",
    "    storage_client = storage.Client()\n",
    "    process_result_bucket = storage_client.get_bucket(bucket_name)\n",
    "    document_blob = storage.Blob(name=str(Path(output_path, file_name)),\n",
    "                                 bucket=process_result_bucket)\n",
    "    document_blob.upload_from_string(json.dumps(document),\n",
    "                                     content_type=\"application/json\")\n",
    "    # print(f\"File Saved : {file_name}.\")\n",
    "\n",
    "\n",
    "def entity_synonyms(old_entity: str):\n",
    "    \"\"\"\n",
    "    To check for any synonyms for the entites and replace.\n",
    "    \"\"\"\n",
    "    entities_synonyms = config.items(\"Entities_synonyms\")\n",
    "    for item in entities_synonyms:\n",
    "        synonym_list = [i.lower().strip() for i in item[1].split(\",\")]\n",
    "        if old_entity.lower() in synonym_list:\n",
    "            return item[0]\n",
    "\n",
    "    # if entity does not match with any synonyms, will return entity as it is.\n",
    "    return \"\"\n",
    "\n",
    "\n",
    "def entity_data(formField_data: dict, page_number: int):\n",
    "    \"\"\"\n",
    "    Function to create entity objects with some cleaning.\n",
    "    \"\"\"\n",
    "    # Cleaning the entity name\n",
    "    key_name = (re.sub(\n",
    "        r\"[^\\w\\s]\",\n",
    "        \"\", formField_data[\"fieldName\"][\"textAnchor\"][\"content\"]).replace(\n",
    "            \" \", \"\").strip())\n",
    "    # checking for entity synonyms\n",
    "    key_name = entity_synonyms(key_name)\n",
    "    if key_name:\n",
    "        entity_dict = {\n",
    "            \"confidence\": formField_data[\"fieldValue\"][\"confidence\"],\n",
    "            \"mentionText\":\n",
    "            formField_data[\"fieldValue\"][\"textAnchor\"][\"content\"],\n",
    "            \"pageAnchor\": {\n",
    "                \"pageRefs\": [{\n",
    "                    \"boundingPoly\":\n",
    "                    formField_data[\"fieldValue\"][\"boundingPoly\"],\n",
    "                    \"page\":\n",
    "                    page_number,\n",
    "                }]\n",
    "            },\n",
    "            \"textAnchor\": formField_data[\"fieldValue\"][\"textAnchor\"],\n",
    "            \"type\": key_name,\n",
    "        }\n",
    "\n",
    "        return entity_dict\n",
    "    else:\n",
    "        return {}\n",
    "\n",
    "\n",
    "def convert_kv_entities(file: str):\n",
    "    \"\"\"\n",
    "    Function to convert form parser key value to entities.\n",
    "    \"\"\"\n",
    "    # get the file object\n",
    "    file = get_file(file)\n",
    "    # initializing entities list\n",
    "    file[\"entities\"] = []\n",
    "\n",
    "    for page_number, page_data in enumerate(file[\"pages\"]):\n",
    "        for formField_number, formField_data in enumerate(\n",
    "                page_data.get(\"formFields\", [])):\n",
    "            # get the element and push it to the entities array\n",
    "            entity_obj = entity_data(formField_data, page_number)\n",
    "            if entity_obj:\n",
    "                file[\"entities\"].append(entity_obj)\n",
    "    # removing the form parser data\n",
    "    for i in range(len(file[\"pages\"])):\n",
    "        if \"formFields\" in file[\"pages\"][i].keys():\n",
    "            del file[\"pages\"][i][\"formFields\"]\n",
    "        if \"tables\" in file[\"pages\"][i].keys():\n",
    "            del file[\"pages\"][i][\"tables\"]\n",
    "\n",
    "    return file\n",
    "\n",
    "\n",
    "def main():\n",
    "    \"\"\"\n",
    "    Main function to call helper functions\n",
    "    \"\"\"\n",
    "    # fetching all the files\n",
    "    files = [\n",
    "        i for i in fileSystem.ls(bucket_name + \"/\" + formparser_path)\n",
    "        if i.endswith(\".json\")\n",
    "    ]\n",
    "    for file in tqdm.tqdm(files, desc=\"Status : \"):\n",
    "        # converting key value to entites\n",
    "        entity_json = convert_kv_entities(file)\n",
    "\n",
    "        # storing the json\n",
    "        file_name = file.split(\"/\")[-1]\n",
    "        store_blob(entity_json, file_name)\n",
    "\n",
    "\n",
    "# calling main function\n",
    "main()"
   ]
  },
  {
   "cell_type": "markdown",
   "id": "365d37a6-62cd-4741-a0a2-214b08d91f9b",
   "metadata": {},
   "source": [
    "### What’s next ?"
   ]
  },
  {
   "cell_type": "markdown",
   "id": "d82f2e94-2279-487b-9431-b479ddc9270d",
   "metadata": {},
   "source": [
    "[go/docai-parsed-json-split-address-lines](go/docai-parsed-json-split-address-lines)"
   ]
  },
  {
   "cell_type": "code",
   "execution_count": null,
   "id": "9577c16f-bfdc-4e38-a4c6-8d11c4e87ffb",
   "metadata": {},
   "outputs": [],
   "source": []
  }
 ],
 "metadata": {
  "environment": {
   "kernel": "python3",
   "name": "common-cpu.m104",
   "type": "gcloud",
   "uri": "gcr.io/deeplearning-platform-release/base-cpu:m104"
  },
  "kernelspec": {
   "display_name": "Python 3",
   "language": "python",
   "name": "python3"
  },
  "language_info": {
   "codemirror_mode": {
    "name": "ipython",
    "version": 3
   },
   "file_extension": ".py",
   "mimetype": "text/x-python",
   "name": "python",
   "nbconvert_exporter": "python",
   "pygments_lexer": "ipython3",
   "version": "3.7.12"
  }
 },
 "nbformat": 4,
 "nbformat_minor": 5
}
