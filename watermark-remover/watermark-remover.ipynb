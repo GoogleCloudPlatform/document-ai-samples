{
 "cells": [
  {
   "cell_type": "markdown",
   "metadata": {},
   "source": [
    "# Watermark Remover Tool\n",
    "\n",
    "**Author:** docai-incubator@google.com\n",
    "\n",
    "## Disclaimer\n",
    "\n",
    "The Watermark Remover Tool is provided as is, without any guarantees, by the DocAI Incubator team. It is supported on a best effort basis. Google Engineering does not provide support for this tool.\n",
    "\n",
    "## Purpose of the Script\n",
    "\n",
    "The Python script is designed to remove half-tone (gray) watermarks from images (PDFs and JPGs) using image processing techniques. Its purpose is to automate the pre-processing step of eliminating visible watermarks present in the images.\n",
    "\n",
    "## Considerations and Limitations\n",
    "\n",
    "The efficacy of the script may vary depending on the complexity and transparency of the watermark. Removing complex overlays completely can be challenging. Additionally, image quality, lighting, and contrast variations can also affect the performance. For optimal results, manual intervention or specialized techniques may be required. Please refer to the results to get an idea of which JPGs or PDFs work best.\n",
    "\n",
    "## Prerequisites\n",
    "\n",
    "1. Python: Jupyter Notebook (Vertex AI)\n",
    "\n",
    "## Installation Procedure\n",
    "\n",
    "The script consists of Python code. It can be loaded and executed via:\n",
    "\n",
    "1. Upload the IPYNB file or copy the code to the Vertex Notebook and follow the operation procedure."
   ]
  },
  {
   "cell_type": "markdown",
   "metadata": {},
   "source": [
    "## Operation Procedure\n",
    "\n",
    "### Install the required libraries"
   ]
  },
  {
   "cell_type": "code",
   "execution_count": null,
   "metadata": {},
   "outputs": [],
   "source": [
    "import sys\n",
    "\n",
    "!{sys.executable} -m pip install numpy pdf2image img2pdf opencv-python"
   ]
  },
  {
   "cell_type": "code",
   "execution_count": 35,
   "metadata": {},
   "outputs": [],
   "source": [
    "!apt-get install poppler-utils -y\n",
    "# If running on a Mac, use `brew install poppler`"
   ]
  },
  {
   "cell_type": "markdown",
   "metadata": {},
   "source": [
    "### Import the required libraries"
   ]
  },
  {
   "cell_type": "code",
   "execution_count": null,
   "metadata": {},
   "outputs": [],
   "source": [
    "import cv2\n",
    "import numpy as np\n",
    "from pdf2image import convert_from_path\n",
    "import img2pdf\n",
    "import os\n",
    "from typing import List"
   ]
  },
  {
   "cell_type": "code",
   "execution_count": null,
   "metadata": {},
   "outputs": [],
   "source": [
    "def apply_watermark_removal(\n",
    "    grayscale: np.ndarray, background: np.ndarray\n",
    ") -> np.ndarray:\n",
    "    \"\"\"\n",
    "    Apply watermark removal to a grayscale image using morphological operations.\n",
    "\n",
    "    Parameters:\n",
    "        grayscale (numpy.ndarray): The grayscale image to process.\n",
    "        background (numpy.ndarray): The background image used for watermark removal.\n",
    "\n",
    "    Returns:\n",
    "        numpy.ndarray: The watermark-removed binary image.\n",
    "    \"\"\"\n",
    "    # Compute the difference between the background and grayscale image\n",
    "    difference = cv2.subtract(background, grayscale)\n",
    "\n",
    "    # Threshold the difference to create a binary mask\n",
    "    _, binary = cv2.threshold(\n",
    "        difference, 0, 255, cv2.THRESH_BINARY_INV | cv2.THRESH_OTSU\n",
    "    )\n",
    "\n",
    "    # Threshold the background to obtain the dark region\n",
    "    _, dark_region = cv2.threshold(\n",
    "        background, 0, 255, cv2.THRESH_BINARY_INV | cv2.THRESH_OTSU\n",
    "    )\n",
    "\n",
    "    # Get the dark pixels from the grayscale image within the dark region\n",
    "    dark_pixels = grayscale[np.where(dark_region > 0)]\n",
    "    _, dark_pixels = cv2.threshold(\n",
    "        dark_pixels, 0, 255, cv2.THRESH_BINARY | cv2.THRESH_OTSU\n",
    "    )\n",
    "\n",
    "    # Replace the watermark with the dark pixels\n",
    "    binary[np.where(dark_region > 0)] = dark_pixels.T\n",
    "\n",
    "    return binary\n",
    "\n",
    "\n",
    "def remove_watermark_pdf(pdf_filename: str) -> None:\n",
    "    \"\"\"\n",
    "    Remove watermarks from a PDF file and save the watermark-removed pages as new images.\n",
    "\n",
    "    Parameters:\n",
    "        pdf_filename (str): The path to the input PDF file.\n",
    "    \"\"\"\n",
    "    dpi = 300  # higher dpi results in better resolution\n",
    "    pages = convert_from_path(pdf_filename, dpi=dpi)\n",
    "\n",
    "    processed_pages: List[str] = []\n",
    "\n",
    "    for i, page in enumerate(pages):\n",
    "        # Convert each PDF page to a grayscale image\n",
    "        grayscale = cv2.cvtColor(np.array(page), cv2.COLOR_RGB2GRAY)\n",
    "\n",
    "        background = grayscale.copy()\n",
    "        for j in range(5):\n",
    "            kernel_size = 2 * j + 1\n",
    "            kernel = cv2.getStructuringElement(\n",
    "                cv2.MORPH_ELLIPSE, (kernel_size, kernel_size)\n",
    "            )\n",
    "            background = cv2.morphologyEx(background, cv2.MORPH_CLOSE, kernel)\n",
    "            background = cv2.morphologyEx(background, cv2.MORPH_OPEN, kernel)\n",
    "\n",
    "        # Apply watermark removal\n",
    "        binary = apply_watermark_removal(grayscale, background)\n",
    "\n",
    "        # Save the watermark-removed image\n",
    "        output_filename = f\"{pdf_filename}_no_watermark_{i}.jpg\"\n",
    "        cv2.imwrite(output_filename, binary)\n",
    "        processed_pages.append(output_filename)\n",
    "\n",
    "    # Convert the watermark-removed images into a new PDF\n",
    "    pdf_output_filename = f\"{pdf_filename}_no_watermark.pdf\"\n",
    "    with open(pdf_output_filename, \"wb\") as f:\n",
    "        imgs = [open(i, \"rb\").read() for i in processed_pages]\n",
    "        f.write(img2pdf.convert(imgs))\n",
    "\n",
    "    # Remove the temporary image files\n",
    "    for p in processed_pages:\n",
    "        os.remove(p)\n",
    "\n",
    "\n",
    "def remove_watermark_image(filename: str) -> None:\n",
    "    \"\"\"\n",
    "    Remove watermark from an image and save the watermark-removed image.\n",
    "\n",
    "    Parameters:\n",
    "        filename (str): The path to the input image file.\n",
    "    \"\"\"\n",
    "    image = cv2.imread(filename)\n",
    "    grayscale = cv2.cvtColor(image, cv2.COLOR_BGR2GRAY)\n",
    "\n",
    "    background = grayscale.copy()\n",
    "    kernel_size = 5\n",
    "    kernel = cv2.getStructuringElement(cv2.MORPH_ELLIPSE, (kernel_size, kernel_size))\n",
    "    background = cv2.morphologyEx(background, cv2.MORPH_CLOSE, kernel)\n",
    "    background = cv2.morphologyEx(background, cv2.MORPH_OPEN, kernel)\n",
    "\n",
    "    # Apply watermark removal\n",
    "    binary = apply_watermark_removal(grayscale, background)\n",
    "\n",
    "    # Save the watermark-removed image\n",
    "    output_filename = f\"{filename}_no_watermark.jpg\"\n",
    "    cv2.imwrite(output_filename, binary, [cv2.IMWRITE_JPEG_QUALITY, 100])\n",
    "\n",
    "    print(f\"Watermark removed. Output image saved as {output_filename}\")"
   ]
  },
  {
   "cell_type": "markdown",
   "metadata": {},
   "source": [
    "## Call the functions\n",
    "\n",
    "After calling the function with the desired PDF/Image, it will generate a new PDF/Image file without the watermark, which will be saved with a modified filename.\n",
    "Feel free to customize the code to suit your needs."
   ]
  },
  {
   "cell_type": "code",
   "execution_count": null,
   "metadata": {},
   "outputs": [],
   "source": [
    "remove_watermark_pdf(\"./sample-files/input1.pdf\")\n",
    "remove_watermark_image(\"./sample-files/input3.png\")"
   ]
  },
  {
   "cell_type": "markdown",
   "metadata": {},
   "source": [
    "## Results\n",
    "\n",
    "Input PDF             |  Output PDF\n",
    ":-------------------------:|:-------------------------:\n",
    "![Input 1](./sample-files/input1.jpg)   |  ![Output 1](./sample-files/output1.jpg)\n",
    "![Input 2](./sample-files/input2.png)   |  ![Output 2](./sample-files/output2.jpg)\n",
    "![Input 3](./sample-files/input3.png)   |  ![Output 3](./sample-files/output3.png)"
   ]
  }
 ],
 "metadata": {
  "kernelspec": {
   "display_name": "Python 3",
   "language": "python",
   "name": "python3"
  },
  "language_info": {
   "codemirror_mode": {
    "name": "ipython",
    "version": 3
   },
   "file_extension": ".py",
   "mimetype": "text/x-python",
   "name": "python",
   "nbconvert_exporter": "python",
   "pygments_lexer": "ipython3",
   "version": "3.11.4"
  },
  "orig_nbformat": 4
 },
 "nbformat": 4,
 "nbformat_minor": 2
}
