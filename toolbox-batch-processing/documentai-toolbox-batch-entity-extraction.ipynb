{
 "cells": [
  {
   "cell_type": "code",
   "execution_count": null,
   "id": "1ouFwNhyEWPf",
   "metadata": {
    "id": "1ouFwNhyEWPf"
   },
   "outputs": [],
   "source": [
    "%pip install --upgrade google-cloud-documentai google-cloud-documentai-toolbox pandas --user"
   ]
  },
  {
   "cell_type": "code",
   "execution_count": null,
   "id": "Sh1oolV7Mael",
   "metadata": {
    "id": "Sh1oolV7Mael"
   },
   "outputs": [],
   "source": [
    "!gcloud auth application-default login"
   ]
  },
  {
   "cell_type": "code",
   "execution_count": 6,
   "id": "x9hTHkFrX_5N",
   "metadata": {
    "executionInfo": {
     "elapsed": 257,
     "status": "ok",
     "timestamp": 1694541469217,
     "user": {
      "displayName": "",
      "userId": ""
     },
     "user_tz": 300
    },
    "id": "x9hTHkFrX_5N"
   },
   "outputs": [],
   "source": [
    "from typing import List, Optional\n",
    "\n",
    "# https://googleapis.dev/python/google-api-core/latest/client_options.html\n",
    "from google.api_core.client_options import ClientOptions\n",
    "\n",
    "# https://cloud.google.com/python/docs/reference/documentai/latest\n",
    "from google.cloud import documentai\n",
    "\n",
    "# https://cloud.google.com/document-ai/docs/toolbox\n",
    "from google.cloud import documentai_toolbox\n",
    "\n",
    "import pandas as pd\n",
    "from tabulate import tabulate"
   ]
  },
  {
   "cell_type": "code",
   "execution_count": null,
   "id": "7DSQUZl7wtY8",
   "metadata": {
    "id": "7DSQUZl7wtY8"
   },
   "outputs": [],
   "source": [
    "# TODO(developer): Fill these variables before running the sample.\n",
    "project_id = \"YOUR_PROJECT_ID\"\n",
    "location = \"us\"  # Format is \"us\" or \"eu\"\n",
    "processor_id = \"YOUR_PROCESSOR_ID\"  # Create processor before running sample\n",
    "processor_version_id = \"YOUR_PROCESSOR_VERSION_ID\"\n",
    "\n",
    "gcs_input_uri = \"YOUR_INPUT_BUCKET\"  # Format: `gs://bucket/directory/`\n",
    "gcs_output_uri = \"YOUR_OUTPUT_BUCKET\"  # Must end with a trailing slash `/`. Format: `gs://bucket/directory/subdirectory/`\n",
    "\n",
    "batch_size = 1000\n",
    "field_mask = \"text,entities,pages.pageNumber\"  # Optional. The fields to return in the Document object."
   ]
  },
  {
   "cell_type": "markdown",
   "id": "3Iaq7M5MvkqG",
   "metadata": {
    "id": "3Iaq7M5MvkqG"
   },
   "source": [
    "## Batch Processing\n",
    "\n",
    "- Create batches of 1000 documents in Google Cloud Storage.\n",
    "- Make a batch processing request for each batch.\n",
    "- Get long-running operation ID for each request."
   ]
  },
  {
   "cell_type": "code",
   "execution_count": 5,
   "id": "35856bf2-aa5e-436b-977a-9e5725b1a595",
   "metadata": {
    "executionInfo": {
     "elapsed": 3,
     "status": "ok",
     "timestamp": 1694541463780,
     "user": {
      "displayName": "",
      "userId": ""
     },
     "user_tz": 300
    },
    "id": "35856bf2-aa5e-436b-977a-9e5725b1a595",
    "trusted": true
   },
   "outputs": [],
   "source": [
    "def batch_process_toolbox(\n",
    "    project_id: str,\n",
    "    location: str,\n",
    "    processor_id: str,\n",
    "    processor_version_id: str,\n",
    "    gcs_input_uri: str,\n",
    "    gcs_output_uri: str,\n",
    "    batch_size: int,\n",
    "    field_mask: Optional[str] = None,\n",
    "    skip_human_review: bool = True,\n",
    ") -> List[str]:\n",
    "    client = documentai.DocumentProcessorServiceClient(\n",
    "        client_options=ClientOptions(\n",
    "            api_endpoint=f\"{location}-documentai.googleapis.com\"\n",
    "        )\n",
    "    )\n",
    "\n",
    "    # The full resource name of the processor version, e.g.:\n",
    "    # projects/{project_id}/locations/{location}/processors/{processor_id}/processorVersions/{processor_version_id}\n",
    "    name = client.processor_version_path(\n",
    "        project_id, location, processor_id, processor_version_id\n",
    "    )\n",
    "\n",
    "    # Cloud Storage URI for the Output Directory\n",
    "    output_config = documentai.DocumentOutputConfig(\n",
    "        gcs_output_config=documentai.DocumentOutputConfig.GcsOutputConfig(\n",
    "            gcs_uri=gcs_output_uri, field_mask=field_mask\n",
    "        )\n",
    "    )\n",
    "\n",
    "    # Create batches of documents for processing\n",
    "    # https://cloud.google.com/python/docs/reference/documentai-toolbox/latest/google.cloud.documentai_toolbox.utilities.gcs_utilities\n",
    "    gcs_bucket_name, gcs_prefix = documentai_toolbox.gcs_utilities.split_gcs_uri(\n",
    "        gcs_input_uri\n",
    "    )\n",
    "    batches = documentai_toolbox.gcs_utilities.create_batches(\n",
    "        gcs_bucket_name, gcs_prefix, batch_size=batch_size\n",
    "    )\n",
    "\n",
    "    operation_names: List[str] = []\n",
    "\n",
    "    print(f\"{len(batches)} batches created.\")\n",
    "    for batch in batches:\n",
    "        print(f\"{len(batch.gcs_documents.documents)} files in batch.\")\n",
    "        print(batch.gcs_documents.documents)\n",
    "        request = documentai.BatchProcessRequest(\n",
    "            name=name,\n",
    "            input_documents=batch,\n",
    "            document_output_config=output_config,\n",
    "            skip_human_review=skip_human_review,\n",
    "        )\n",
    "\n",
    "        # https://cloud.google.com/document-ai/docs/send-request?hl=en#async-processor\n",
    "        # `batch_process_documents()` returns a Long Running Operation (LRO)\n",
    "        operation = client.batch_process_documents(request)\n",
    "        # Operation Name Format: `projects/{project_id}/locations/{location}/operations/{operation_id}`\n",
    "        operation_names.append(operation.operation.name)\n",
    "\n",
    "    return operation_names"
   ]
  },
  {
   "cell_type": "markdown",
   "id": "op0ZCWTIwDgR",
   "metadata": {
    "id": "op0ZCWTIwDgR"
   },
   "source": [
    "## Retrieve results once processing is complete\n",
    "\n",
    "- Get output [`Document`](https://cloud.google.com/document-ai/docs/reference/rest/v1/Document) JSON files from `gcs_output_bucket` based on the Operation ID."
   ]
  },
  {
   "cell_type": "code",
   "execution_count": null,
   "id": "2-KpEaoRwEHv",
   "metadata": {
    "id": "2-KpEaoRwEHv"
   },
   "outputs": [],
   "source": [
    "def retrieve_results(\n",
    "    operation_names: List[str],\n",
    ") -> List[documentai_toolbox.document.Document]:\n",
    "    # Can do this asynchronously to avoid blocking\n",
    "    all_documents: List[documentai_toolbox.document.Document] = []\n",
    "\n",
    "    for operation in operation_names:\n",
    "        # https://cloud.google.com/document-ai/docs/long-running-operations\n",
    "        print(f\"Waiting for operation {operation}\")\n",
    "        documents: List = (\n",
    "            documentai_toolbox.document.Document.from_batch_process_operation(\n",
    "                location=location, operation_name=operation\n",
    "            )\n",
    "        )\n",
    "        all_documents.extend(documents)\n",
    "    return all_documents"
   ]
  },
  {
   "cell_type": "markdown",
   "id": "445FQsfrwc4N",
   "metadata": {
    "id": "445FQsfrwc4N"
   },
   "source": [
    "## Print results\n",
    "\n",
    "- Export extracted entities as dictionary\n",
    "- Load into Pandas DataFrame\n",
    "- Print Dataframe"
   ]
  },
  {
   "cell_type": "code",
   "execution_count": 7,
   "id": "KxVFCVNVLLwW",
   "metadata": {
    "colab": {
     "base_uri": "https://localhost:8080/"
    },
    "executionInfo": {
     "elapsed": 2604,
     "status": "ok",
     "timestamp": 1694541481158,
     "user": {
      "displayName": "",
      "userId": ""
     },
     "user_tz": 300
    },
    "id": "KxVFCVNVLLwW",
    "outputId": "2ada6f15-b774-4f55-fa73-b0e7064cd437"
   },
   "outputs": [
    {
     "name": "stdout",
     "output_type": "stream",
     "text": [
      "Waiting for operation projects/908687846511/locations/us/operations/10629941502076889990\n",
      "+----+----------------------------------------------+------------------+----------------------------+------------------------------------+-----------------------+----------------+\n",
      "|    | contract_title                               | execution_date   | jurisdiction_governed_by   | legal_parties                      | renewal_term_length   | term_length    |\n",
      "|----+----------------------------------------------+------------------+----------------------------+------------------------------------+-----------------------+----------------|\n",
      "|  0 | WORLDWIDE LICENSE AND DISTRIBUTION AGREEMENT | August 6, 2015   | New York.                  | ['Cymbal Inc.', 'B-Cafetal, Inc.'] | five (5) year         | Ten (10) years |\n",
      "+----+----------------------------------------------+------------------+----------------------------+------------------------------------+-----------------------+----------------+\n"
     ]
    }
   ],
   "source": [
    "operation_names = batch_process_toolbox(\n",
    "    project_id,\n",
    "    location,\n",
    "    processor_id,\n",
    "    processor_version_id,\n",
    "    gcs_input_uri,\n",
    "    gcs_output_uri,\n",
    "    batch_size,\n",
    "    field_mask,\n",
    ")\n",
    "\n",
    "documents = retrieve_results(operation_names)\n",
    "\n",
    "for document in documents:\n",
    "    # https://cloud.google.com/python/docs/reference/documentai-toolbox/latest/google.cloud.documentai_toolbox.wrappers.document.Document#google_cloud_documentai_toolbox_wrappers_document_Document_entities_to_dict\n",
    "    entities = document.entities_to_dict()\n",
    "    # Optional: Export to BQ\n",
    "    # job = document.entities_to_bigquery(dataset_name, table_name, project_id=project_id)\n",
    "\n",
    "    df = pd.DataFrame([entities])\n",
    "\n",
    "    print(tabulate(df, headers=\"keys\", tablefmt=\"psql\"))"
   ]
  }
 ],
 "metadata": {
  "colab": {
   "provenance": []
  },
  "kernelspec": {
   "display_name": "Python 3 (ipykernel)",
   "language": "python",
   "name": "python3"
  },
  "language_info": {
   "codemirror_mode": {
    "name": "ipython",
    "version": 3
   },
   "file_extension": ".py",
   "mimetype": "text/x-python",
   "name": "python",
   "nbconvert_exporter": "python",
   "pygments_lexer": "ipython3",
   "version": "3.10.4"
  }
 },
 "nbformat": 4,
 "nbformat_minor": 5
}
