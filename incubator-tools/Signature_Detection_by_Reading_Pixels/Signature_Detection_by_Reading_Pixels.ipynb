{
 "cells": [
  {
   "cell_type": "markdown",
   "id": "9e85a194-0213-4cdf-8ef5-e2881e1bec82",
   "metadata": {},
   "source": [
    "# Signature Detection by Reading Pixels"
   ]
  },
  {
   "cell_type": "markdown",
   "id": "43bf4ff2-07ed-4ac7-ae44-a46fa1787e32",
   "metadata": {},
   "source": [
    "* Author: docai-incubator@google.com"
   ]
  },
  {
   "cell_type": "markdown",
   "id": "d2816c25-63ef-4eef-b8be-67fb26143bf1",
   "metadata": {},
   "source": [
    "## Disclaimer\n",
    "\n",
    "This tool is not supported by the Google engineering team or product team. It is provided and supported on a best-effort basis by the **DocAI Incubator Team**. No guarantees of performance are implied."
   ]
  },
  {
   "cell_type": "markdown",
   "id": "66421d48-10ca-4d5e-b15a-b1824e2cb322",
   "metadata": {
    "tags": []
   },
   "source": [
    "## Objective\n",
    "\n",
    "This documentation outlines the procedure for detecting the signature in the document by taking normalized bounding box coordinates of signature location.While using this code, the user needs to set two values while calling the function a) BlankLine Pixel count b)  Signature Pixel Count (only for the black pixels)."
   ]
  },
  {
   "cell_type": "markdown",
   "id": "10084235-de4c-41cc-b865-774333ecc52c",
   "metadata": {},
   "source": [
    "## Prerequisites\n",
    "* Access to vertex AI Notebook or Google Colab\n",
    "* Python\n",
    "* Python Libraries like cv2, PIL, base64, io, numpy etc."
   ]
  },
  {
   "cell_type": "markdown",
   "id": "63e44eef-dfe6-42eb-b020-ddf869a9895b",
   "metadata": {
    "tags": []
   },
   "source": [
    "## Step by Step procedure "
   ]
  },
  {
   "cell_type": "markdown",
   "id": "b63bcd46-7aaa-4fe0-b57a-5c504cb0d42b",
   "metadata": {},
   "source": [
    "### 1.Importing Required Modules"
   ]
  },
  {
   "cell_type": "code",
   "execution_count": null,
   "id": "599e5532-788d-43cd-889a-94bb2370523d",
   "metadata": {
    "tags": []
   },
   "outputs": [],
   "source": [
    "!wget https://raw.githubusercontent.com/GoogleCloudPlatform/document-ai-samples/main/incubator-tools/best-practices/utilities/utilities.py"
   ]
  },
  {
   "cell_type": "code",
   "execution_count": null,
   "id": "acba8014-28da-4d0c-896f-7048e68eea4c",
   "metadata": {
    "tags": []
   },
   "outputs": [],
   "source": [
    "import io\n",
    "from io import BytesIO\n",
    "import base64\n",
    "import numpy as np\n",
    "import json\n",
    "import cv2\n",
    "from PIL import Image, ImageDraw, ImageFont\n",
    "from typing import Any, Dict, List, Optional, Sequence, Tuple, Union"
   ]
  },
  {
   "cell_type": "markdown",
   "id": "4d9061e0-39e1-4d89-ab2b-93ebd5da3b54",
   "metadata": {
    "tags": []
   },
   "source": [
    "### 2.Setup the inputs"
   ]
  },
  {
   "cell_type": "code",
   "execution_count": null,
   "id": "69b998ae-cf93-4dc4-a71e-01dcf4d2d9d6",
   "metadata": {
    "tags": []
   },
   "outputs": [],
   "source": [
    "# Path to the JSON file containing OCR data\n",
    "json_file_path = \"Handwritten_1-0.json\"\n",
    "\n",
    "# The text anchor indicating where the applicant's signature starts\n",
    "start_anchor_text = \"Applicant's Signature:\"\n",
    "\n",
    "# The text anchor indicating where the signature area ends or 'None' if not specified\n",
    "end_anchor_text = \"Date:\"  # Change to None if there is no end anchor\n",
    "\n",
    "# Factor by which the bounding box's height should exceed the height of the start anchor text\n",
    "# If None, the maximum height of the start anchor text bounding box will be used\n",
    "height_of_signature_bbox = (\n",
    "    3  # Example: 3 times the height of the start anchor text bbox\n",
    ")\n",
    "\n",
    "# Factor by which the bounding box's length should be extented\n",
    "# If None, an end anchor text must be provided to determine the length\n",
    "length_of_signature_bbox = (\n",
    "    1.5  # Example: 1.5 times the Width of the start anchor text bbox\n",
    ")\n",
    "\n",
    "# Number of blank pixels that define a blank line in the signature area\n",
    "blankLinePixelCount = 600  # Adjust value based on image resolution and clarity\n",
    "\n",
    "# Minimum number of pixels that define the presence of a signature\n",
    "signatureThresholdPixelCount = 1200  # Adjust value based on image density and size"
   ]
  },
  {
   "cell_type": "markdown",
   "id": "941ee67a-47ca-4245-979d-037dc1012c6c",
   "metadata": {},
   "source": [
    "### 3.Run the required functions"
   ]
  },
  {
   "cell_type": "code",
   "execution_count": null,
   "id": "a558973a-d1c6-4c10-8701-d4c1e1ca5f55",
   "metadata": {
    "tags": []
   },
   "outputs": [],
   "source": [
    "def get_start_and_end_index(json_data: dict, anchor_text: str) -> tuple[int, int]:\n",
    "    \"\"\"\n",
    "    Finds the start and end index of the given anchor text in the document JSON.\n",
    "\n",
    "    Args:\n",
    "        json_data (dict): The JSON data containing the document text.\n",
    "        anchor_text (str): The anchor text whose start and end indices need to be found.\n",
    "\n",
    "    Returns:\n",
    "        tuple[int, int]: The start and end index of the anchor text.\n",
    "    \"\"\"\n",
    "    start_index = json_data[\"text\"].find(anchor_text)\n",
    "    end_index = start_index + len(anchor_text)\n",
    "    return start_index, end_index\n",
    "\n",
    "\n",
    "def calculate_new_bbox(\n",
    "    start_anchor_coords: dict,\n",
    "    end_anchor_coords: dict,\n",
    "    height_of_signature_bbox: float = None,\n",
    ") -> dict:\n",
    "    \"\"\"\n",
    "    Calculates a new bounding box between two anchor coordinates.\n",
    "\n",
    "    Args:\n",
    "        start_anchor_coords (dict): The coordinates of the start anchor.\n",
    "        end_anchor_coords (dict): The coordinates of the end anchor.\n",
    "        height_of_signature_bbox (float, optional): The height of the signature bounding box. If not provided, the maximum height of the anchors is used.\n",
    "\n",
    "    Returns:\n",
    "        dict: The new bounding box coordinates with min_x, min_y, max_x, and max_y.\n",
    "    \"\"\"\n",
    "    new_min_x = start_anchor_coords[\"max_x\"]\n",
    "    new_max_x = end_anchor_coords[\"min_x\"]\n",
    "    start_anchor_height = start_anchor_coords[\"max_y\"] - start_anchor_coords[\"min_y\"]\n",
    "    end_anchor_height = end_anchor_coords[\"max_y\"] - end_anchor_coords[\"min_y\"]\n",
    "    if height_of_signature_bbox is not None:\n",
    "        new_height = height_of_signature_bbox * start_anchor_height\n",
    "    else:\n",
    "        new_height = max(start_anchor_height, end_anchor_height)\n",
    "    average_min_y = (start_anchor_coords[\"min_y\"] + end_anchor_coords[\"min_y\"]) / 2\n",
    "    new_min_y = average_min_y - new_height / 2\n",
    "    new_max_y = average_min_y + new_height / 2\n",
    "    return {\n",
    "        \"min_x\": new_min_x,\n",
    "        \"min_y\": new_min_y,\n",
    "        \"max_x\": new_max_x,\n",
    "        \"max_y\": new_max_y,\n",
    "    }\n",
    "\n",
    "\n",
    "def detect_signature(\n",
    "    json_data: dict,\n",
    "    coords: dict,\n",
    "    blankLinePixelCount: int,\n",
    "    signatureThresholdPixelCount: int,\n",
    ") -> bool:\n",
    "    \"\"\"\n",
    "    Detects if a signature is present in the bounding box region.\n",
    "\n",
    "    Args:\n",
    "        json_data (dict): The JSON data containing the document pages.\n",
    "        coords (dict): Coordinates of the region to be checked for a signature.\n",
    "        blankLinePixelCount (int): The threshold number of blank pixels considered as a blank line.\n",
    "        signatureThresholdPixelCount (int): The minimum number of black pixels required to detect a signature.\n",
    "\n",
    "    Returns:\n",
    "        bool: True if a signature is detected, False otherwise.\n",
    "    \"\"\"\n",
    "    image_data = json_data[\"pages\"][0][\"image\"][\"content\"]\n",
    "    image_bytes = base64.b64decode(image_data)\n",
    "    image = Image.open(io.BytesIO(image_bytes))\n",
    "    width, height = image.size\n",
    "    min_x = int(coords[\"min_x\"] * width)\n",
    "    min_y = int(coords[\"min_y\"] * height)\n",
    "    max_x = int(coords[\"max_x\"] * width)\n",
    "    max_y = int(coords[\"max_y\"] * height)\n",
    "    cropped_image = image.crop((min_x, min_y, max_x, max_y))\n",
    "    cropped_image.save(\"cropped.jpeg\")\n",
    "    cropped_img = cv2.imread(\"cropped.jpeg\", 0)\n",
    "    _, cropped_bw_image = cv2.threshold(cropped_img, 127, 255, cv2.THRESH_BINARY)\n",
    "    pixel_value, occurrence = np.unique(cropped_bw_image, return_counts=True)\n",
    "    d = dict(zip(pixel_value, occurrence))\n",
    "    print(d)\n",
    "    cropped_black_pixel = d.get(0, 0)\n",
    "    if (\n",
    "        cropped_black_pixel > blankLinePixelCount\n",
    "        and cropped_black_pixel > signatureThresholdPixelCount\n",
    "    ):\n",
    "        print(\"Signature Detected\")\n",
    "        return True\n",
    "    else:\n",
    "        print(\"No Signature Detected\")\n",
    "        return False\n",
    "\n",
    "\n",
    "def visualize(json_data: dict, coords: dict, signature_present: bool) -> None:\n",
    "    \"\"\"\n",
    "    Visualizes the bounding box for the detected signature on the image.\n",
    "\n",
    "    Args:\n",
    "        json_data (dict): The JSON data containing the document pages.\n",
    "        coords (dict): Coordinates of the bounding box to visualize.\n",
    "        signature_present (bool): Whether a signature was detected (True) or not (False).\n",
    "\n",
    "    Returns:\n",
    "        None\n",
    "    \"\"\"\n",
    "    image_data = json_data[\"pages\"][0][\"image\"][\"content\"]\n",
    "    image_bytes = base64.b64decode(image_data)\n",
    "    image = Image.open(io.BytesIO(image_bytes))\n",
    "    draw = ImageDraw.Draw(image)\n",
    "    width, height = image.size\n",
    "    min_x = coords[\"min_x\"] * width\n",
    "    min_y = coords[\"min_y\"] * height\n",
    "    max_x = coords[\"max_x\"] * width\n",
    "    max_y = coords[\"max_y\"] * height\n",
    "    polygon = [(min_x, min_y), (max_x, min_y), (max_x, max_y), (min_x, max_y)]\n",
    "    if signature_present == True:\n",
    "        color = \"green\"\n",
    "    else:\n",
    "        color = \"red\"\n",
    "    draw.polygon(polygon, outline=color, width=6)\n",
    "    display(image)\n",
    "\n",
    "\n",
    "def get_token(json_dict: dict, page: int, start_index: int, end_index: int) -> dict:\n",
    "    \"\"\"\n",
    "    Retrieves the bounding box for the tokens within a given text segment range.\n",
    "\n",
    "    Args:\n",
    "        json_dict (dict): The JSON data containing page and token information.\n",
    "        page (int): The page number to extract tokens from.\n",
    "        start_index (int): The starting index of the text segment.\n",
    "        end_index (int): The ending index of the text segment.\n",
    "\n",
    "    Returns:\n",
    "        dict: A dictionary containing the bounding box coordinates (min_x, min_y, max_x, max_y).\n",
    "    \"\"\"\n",
    "    temp_xy = {\"x\": [], \"y\": []}\n",
    "    start_check = start_index - 2\n",
    "    end_check = end_index + 2\n",
    "\n",
    "    for token in json_dict[\"pages\"][page][\"tokens\"]:\n",
    "        text_segments = token[\"layout\"][\"textAnchor\"].get(\"textSegments\", [])\n",
    "\n",
    "        for segment in text_segments:\n",
    "            start_temp = int(segment.get(\"startIndex\", \"0\"))\n",
    "            end_temp = int(segment[\"endIndex\"])\n",
    "\n",
    "            if (\n",
    "                start_temp >= start_check\n",
    "                and end_temp <= end_check\n",
    "                and (end_temp - start_temp) > 3\n",
    "            ):\n",
    "                normalized_vertices = token[\"layout\"][\"boundingPoly\"][\n",
    "                    \"normalizedVertices\"\n",
    "                ]\n",
    "                for vertex in normalized_vertices:\n",
    "                    temp_xy[\"x\"].append(vertex.get(\"x\", 0))\n",
    "                    temp_xy[\"y\"].append(vertex.get(\"y\", 0))\n",
    "\n",
    "    min_x = min(temp_xy[\"x\"], default=None)\n",
    "    min_y = min(temp_xy[\"y\"], default=None)\n",
    "    max_x = max(temp_xy[\"x\"], default=None)\n",
    "    max_y = max(temp_xy[\"y\"], default=None)\n",
    "\n",
    "    return {\"min_x\": min_x, \"min_y\": min_y, \"max_x\": max_x, \"max_y\": max_y}\n",
    "\n",
    "\n",
    "def calc_arbitrary_bbox_coords(start_anchor_coords: dict) -> dict:\n",
    "    \"\"\"\n",
    "    Calculates arbitrary bounding box coordinates based on the start anchor coordinates and provided height/length ratios.\n",
    "\n",
    "    Args:\n",
    "        start_anchor_coords (dict): Coordinates of the start anchor.\n",
    "    Returns:\n",
    "        dict: New bounding box coordinates.\n",
    "    \"\"\"\n",
    "    current_height = start_anchor_coords[\"max_y\"] - start_anchor_coords[\"min_y\"]\n",
    "    current_width = start_anchor_coords[\"max_x\"] - start_anchor_coords[\"min_x\"]\n",
    "    new_height = height_of_signature_bbox * current_height\n",
    "    new_length = length_of_signature_bbox * current_width\n",
    "    new_box_coords = {\n",
    "        \"min_x\": start_anchor_coords[\"max_x\"],\n",
    "        \"min_y\": start_anchor_coords[\"min_y\"] - new_height / 2,\n",
    "        \"max_x\": start_anchor_coords[\"max_x\"] + new_length,\n",
    "        \"max_y\": start_anchor_coords[\"max_y\"] + new_height / 2,\n",
    "    }\n",
    "    return new_box_coords"
   ]
  },
  {
   "cell_type": "markdown",
   "id": "a995c3a3-3119-464f-a681-7b7bf97d8ee8",
   "metadata": {
    "tags": []
   },
   "source": [
    "### 4.Run the code"
   ]
  },
  {
   "cell_type": "code",
   "execution_count": null,
   "id": "a9e764c9-aa89-4c96-86ea-46485ed93d03",
   "metadata": {
    "tags": []
   },
   "outputs": [],
   "source": [
    "with open(json_file_path, \"r\") as f:\n",
    "    json_data = json.load(f)\n",
    "\n",
    "start_anchor_start_index, start_anchor_end_index = get_start_and_end_index(\n",
    "    json_data, start_anchor_text\n",
    ")\n",
    "start_anchor_coords = get_token(\n",
    "    json_data, 0, start_anchor_start_index, start_anchor_end_index\n",
    ")\n",
    "\n",
    "if end_anchor_text is None:\n",
    "    signature_bbox_coords = calc_arbitrary_bbox_coords(start_anchor_coords)\n",
    "else:\n",
    "    end_anchor_start_index, end_anchor_end_index = get_start_and_end_index(\n",
    "        json_data, end_anchor_text\n",
    "    )\n",
    "    end_anchor_coords = get_token(\n",
    "        json_data, 0, end_anchor_start_index, end_anchor_end_index\n",
    "    )\n",
    "    signature_bbox_coords = calculate_new_bbox(\n",
    "        start_anchor_coords, end_anchor_coords, height_of_signature_bbox\n",
    "    )\n",
    "\n",
    "signature_present = detect_signature(\n",
    "    json_data, signature_bbox_coords, blankLinePixelCount, signatureThresholdPixelCount\n",
    ")\n",
    "# Comment the Below Line if you dont want to Visualize the Output.\n",
    "visualize(json_data, signature_bbox_coords, signature_present)"
   ]
  },
  {
   "cell_type": "markdown",
   "id": "e0ade4c4-4859-4cf1-a4a9-dc77ac9c11bb",
   "metadata": {},
   "source": [
    "### 5.Output\n",
    "\n",
    "Upon executing the above code, the bounding box for the signature is configured and set based on the provided parameters. The output will display the region of the image designated as the signature bounding box, and indicate whether a signature has been detected within that region.\n"
   ]
  },
  {
   "cell_type": "markdown",
   "id": "3d636593-1afa-4c44-bc5e-ab09b7421600",
   "metadata": {},
   "source": [
    "<img src=\"./Images/image_output.png\" width=800 height=400 ></img>"
   ]
  },
  {
   "cell_type": "code",
   "execution_count": null,
   "id": "9fcbcfa2-1875-4f96-a8b4-56748d9f12a2",
   "metadata": {},
   "outputs": [],
   "source": []
  }
 ],
 "metadata": {
  "environment": {
   "kernel": "conda-base-py",
   "name": "workbench-notebooks.m125",
   "type": "gcloud",
   "uri": "us-docker.pkg.dev/deeplearning-platform-release/gcr.io/workbench-notebooks:m125"
  },
  "kernelspec": {
   "display_name": "Python 3 (ipykernel) (Local)",
   "language": "python",
   "name": "conda-base-py"
  },
  "language_info": {
   "codemirror_mode": {
    "name": "ipython",
    "version": 3
   },
   "file_extension": ".py",
   "mimetype": "text/x-python",
   "name": "python",
   "nbconvert_exporter": "python",
   "pygments_lexer": "ipython3",
   "version": "3.10.15"
  }
 },
 "nbformat": 4,
 "nbformat_minor": 5
}
