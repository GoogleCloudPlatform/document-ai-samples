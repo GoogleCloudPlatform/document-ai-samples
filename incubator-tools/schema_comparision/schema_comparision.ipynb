{
 "cells": [
  {
   "cell_type": "markdown",
   "id": "5d534c1e",
   "metadata": {},
   "source": [
    "# Schema Comparison Tool"
   ]
  },
  {
   "cell_type": "markdown",
   "id": "c2c362fd-1276-45f3-8979-a121f70b087e",
   "metadata": {},
   "source": [
    "* Author: docai-incubator@google.com"
   ]
  },
  {
   "cell_type": "markdown",
   "id": "b874baf1-d26c-4d10-87c2-38a12082c8de",
   "metadata": {},
   "source": [
    "# Disclaimer\n",
    "\n",
    "This tool is not supported by the Google engineering team or product team. It is provided and supported on a best-effort basis by the **DocAI Incubator Team**. No guarantees of performance are implied."
   ]
  },
  {
   "cell_type": "markdown",
   "id": "e10c3b81-eb2a-4972-b6b3-ead07eabed70",
   "metadata": {},
   "source": [
    "# Objective\n",
    "This tool compare the schemas of a pretrained “base” processor and a customer’s custom schema for uptraining, to highlight the differences in an easily readable (color-coded) format. \n",
    "\n",
    "This provides the information needed to correct 400 INVALID ARGUMENT errors encountered during Uptraining via Notebook. The schema given in the Uptraining notebook MUST be consistent with the base processor (no changes to base processor fields).  Additional custom fields are allowed, and base processor fields may be excluded.\n",
    "\n",
    "\n",
    "Since the base version schema of each processor is fixed, the tool has the preloaded base version schema of 3 parsers as Below.\n",
    "1. Invoice Parser\n",
    "2. Purchase Order Parser\n",
    "3. Contract Parser\n",
    "\n",
    "\n",
    "The customer’s Uptrained schema json file has to be given as input into this tool.  The user must copy this from their notebook before using this tool, and save it to a text file with a .json extension.\n",
    "The Tool shows clear differences between the two schemas with color coding."
   ]
  },
  {
   "cell_type": "markdown",
   "id": "81d4628f-6e63-4565-ad65-85d0dfe7be0e",
   "metadata": {},
   "source": [
    "# Prerequisites \n",
    "1. Python : Jupyter notebook (Vertex) or Google Colab \n",
    "\n",
    "    No permissions, reference or access to any Google project is needed.\n",
    "\n",
    "2. Valid Schema which either has to be in latent(old) type or New schema type.\n",
    "\n",
    "**NOTE**:Mix of both the schema patterns wont work with this tool.\n"
   ]
  },
  {
   "cell_type": "markdown",
   "id": "a3090516",
   "metadata": {},
   "source": [
    "## Imports\n",
    "\n",
    "Import necessary Python packages required for processing the JSON schemas.\n"
   ]
  },
  {
   "cell_type": "code",
   "execution_count": 32,
   "id": "e6ea7175",
   "metadata": {},
   "outputs": [],
   "source": [
    "import json\n",
    "import pandas as pd\n",
    "from jsondiff import diff"
   ]
  },
  {
   "cell_type": "markdown",
   "id": "b653a123",
   "metadata": {},
   "source": [
    "## User Input\n",
    "\n",
    "Prompt the user for input to determine the type of processor to be used.\n"
   ]
  },
  {
   "cell_type": "code",
   "execution_count": 46,
   "id": "cc5fe1e2",
   "metadata": {},
   "outputs": [
    {
     "name": "stdin",
     "output_type": "stream",
     "text": [
      "Processor name 'I' for Invoice, 'P' for Purchase Order, or 'C' for Contract:  C\n"
     ]
    }
   ],
   "source": [
    "# Prompt for user input\n",
    "parser = input(\n",
    "    \"Processor name 'I' for Invoice, 'P' for Purchase Order, or 'C' for Contract: \"\n",
    ").upper()"
   ]
  },
  {
   "cell_type": "markdown",
   "id": "04dfe263",
   "metadata": {},
   "source": [
    "## Load Schema\n",
    "1. **Copy your schema into the json file. Refer the sample schema.json for example.**\n",
    "\n",
    "Load and map the base schema depending on the user input."
   ]
  },
  {
   "cell_type": "code",
   "execution_count": 62,
   "id": "56818ccf-735e-492d-9170-61c7e89a7306",
   "metadata": {},
   "outputs": [],
   "source": [
    "import json\n",
    "\n",
    "\n",
    "def load_schema(parser_type):\n",
    "    # Map the parser types to their respective file names\n",
    "    schema_files = {\n",
    "        \"I\": \"invoice_schema.json\",\n",
    "        \"P\": \"purchase_order_schema.json\",\n",
    "        \"C\": \"contract_schema.json\",\n",
    "    }\n",
    "\n",
    "    file_name = schema_files.get(parser_type)\n",
    "    if not file_name:\n",
    "        raise ValueError(\"Invalid parser type\")\n",
    "\n",
    "    with open(file_name, \"r\") as file:\n",
    "        schemas = json.load(file)\n",
    "    top_level_key = next(iter(schemas))\n",
    "    return schemas[top_level_key]\n",
    "\n",
    "\n",
    "Base_schema = load_schema(parser)\n",
    "# print(Base_schema)"
   ]
  },
  {
   "cell_type": "markdown",
   "id": "a6139434-4952-4988-84fb-027ed24bb355",
   "metadata": {},
   "source": [
    "If you get an error at this point, there is likely a problem with the schema that you copied over.\n",
    "If the schema is correct schema JSON (“old” or “new” format schema are supported), the tool execute normally. Ensure that you got the complete definition and that all braces are matched.\n",
    "\n",
    "The tool then provide output, analyzing the customer schema as compared to the base processor schema."
   ]
  },
  {
   "cell_type": "markdown",
   "id": "bc59df8f",
   "metadata": {},
   "source": [
    "## Schema Detection Function\n",
    "\n",
    "This function detects the schema type and converts it into a pandas DataFrame.\n"
   ]
  },
  {
   "cell_type": "code",
   "execution_count": 56,
   "id": "00763778",
   "metadata": {},
   "outputs": [],
   "source": [
    "def schema_detect(s):\n",
    "    \"\"\"\n",
    "    Detects the schema type and converts it to a pandas DataFrame.\n",
    "\n",
    "    Parameters:\n",
    "    s (dict): A dictionary representing the JSON schema.\n",
    "\n",
    "    Returns:\n",
    "    DataFrame: A pandas DataFrame containing the schema entities.\n",
    "    \"\"\"\n",
    "    try:\n",
    "        df1 = pd.DataFrame(s[\"entityTypes\"][0][\"properties\"])\n",
    "        print(\"New type schema\")\n",
    "        df1.rename(columns={\"name\": \"type_schema\"}, inplace=True)\n",
    "    except KeyError:\n",
    "        print(\"Old type schema\")\n",
    "        df1 = pd.DataFrame(s[\"entityTypes\"])\n",
    "        df1.rename(columns={\"type\": \"type_schema\"}, inplace=True)\n",
    "    return df1"
   ]
  },
  {
   "cell_type": "markdown",
   "id": "2afabd82",
   "metadata": {},
   "source": [
    "## Schema Comparison\n",
    "\n",
    "Compare the loaded base schema with a predefined schema and highlight the differences.\n"
   ]
  },
  {
   "cell_type": "code",
   "execution_count": 57,
   "id": "86e1694a",
   "metadata": {},
   "outputs": [
    {
     "name": "stdout",
     "output_type": "stream",
     "text": [
      "Old type schema\n",
      "Old type schema\n"
     ]
    }
   ],
   "source": [
    "# Load the predefined schema and convert to DataFrame\n",
    "my_schema_json = \"\"\" {\n",
    "  'displayName': 'Base Inv Schema',\n",
    "  'description': 'Base Inv Schema for uptrain',\n",
    "   \"entityTypes\": [\n",
    "    {\n",
    "      \"type\": \"currency\",\n",
    "      \"baseType\": \"string\",\n",
    "      \"occurrenceType\": \"OPTIONAL_ONCE\"\n",
    "    },\n",
    "    {\n",
    "      \"type\": \"due_date\",\n",
    "      \"baseType\": \"datetime\",\n",
    "      \"occurrenceType\": \"OPTIONAL_ONCE\"\n",
    "    }\n",
    "        ]\n",
    "    }\n",
    "    \n",
    "\"\"\"\n",
    "my_schema_json = my_schema_json.replace(\"'\", '\"')\n",
    "s2 = json.loads(my_schema_json)\n",
    "\n",
    "# Load the base schema as DataFrame\n",
    "df1 = schema_detect(Base_schema)\n",
    "df2 = schema_detect(s2)\n",
    "\n",
    "# Merging both DataFrames and getting differences\n",
    "compare = df1.merge(\n",
    "    df2, on=\"type_schema\", how=\"outer\", suffixes=[\"_base\", \"_2\"], indicator=True\n",
    ")\n",
    "compare[\"_merge\"] = compare[\"_merge\"].astype(\"object\")\n",
    "compare[\"_merge\"] = compare[\"_merge\"].replace(\n",
    "    \"right_only\", \"Schema 2 only \", regex=True\n",
    ")\n",
    "compare[\"_merge\"] = compare[\"_merge\"].replace(\n",
    "    \"left_only\", \"base schema only \", regex=True\n",
    ")\n",
    "compare.rename(columns={\"_merge\": \"entity_exists_in\"}, inplace=True)"
   ]
  },
  {
   "cell_type": "markdown",
   "id": "76416c68",
   "metadata": {},
   "source": [
    "## Color Coding Differences\n",
    "\n",
    "Apply color coding to the DataFrame to visualize the differences between the schemas.\n"
   ]
  },
  {
   "cell_type": "code",
   "execution_count": 58,
   "id": "a4a31670",
   "metadata": {},
   "outputs": [
    {
     "data": {
      "text/html": [
       "<style type=\"text/css\">\n",
       "#T_9cf0b_row0_col0, #T_9cf0b_row0_col1, #T_9cf0b_row0_col2, #T_9cf0b_row0_col3, #T_9cf0b_row0_col4, #T_9cf0b_row0_col5, #T_9cf0b_row1_col0, #T_9cf0b_row1_col1, #T_9cf0b_row1_col2, #T_9cf0b_row1_col3, #T_9cf0b_row1_col4, #T_9cf0b_row1_col5, #T_9cf0b_row2_col0, #T_9cf0b_row2_col1, #T_9cf0b_row2_col2, #T_9cf0b_row2_col3, #T_9cf0b_row2_col4, #T_9cf0b_row2_col5, #T_9cf0b_row3_col0, #T_9cf0b_row3_col1, #T_9cf0b_row3_col2, #T_9cf0b_row3_col3, #T_9cf0b_row3_col4, #T_9cf0b_row3_col5, #T_9cf0b_row4_col0, #T_9cf0b_row4_col1, #T_9cf0b_row4_col2, #T_9cf0b_row4_col3, #T_9cf0b_row4_col4, #T_9cf0b_row4_col5, #T_9cf0b_row5_col0, #T_9cf0b_row5_col1, #T_9cf0b_row5_col2, #T_9cf0b_row5_col3, #T_9cf0b_row5_col4, #T_9cf0b_row5_col5, #T_9cf0b_row6_col0, #T_9cf0b_row6_col1, #T_9cf0b_row6_col2, #T_9cf0b_row6_col3, #T_9cf0b_row6_col4, #T_9cf0b_row6_col5, #T_9cf0b_row7_col0, #T_9cf0b_row7_col1, #T_9cf0b_row7_col2, #T_9cf0b_row7_col3, #T_9cf0b_row7_col4, #T_9cf0b_row7_col5, #T_9cf0b_row8_col0, #T_9cf0b_row8_col1, #T_9cf0b_row8_col2, #T_9cf0b_row8_col3, #T_9cf0b_row8_col4, #T_9cf0b_row8_col5, #T_9cf0b_row9_col0, #T_9cf0b_row9_col1, #T_9cf0b_row9_col2, #T_9cf0b_row9_col3, #T_9cf0b_row9_col4, #T_9cf0b_row9_col5, #T_9cf0b_row10_col0, #T_9cf0b_row10_col1, #T_9cf0b_row10_col2, #T_9cf0b_row10_col3, #T_9cf0b_row10_col4, #T_9cf0b_row10_col5, #T_9cf0b_row11_col0, #T_9cf0b_row11_col1, #T_9cf0b_row11_col2, #T_9cf0b_row11_col3, #T_9cf0b_row11_col4, #T_9cf0b_row11_col5, #T_9cf0b_row12_col0, #T_9cf0b_row12_col1, #T_9cf0b_row12_col2, #T_9cf0b_row12_col3, #T_9cf0b_row12_col4, #T_9cf0b_row12_col5, #T_9cf0b_row13_col0, #T_9cf0b_row13_col1, #T_9cf0b_row13_col2, #T_9cf0b_row13_col3, #T_9cf0b_row13_col4, #T_9cf0b_row13_col5, #T_9cf0b_row14_col0, #T_9cf0b_row14_col1, #T_9cf0b_row14_col2, #T_9cf0b_row14_col3, #T_9cf0b_row14_col4, #T_9cf0b_row14_col5, #T_9cf0b_row15_col0, #T_9cf0b_row15_col1, #T_9cf0b_row15_col2, #T_9cf0b_row15_col3, #T_9cf0b_row15_col4, #T_9cf0b_row15_col5 {\n",
       "  color: black;\n",
       "  background-color: lightyellow;\n",
       "}\n",
       "</style>\n",
       "<table id=\"T_9cf0b_\">\n",
       "  <thead>\n",
       "    <tr>\n",
       "      <th class=\"blank level0\" >&nbsp;</th>\n",
       "      <th class=\"col_heading level0 col0\" >type_schema</th>\n",
       "      <th class=\"col_heading level0 col1\" >baseType_base</th>\n",
       "      <th class=\"col_heading level0 col2\" >occurrenceType_base</th>\n",
       "      <th class=\"col_heading level0 col3\" >baseType_2</th>\n",
       "      <th class=\"col_heading level0 col4\" >occurrenceType_2</th>\n",
       "      <th class=\"col_heading level0 col5\" >entity_exists_in</th>\n",
       "    </tr>\n",
       "  </thead>\n",
       "  <tbody>\n",
       "    <tr>\n",
       "      <th id=\"T_9cf0b_level0_row0\" class=\"row_heading level0 row0\" >0</th>\n",
       "      <td id=\"T_9cf0b_row0_col0\" class=\"data row0 col0\" >document_name</td>\n",
       "      <td id=\"T_9cf0b_row0_col1\" class=\"data row0 col1\" >string</td>\n",
       "      <td id=\"T_9cf0b_row0_col2\" class=\"data row0 col2\" >OPTIONAL_MULTIPLE</td>\n",
       "      <td id=\"T_9cf0b_row0_col3\" class=\"data row0 col3\" >nan</td>\n",
       "      <td id=\"T_9cf0b_row0_col4\" class=\"data row0 col4\" >nan</td>\n",
       "      <td id=\"T_9cf0b_row0_col5\" class=\"data row0 col5\" >base schema only </td>\n",
       "    </tr>\n",
       "    <tr>\n",
       "      <th id=\"T_9cf0b_level0_row1\" class=\"row_heading level0 row1\" >1</th>\n",
       "      <td id=\"T_9cf0b_row1_col0\" class=\"data row1 col0\" >parties</td>\n",
       "      <td id=\"T_9cf0b_row1_col1\" class=\"data row1 col1\" >string</td>\n",
       "      <td id=\"T_9cf0b_row1_col2\" class=\"data row1 col2\" >OPTIONAL_MULTIPLE</td>\n",
       "      <td id=\"T_9cf0b_row1_col3\" class=\"data row1 col3\" >nan</td>\n",
       "      <td id=\"T_9cf0b_row1_col4\" class=\"data row1 col4\" >nan</td>\n",
       "      <td id=\"T_9cf0b_row1_col5\" class=\"data row1 col5\" >base schema only </td>\n",
       "    </tr>\n",
       "    <tr>\n",
       "      <th id=\"T_9cf0b_level0_row2\" class=\"row_heading level0 row2\" >2</th>\n",
       "      <td id=\"T_9cf0b_row2_col0\" class=\"data row2 col0\" >agreement_date</td>\n",
       "      <td id=\"T_9cf0b_row2_col1\" class=\"data row2 col1\" >datetime</td>\n",
       "      <td id=\"T_9cf0b_row2_col2\" class=\"data row2 col2\" >OPTIONAL_MULTIPLE</td>\n",
       "      <td id=\"T_9cf0b_row2_col3\" class=\"data row2 col3\" >nan</td>\n",
       "      <td id=\"T_9cf0b_row2_col4\" class=\"data row2 col4\" >nan</td>\n",
       "      <td id=\"T_9cf0b_row2_col5\" class=\"data row2 col5\" >base schema only </td>\n",
       "    </tr>\n",
       "    <tr>\n",
       "      <th id=\"T_9cf0b_level0_row3\" class=\"row_heading level0 row3\" >3</th>\n",
       "      <td id=\"T_9cf0b_row3_col0\" class=\"data row3 col0\" >effective_date</td>\n",
       "      <td id=\"T_9cf0b_row3_col1\" class=\"data row3 col1\" >datetime</td>\n",
       "      <td id=\"T_9cf0b_row3_col2\" class=\"data row3 col2\" >OPTIONAL_MULTIPLE</td>\n",
       "      <td id=\"T_9cf0b_row3_col3\" class=\"data row3 col3\" >nan</td>\n",
       "      <td id=\"T_9cf0b_row3_col4\" class=\"data row3 col4\" >nan</td>\n",
       "      <td id=\"T_9cf0b_row3_col5\" class=\"data row3 col5\" >base schema only </td>\n",
       "    </tr>\n",
       "    <tr>\n",
       "      <th id=\"T_9cf0b_level0_row4\" class=\"row_heading level0 row4\" >4</th>\n",
       "      <td id=\"T_9cf0b_row4_col0\" class=\"data row4 col0\" >expiration_date</td>\n",
       "      <td id=\"T_9cf0b_row4_col1\" class=\"data row4 col1\" >datetime</td>\n",
       "      <td id=\"T_9cf0b_row4_col2\" class=\"data row4 col2\" >OPTIONAL_MULTIPLE</td>\n",
       "      <td id=\"T_9cf0b_row4_col3\" class=\"data row4 col3\" >nan</td>\n",
       "      <td id=\"T_9cf0b_row4_col4\" class=\"data row4 col4\" >nan</td>\n",
       "      <td id=\"T_9cf0b_row4_col5\" class=\"data row4 col5\" >base schema only </td>\n",
       "    </tr>\n",
       "    <tr>\n",
       "      <th id=\"T_9cf0b_level0_row5\" class=\"row_heading level0 row5\" >5</th>\n",
       "      <td id=\"T_9cf0b_row5_col0\" class=\"data row5 col0\" >initial_term</td>\n",
       "      <td id=\"T_9cf0b_row5_col1\" class=\"data row5 col1\" >string</td>\n",
       "      <td id=\"T_9cf0b_row5_col2\" class=\"data row5 col2\" >OPTIONAL_MULTIPLE</td>\n",
       "      <td id=\"T_9cf0b_row5_col3\" class=\"data row5 col3\" >nan</td>\n",
       "      <td id=\"T_9cf0b_row5_col4\" class=\"data row5 col4\" >nan</td>\n",
       "      <td id=\"T_9cf0b_row5_col5\" class=\"data row5 col5\" >base schema only </td>\n",
       "    </tr>\n",
       "    <tr>\n",
       "      <th id=\"T_9cf0b_level0_row6\" class=\"row_heading level0 row6\" >6</th>\n",
       "      <td id=\"T_9cf0b_row6_col0\" class=\"data row6 col0\" >governing_law</td>\n",
       "      <td id=\"T_9cf0b_row6_col1\" class=\"data row6 col1\" >string</td>\n",
       "      <td id=\"T_9cf0b_row6_col2\" class=\"data row6 col2\" >OPTIONAL_MULTIPLE</td>\n",
       "      <td id=\"T_9cf0b_row6_col3\" class=\"data row6 col3\" >nan</td>\n",
       "      <td id=\"T_9cf0b_row6_col4\" class=\"data row6 col4\" >nan</td>\n",
       "      <td id=\"T_9cf0b_row6_col5\" class=\"data row6 col5\" >base schema only </td>\n",
       "    </tr>\n",
       "    <tr>\n",
       "      <th id=\"T_9cf0b_level0_row7\" class=\"row_heading level0 row7\" >7</th>\n",
       "      <td id=\"T_9cf0b_row7_col0\" class=\"data row7 col0\" >renewal_term</td>\n",
       "      <td id=\"T_9cf0b_row7_col1\" class=\"data row7 col1\" >string</td>\n",
       "      <td id=\"T_9cf0b_row7_col2\" class=\"data row7 col2\" >OPTIONAL_MULTIPLE</td>\n",
       "      <td id=\"T_9cf0b_row7_col3\" class=\"data row7 col3\" >nan</td>\n",
       "      <td id=\"T_9cf0b_row7_col4\" class=\"data row7 col4\" >nan</td>\n",
       "      <td id=\"T_9cf0b_row7_col5\" class=\"data row7 col5\" >base schema only </td>\n",
       "    </tr>\n",
       "    <tr>\n",
       "      <th id=\"T_9cf0b_level0_row8\" class=\"row_heading level0 row8\" >8</th>\n",
       "      <td id=\"T_9cf0b_row8_col0\" class=\"data row8 col0\" >notice_to_terminate_renewal</td>\n",
       "      <td id=\"T_9cf0b_row8_col1\" class=\"data row8 col1\" >string</td>\n",
       "      <td id=\"T_9cf0b_row8_col2\" class=\"data row8 col2\" >OPTIONAL_MULTIPLE</td>\n",
       "      <td id=\"T_9cf0b_row8_col3\" class=\"data row8 col3\" >nan</td>\n",
       "      <td id=\"T_9cf0b_row8_col4\" class=\"data row8 col4\" >nan</td>\n",
       "      <td id=\"T_9cf0b_row8_col5\" class=\"data row8 col5\" >base schema only </td>\n",
       "    </tr>\n",
       "    <tr>\n",
       "      <th id=\"T_9cf0b_level0_row9\" class=\"row_heading level0 row9\" >9</th>\n",
       "      <td id=\"T_9cf0b_row9_col0\" class=\"data row9 col0\" >arbitration_venue</td>\n",
       "      <td id=\"T_9cf0b_row9_col1\" class=\"data row9 col1\" >string</td>\n",
       "      <td id=\"T_9cf0b_row9_col2\" class=\"data row9 col2\" >OPTIONAL_MULTIPLE</td>\n",
       "      <td id=\"T_9cf0b_row9_col3\" class=\"data row9 col3\" >nan</td>\n",
       "      <td id=\"T_9cf0b_row9_col4\" class=\"data row9 col4\" >nan</td>\n",
       "      <td id=\"T_9cf0b_row9_col5\" class=\"data row9 col5\" >base schema only </td>\n",
       "    </tr>\n",
       "    <tr>\n",
       "      <th id=\"T_9cf0b_level0_row10\" class=\"row_heading level0 row10\" >10</th>\n",
       "      <td id=\"T_9cf0b_row10_col0\" class=\"data row10 col0\" >litigation_venue</td>\n",
       "      <td id=\"T_9cf0b_row10_col1\" class=\"data row10 col1\" >string</td>\n",
       "      <td id=\"T_9cf0b_row10_col2\" class=\"data row10 col2\" >OPTIONAL_MULTIPLE</td>\n",
       "      <td id=\"T_9cf0b_row10_col3\" class=\"data row10 col3\" >nan</td>\n",
       "      <td id=\"T_9cf0b_row10_col4\" class=\"data row10 col4\" >nan</td>\n",
       "      <td id=\"T_9cf0b_row10_col5\" class=\"data row10 col5\" >base schema only </td>\n",
       "    </tr>\n",
       "    <tr>\n",
       "      <th id=\"T_9cf0b_level0_row11\" class=\"row_heading level0 row11\" >11</th>\n",
       "      <td id=\"T_9cf0b_row11_col0\" class=\"data row11 col0\" >indemnity_clause</td>\n",
       "      <td id=\"T_9cf0b_row11_col1\" class=\"data row11 col1\" >string</td>\n",
       "      <td id=\"T_9cf0b_row11_col2\" class=\"data row11 col2\" >OPTIONAL_MULTIPLE</td>\n",
       "      <td id=\"T_9cf0b_row11_col3\" class=\"data row11 col3\" >nan</td>\n",
       "      <td id=\"T_9cf0b_row11_col4\" class=\"data row11 col4\" >nan</td>\n",
       "      <td id=\"T_9cf0b_row11_col5\" class=\"data row11 col5\" >base schema only </td>\n",
       "    </tr>\n",
       "    <tr>\n",
       "      <th id=\"T_9cf0b_level0_row12\" class=\"row_heading level0 row12\" >12</th>\n",
       "      <td id=\"T_9cf0b_row12_col0\" class=\"data row12 col0\" >confidentiality_clause</td>\n",
       "      <td id=\"T_9cf0b_row12_col1\" class=\"data row12 col1\" >string</td>\n",
       "      <td id=\"T_9cf0b_row12_col2\" class=\"data row12 col2\" >OPTIONAL_MULTIPLE</td>\n",
       "      <td id=\"T_9cf0b_row12_col3\" class=\"data row12 col3\" >nan</td>\n",
       "      <td id=\"T_9cf0b_row12_col4\" class=\"data row12 col4\" >nan</td>\n",
       "      <td id=\"T_9cf0b_row12_col5\" class=\"data row12 col5\" >base schema only </td>\n",
       "    </tr>\n",
       "    <tr>\n",
       "      <th id=\"T_9cf0b_level0_row13\" class=\"row_heading level0 row13\" >13</th>\n",
       "      <td id=\"T_9cf0b_row13_col0\" class=\"data row13 col0\" >non_compete_clause</td>\n",
       "      <td id=\"T_9cf0b_row13_col1\" class=\"data row13 col1\" >string</td>\n",
       "      <td id=\"T_9cf0b_row13_col2\" class=\"data row13 col2\" >OPTIONAL_MULTIPLE</td>\n",
       "      <td id=\"T_9cf0b_row13_col3\" class=\"data row13 col3\" >nan</td>\n",
       "      <td id=\"T_9cf0b_row13_col4\" class=\"data row13 col4\" >nan</td>\n",
       "      <td id=\"T_9cf0b_row13_col5\" class=\"data row13 col5\" >base schema only </td>\n",
       "    </tr>\n",
       "    <tr>\n",
       "      <th id=\"T_9cf0b_level0_row14\" class=\"row_heading level0 row14\" >14</th>\n",
       "      <td id=\"T_9cf0b_row14_col0\" class=\"data row14 col0\" >currency</td>\n",
       "      <td id=\"T_9cf0b_row14_col1\" class=\"data row14 col1\" >nan</td>\n",
       "      <td id=\"T_9cf0b_row14_col2\" class=\"data row14 col2\" >nan</td>\n",
       "      <td id=\"T_9cf0b_row14_col3\" class=\"data row14 col3\" >string</td>\n",
       "      <td id=\"T_9cf0b_row14_col4\" class=\"data row14 col4\" >OPTIONAL_ONCE</td>\n",
       "      <td id=\"T_9cf0b_row14_col5\" class=\"data row14 col5\" >Schema 2 only </td>\n",
       "    </tr>\n",
       "    <tr>\n",
       "      <th id=\"T_9cf0b_level0_row15\" class=\"row_heading level0 row15\" >15</th>\n",
       "      <td id=\"T_9cf0b_row15_col0\" class=\"data row15 col0\" >due_date</td>\n",
       "      <td id=\"T_9cf0b_row15_col1\" class=\"data row15 col1\" >nan</td>\n",
       "      <td id=\"T_9cf0b_row15_col2\" class=\"data row15 col2\" >nan</td>\n",
       "      <td id=\"T_9cf0b_row15_col3\" class=\"data row15 col3\" >datetime</td>\n",
       "      <td id=\"T_9cf0b_row15_col4\" class=\"data row15 col4\" >OPTIONAL_ONCE</td>\n",
       "      <td id=\"T_9cf0b_row15_col5\" class=\"data row15 col5\" >Schema 2 only </td>\n",
       "    </tr>\n",
       "  </tbody>\n",
       "</table>\n"
      ],
      "text/plain": [
       "<pandas.io.formats.style.Styler at 0x7f692c21fe10>"
      ]
     },
     "execution_count": 58,
     "metadata": {},
     "output_type": "execute_result"
    }
   ],
   "source": [
    "# Define the method to color code the differences\n",
    "def custom_style1(row):\n",
    "    # color = 'white'\n",
    "    if row.values[-1] == \"both\" and (\n",
    "        row.values[-2] != row.values[-4] or row.values[-3] != row.values[-5]\n",
    "    ):\n",
    "        color = \"lightpink\"\n",
    "    elif row.values[-1] != \"both\":\n",
    "        color = \"lightyellow\"\n",
    "    else:\n",
    "        color = \"lightgreen\"\n",
    "    return [\"color:black;background-color: %s\" % color] * len(row.values)\n",
    "\n",
    "\n",
    "compare.style.apply(custom_style1, axis=1)"
   ]
  },
  {
   "cell_type": "markdown",
   "id": "65dc71b4-032f-47dd-bd57-49e15a7b8b09",
   "metadata": {},
   "source": [
    "# Analyzing Tool Output\n",
    "The color coding is defined to show the clear difference between two schemas:  \n",
    "* Green→<img src=\"./images/green.png\" width=20 height=7> </img>→ Both the schema entities are perfectly matching.  \n",
    "* Yellow→<img src=\"./images/yellow.png\" width=20 height=7> </img>→The entities are in only one schema (exists in base schema or untrained schema).  \n",
    "* Pink→<img src=\"./images/pink.png\" width=20 height=7> </img>→The entities exist in both the schemas and there is a <font color=\"red\">mismatch. These fields must be changed in your notebook.</font>  \n",
    "\n",
    "The entities are listed in the first column, the 2nd and 3rd columns are for Base Version schema details or preloaded schema in this tool. 4th and 5th columns are Uptrained Schema details which are provided as input to this schema comparison tool.\n",
    "\n",
    "The last column indicates Entities check, this shows whether entities exist either in one of the schema or both the schema. If it is the base schema then the entity exists only in the Base Version schema and does not exists in Uptrained Version and vice versa.\n",
    "\n",
    "\n",
    "<img src='./images/schema_comparasion.png' width=1000 height=800></img>"
   ]
  },
  {
   "cell_type": "markdown",
   "id": "1b958c67-4247-4cc9-83fa-fc18769f222a",
   "metadata": {},
   "source": [
    "The pink rows indicate fields that must be changed in your Uptraining notebook to be consistent with the base processor’s Type an OccurenceType."
   ]
  }
 ],
 "metadata": {
  "environment": {
   "kernel": "python3",
   "name": "common-cpu.m104",
   "type": "gcloud",
   "uri": "gcr.io/deeplearning-platform-release/base-cpu:m104"
  },
  "kernelspec": {
   "display_name": "Python 3",
   "language": "python",
   "name": "python3"
  },
  "language_info": {
   "codemirror_mode": {
    "name": "ipython",
    "version": 3
   },
   "file_extension": ".py",
   "mimetype": "text/x-python",
   "name": "python",
   "nbconvert_exporter": "python",
   "pygments_lexer": "ipython3",
   "version": "3.7.12"
  }
 },
 "nbformat": 4,
 "nbformat_minor": 5
}
