{
 "cells": [
  {
   "cell_type": "markdown",
   "id": "5d534c1e",
   "metadata": {},
   "source": [
    "# Schema Comparison Tool"
   ]
  },
  {
   "cell_type": "markdown",
   "id": "c2c362fd-1276-45f3-8979-a121f70b087e",
   "metadata": {},
   "source": [
    "* Author: docai-incubator@google.com"
   ]
  },
  {
   "cell_type": "markdown",
   "id": "b874baf1-d26c-4d10-87c2-38a12082c8de",
   "metadata": {},
   "source": [
    "# Disclaimer\n",
    "\n",
    "This tool is not supported by the Google engineering team or product team. It is provided and supported on a best-effort basis by the **DocAI Incubator Team**. No guarantees of performance are implied."
   ]
  },
  {
   "cell_type": "markdown",
   "id": "e10c3b81-eb2a-4972-b6b3-ead07eabed70",
   "metadata": {},
   "source": [
    "# Objective\n",
    "This tool compare the schemas of a pretrained “base” processor and a customer’s custom schema for uptraining, to highlight the differences in an easily readable (color-coded) format. \n",
    "\n",
    "This provides the information needed to correct 400 INVALID ARGUMENT errors encountered during Uptraining via Notebook. The schema given in the Uptraining notebook MUST be consistent with the base processor (no changes to base processor fields).  Additional custom fields are allowed, and base processor fields may be excluded.\n",
    "\n",
    "\n",
    "Since the base version schema of each processor is fixed, the tool has the preloaded base version schema of 3 parsers as Below.\n",
    "1. Invoice Parser\n",
    "2. Purchase Order Parser\n",
    "3. Contract Parser\n",
    "\n",
    "\n",
    "The customer’s Uptrained schema json file has to be given as input into this tool.  The user must copy this from their notebook before using this tool, and save it to a text file with a .json extension.\n",
    "The Tool shows clear differences between the two schemas with color coding."
   ]
  },
  {
   "cell_type": "markdown",
   "id": "81d4628f-6e63-4565-ad65-85d0dfe7be0e",
   "metadata": {},
   "source": [
    "# Prerequisites \n",
    "1. Python : Jupyter notebook (Vertex) or Google Colab \n",
    "\n",
    "    No permissions, reference or access to any Google project is needed.\n",
    "\n",
    "2. Valid Schema which either has to be in latent(old) type or New schema type.\n",
    "\n",
    "**NOTE**:Mix of both the schema patterns wont work with this tool.\n"
   ]
  },
  {
   "cell_type": "markdown",
   "id": "a3090516",
   "metadata": {},
   "source": [
    "## Imports\n",
    "\n",
    "Import necessary Python packages required for processing the JSON schemas.\n"
   ]
  },
  {
   "cell_type": "code",
   "execution_count": 20,
   "id": "e6ea7175",
   "metadata": {},
   "outputs": [],
   "source": [
    "import json\n",
    "import pandas as pd\n",
    "from jsondiff import diff"
   ]
  },
  {
   "cell_type": "markdown",
   "id": "b653a123",
   "metadata": {},
   "source": [
    "## User Input\n",
    "\n",
    "Prompt the user for input to determine the type of processor to be used.\n"
   ]
  },
  {
   "cell_type": "code",
   "execution_count": 22,
   "id": "cc5fe1e2",
   "metadata": {},
   "outputs": [
    {
     "name": "stdin",
     "output_type": "stream",
     "text": [
      "Processor name 'I' for Invoice, 'P' for Purchase Order, or 'C' for Contract:  I\n"
     ]
    }
   ],
   "source": [
    "# Prompt for user input\n",
    "Parser = input(\"Processor name 'I' for Invoice, 'P' for Purchase Order, or 'C' for Contract: \").upper()\n"
   ]
  },
  {
   "cell_type": "markdown",
   "id": "04dfe263",
   "metadata": {},
   "source": [
    "## Load Schema\n",
    "1. **Copy your schema into the Tool Code**. Copy the contents of the below cell for your Uptraining notebook that starts with SCHEMA = . **Starting after Base_schema =**, select all remaining text in the cell and paste into the Tool’s code on this line:\n",
    "\n",
    "Load the base schema depending on the user input."
   ]
  },
  {
   "cell_type": "code",
   "execution_count": 23,
   "id": "ac28226f",
   "metadata": {},
   "outputs": [],
   "source": [
    "# Define the base schema based on the user input\n",
    "# Placeholder dictionary for the different schemas\n",
    "if Parser=='I':\n",
    "   Base_schema={\"displayName\": \"invoice_uptrain\", \"entityTypes\": [{\"type\": \"amount_due\", \"baseType\": \"money\", \"occurrenceType\": \"OPTIONAL_ONCE\"}, {\"type\": \"amount_paid_since_last_invoice\", \"baseType\": \"money\", \"occurrenceType\": \"OPTIONAL_ONCE\"}, {\"type\": \"carrier\", \"baseType\": \"string\", \"occurrenceType\": \"OPTIONAL_ONCE\"}, {\"type\": \"currency\", \"baseType\": \"currency\", \"occurrenceType\": \"OPTIONAL_ONCE\"}, {\"type\": \"currency_exchange_rate\", \"baseType\": \"money\", \"occurrenceType\": \"OPTIONAL_ONCE\"}, {\"type\": \"customer_tax_id\", \"baseType\": \"string\", \"occurrenceType\": \"OPTIONAL_ONCE\"}, {\"type\": \"receiver_tax_id\", \"baseType\": \"string\", \"occurrenceType\": \"OPTIONAL_ONCE\"}, {\"type\": \"delivery_date\", \"baseType\": \"datetime\", \"occurrenceType\": \"OPTIONAL_ONCE\"}, {\"type\": \"due_date\", \"baseType\": \"datetime\", \"occurrenceType\": \"OPTIONAL_ONCE\"}, {\"type\": \"freight_amount\", \"baseType\": \"money\", \"occurrenceType\": \"OPTIONAL_ONCE\"}, {\"type\": \"invoice_date\", \"baseType\": \"datetime\", \"occurrenceType\": \"OPTIONAL_ONCE\"}, {\"type\": \"invoice_id\", \"baseType\": \"string\", \"occurrenceType\": \"OPTIONAL_ONCE\"}, {\"type\": \"net_amount\", \"baseType\": \"money\", \"occurrenceType\": \"OPTIONAL_ONCE\"}, {\"type\": \"payment_terms\", \"baseType\": \"string\", \"occurrenceType\": \"OPTIONAL_ONCE\"}, {\"type\": \"purchase_order\", \"baseType\": \"string\", \"occurrenceType\": \"OPTIONAL_ONCE\"}, {\"type\": \"receiver_address\", \"baseType\": \"address\", \"occurrenceType\": \"OPTIONAL_ONCE\"}, {\"type\": \"receiver_email\", \"baseType\": \"string\", \"occurrenceType\": \"OPTIONAL_ONCE\"}, {\"type\": \"receiver_name\", \"baseType\": \"string\", \"occurrenceType\": \"OPTIONAL_ONCE\"}, {\"type\": \"receiver_phone\", \"baseType\": \"string\", \"occurrenceType\": \"OPTIONAL_ONCE\"}, {\"type\": \"receiver_website\", \"baseType\": \"string\", \"occurrenceType\": \"OPTIONAL_ONCE\"}, {\"type\": \"remit_to_address\", \"baseType\": \"address\", \"occurrenceType\": \"OPTIONAL_ONCE\"}, {\"type\": \"remit_to_name\", \"baseType\": \"string\", \"occurrenceType\": \"OPTIONAL_ONCE\"}, {\"type\": \"ship_from_address\", \"baseType\": \"address\", \"occurrenceType\": \"OPTIONAL_ONCE\"}, {\"type\": \"ship_from_name\", \"baseType\": \"string\", \"occurrenceType\": \"OPTIONAL_ONCE\"}, {\"type\": \"ship_to_address\", \"baseType\": \"address\", \"occurrenceType\": \"OPTIONAL_ONCE\"}, {\"type\": \"ship_to_name\", \"baseType\": \"string\", \"occurrenceType\": \"OPTIONAL_ONCE\"}, {\"type\": \"supplier_address\", \"baseType\": \"address\", \"occurrenceType\": \"OPTIONAL_ONCE\"}, {\"type\": \"supplier_email\", \"baseType\": \"string\", \"occurrenceType\": \"OPTIONAL_ONCE\"}, {\"type\": \"supplier_iban\", \"baseType\": \"string\", \"occurrenceType\": \"OPTIONAL_ONCE\"}, {\"type\": \"supplier_name\", \"baseType\": \"string\", \"occurrenceType\": \"OPTIONAL_ONCE\"}, {\"type\": \"supplier_payment_ref\", \"baseType\": \"string\", \"occurrenceType\": \"OPTIONAL_ONCE\"}, {\"type\": \"supplier_phone\", \"baseType\": \"string\", \"occurrenceType\": \"OPTIONAL_ONCE\"}, {\"type\": \"supplier_registration\", \"baseType\": \"string\", \"occurrenceType\": \"OPTIONAL_ONCE\"}, {\"type\": \"supplier_tax_id\", \"baseType\": \"string\", \"occurrenceType\": \"OPTIONAL_ONCE\"}, {\"type\": \"supplier_website\", \"baseType\": \"string\", \"occurrenceType\": \"OPTIONAL_ONCE\"}, {\"type\": \"total_amount\", \"baseType\": \"money\", \"occurrenceType\": \"OPTIONAL_ONCE\"}, {\"type\": \"total_tax_amount\", \"baseType\": \"money\", \"occurrenceType\": \"OPTIONAL_ONCE\"}, {\"type\": \"line_item/amount\", \"baseType\": \"money\", \"occurrenceType\": \"OPTIONAL_MULTIPLE\"}, {\"type\": \"line_item/description\", \"baseType\": \"string\", \"occurrenceType\": \"OPTIONAL_MULTIPLE\"}, {\"type\": \"line_item/product_code\", \"baseType\": \"string\", \"occurrenceType\": \"OPTIONAL_MULTIPLE\"}, {\"type\": \"line_item/purchase_order\", \"baseType\": \"string\", \"occurrenceType\": \"OPTIONAL_MULTIPLE\"}, {\"type\": \"line_item/quantity\", \"baseType\": \"number\", \"occurrenceType\": \"OPTIONAL_MULTIPLE\"}, {\"type\": \"line_item/unit\", \"baseType\": \"string\", \"occurrenceType\": \"OPTIONAL_MULTIPLE\"}, {\"type\": \"line_item/unit_price\", \"baseType\": \"money\", \"occurrenceType\": \"OPTIONAL_MULTIPLE\"}, {\"type\": \"vat/amount\", \"baseType\": \"money\", \"occurrenceType\": \"OPTIONAL_MULTIPLE\"}, {\"type\": \"vat/category_code\", \"baseType\": \"string\", \"occurrenceType\": \"OPTIONAL_MULTIPLE\"}, {\"type\": \"vat/tax_amount\", \"baseType\": \"money\", \"occurrenceType\": \"OPTIONAL_MULTIPLE\"}, {\"type\": \"vat/tax_rate\", \"baseType\": \"money\", \"occurrenceType\": \"OPTIONAL_MULTIPLE\"}]}\n",
    "elif Parser=='P':\n",
    "   Base_schema={\"displayName\": \"PO-schema\", \"entityTypes\": [{\"type\": \"currency\", \"baseType\": \"currency\", \"occurrenceType\": \"OPTIONAL_ONCE\"}, {\"type\": \"delivery_date\", \"baseType\": \"datetime\", \"occurrenceType\": \"OPTIONAL_ONCE\"}, {\"type\": \"payment_terms\", \"baseType\": \"string\", \"occurrenceType\": \"OPTIONAL_ONCE\"}, {\"type\": \"purchase_order_date\", \"baseType\": \"datetime\", \"occurrenceType\": \"OPTIONAL_ONCE\"}, {\"type\": \"purchase_order_id\", \"baseType\": \"string\", \"occurrenceType\": \"OPTIONAL_ONCE\"}, {\"type\": \"receiver_name\", \"baseType\": \"string\", \"occurrenceType\": \"OPTIONAL_ONCE\"}, {\"type\": \"ship_to_address\", \"baseType\": \"address\", \"occurrenceType\": \"OPTIONAL_ONCE\"}, {\"type\": \"ship_to_name\", \"baseType\": \"string\", \"occurrenceType\": \"OPTIONAL_ONCE\"}, {\"type\": \"total_amount\", \"baseType\": \"money\", \"occurrenceType\": \"OPTIONAL_ONCE\"}, {\"type\": \"line_item/amount\", \"baseType\": \"money\", \"occurrenceType\": \"OPTIONAL_MULTIPLE\"}, {\"type\": \"line_item/description\", \"baseType\": \"string\", \"occurrenceType\": \"OPTIONAL_MULTIPLE\"}, {\"type\": \"line_item/product_code\", \"baseType\": \"string\", \"occurrenceType\": \"OPTIONAL_MULTIPLE\"}, {\"type\": \"line_item/purchase_order_id\", \"baseType\": \"string\", \"occurrenceType\": \"OPTIONAL_MULTIPLE\"}, {\"type\": \"line_item/quantity\", \"baseType\": \"number\", \"occurrenceType\": \"OPTIONAL_MULTIPLE\"}, {\"type\": \"line_item/receiver_reference\", \"baseType\": \"string\", \"occurrenceType\": \"OPTIONAL_MULTIPLE\"}, {\"type\": \"line_item/unit_of_measure\", \"baseType\": \"string\", \"occurrenceType\": \"OPTIONAL_MULTIPLE\"}, {\"type\": \"line_item/unit_price\", \"baseType\": \"money\", \"occurrenceType\": \"OPTIONAL_MULTIPLE\"}]}\n",
    "elif Parser=='C':\n",
    "   Base_schema={\"displayName\": \"Contract Doc AI v1.2\", \"entityTypes\": [{\"type\": \"document_name\", \"baseType\": \"string\", \"occurrenceType\": \"OPTIONAL_MULTIPLE\"}, {\"type\": \"parties\", \"baseType\": \"string\", \"occurrenceType\": \"OPTIONAL_MULTIPLE\"}, {\"type\": \"agreement_date\", \"baseType\": \"datetime\", \"occurrenceType\": \"OPTIONAL_MULTIPLE\"}, {\"type\": \"effective_date\", \"baseType\": \"datetime\", \"occurrenceType\": \"OPTIONAL_MULTIPLE\"}, {\"type\": \"expiration_date\", \"baseType\": \"datetime\", \"occurrenceType\": \"OPTIONAL_MULTIPLE\"}, {\"type\": \"initial_term\", \"baseType\": \"string\", \"occurrenceType\": \"OPTIONAL_MULTIPLE\"}, {\"type\": \"governing_law\", \"baseType\": \"string\", \"occurrenceType\": \"OPTIONAL_MULTIPLE\"}, {\"type\": \"renewal_term\", \"baseType\": \"string\", \"occurrenceType\": \"OPTIONAL_MULTIPLE\"}, {\"type\": \"notice_to_terminate_renewal\", \"baseType\": \"string\", \"occurrenceType\": \"OPTIONAL_MULTIPLE\"}, {\"type\": \"arbitration_venue\", \"baseType\": \"string\", \"occurrenceType\": \"OPTIONAL_MULTIPLE\"}, {\"type\": \"litigation_venue\", \"baseType\": \"string\", \"occurrenceType\": \"OPTIONAL_MULTIPLE\"}, {\"type\": \"indemnity_clause\", \"baseType\": \"string\", \"occurrenceType\": \"OPTIONAL_MULTIPLE\"}, {\"type\": \"confidentiality_clause\", \"baseType\": \"string\", \"occurrenceType\": \"OPTIONAL_MULTIPLE\"}, {\"type\": \"non_compete_clause\", \"baseType\": \"string\", \"occurrenceType\": \"OPTIONAL_MULTIPLE\"}]}"
   ]
  },
  {
   "cell_type": "markdown",
   "id": "a6139434-4952-4988-84fb-027ed24bb355",
   "metadata": {},
   "source": [
    "If you get an error at this point, there is likely a problem with the schema that you copied over.\n",
    "If the schema is correct schema JSON (“old” or “new” format schema are supported), the tool execute normally. Ensure that you got the complete definition and that all braces are matched.\n",
    "\n",
    "The tool then provide output, analyzing the customer schema as compared to the base processor schema."
   ]
  },
  {
   "cell_type": "markdown",
   "id": "bc59df8f",
   "metadata": {},
   "source": [
    "## Schema Detection Function\n",
    "\n",
    "This function detects the schema type and converts it into a pandas DataFrame.\n"
   ]
  },
  {
   "cell_type": "code",
   "execution_count": 24,
   "id": "00763778",
   "metadata": {},
   "outputs": [],
   "source": [
    "def schema_detect(s):\n",
    "    \"\"\"\n",
    "    Detects the schema type and converts it to a pandas DataFrame.\n",
    "    \n",
    "    Parameters:\n",
    "    s (dict): A dictionary representing the JSON schema.\n",
    "    \n",
    "    Returns:\n",
    "    DataFrame: A pandas DataFrame containing the schema entities.\n",
    "    \"\"\"\n",
    "    try:\n",
    "        df1=pd.DataFrame(s['entityTypes'][0][\"properties\"])\n",
    "        print(\"New type schema\")\n",
    "        df1.rename(columns = {'name':'type_schema'},inplace = True)\n",
    "    except KeyError:\n",
    "        print(\"Old type schema\")\n",
    "        df1=pd.DataFrame(s[\"entityTypes\"])\n",
    "        df1.rename(columns = {'type':'type_schema'},inplace = True)\n",
    "    return df1\n"
   ]
  },
  {
   "cell_type": "markdown",
   "id": "2afabd82",
   "metadata": {},
   "source": [
    "## Schema Comparison\n",
    "\n",
    "Compare the loaded base schema with a predefined schema and highlight the differences.\n"
   ]
  },
  {
   "cell_type": "code",
   "execution_count": 25,
   "id": "86e1694a",
   "metadata": {},
   "outputs": [
    {
     "name": "stdout",
     "output_type": "stream",
     "text": [
      "Old type schema\n",
      "Old type schema\n"
     ]
    }
   ],
   "source": [
    "# Load the predefined schema and convert to DataFrame\n",
    "my_schema_json = ''' {\n",
    "  'displayName': 'Base Inv Schema',\n",
    "  'description': 'Base Inv Schema for uptrain',\n",
    "   \"entityTypes\": [\n",
    "    {\n",
    "      \"type\": \"currency\",\n",
    "      \"baseType\": \"string\",\n",
    "      \"occurrenceType\": \"OPTIONAL_ONCE\"\n",
    "    },\n",
    "    {\n",
    "      \"type\": \"due_date\",\n",
    "      \"baseType\": \"datetime\",\n",
    "      \"occurrenceType\": \"OPTIONAL_ONCE\"\n",
    "    }\n",
    "        ]\n",
    "    }\n",
    "    \n",
    "'''\n",
    "my_schema_json = my_schema_json.replace(\"'\", '\"')\n",
    "s2 = json.loads(my_schema_json)\n",
    "\n",
    "# Load the base schema as DataFrame\n",
    "df1 = schema_detect(Base_schema)\n",
    "df2 = schema_detect(s2)\n",
    "\n",
    "# Merging both DataFrames and getting differences\n",
    "compare = df1.merge(df2, on='type_schema', how='outer', suffixes=['_base', '_2'], indicator=True)\n",
    "compare['_merge'] = compare['_merge'].astype('object')\n",
    "compare[\"_merge\"]=compare[\"_merge\"].replace(\"right_only\", \"Schema 2 only \", regex=True)\n",
    "compare[\"_merge\"]=compare[\"_merge\"].replace(\"left_only\", \"base schema only \", regex=True)\n",
    "compare.rename(columns = {'_merge':'entity_exists_in'}, inplace = True)"
   ]
  },
  {
   "cell_type": "markdown",
   "id": "76416c68",
   "metadata": {},
   "source": [
    "## Color Coding Differences\n",
    "\n",
    "Apply color coding to the DataFrame to visualize the differences between the schemas.\n"
   ]
  },
  {
   "cell_type": "code",
   "execution_count": 1,
   "id": "a4a31670",
   "metadata": {},
   "outputs": [],
   "source": [
    "# Define the method to color code the differences\n",
    "def custom_style1(row):\n",
    "   #color = 'white'\n",
    "   if row.values[-1] == 'both'and (row.values[-2]!=row.values[-4] or row.values[-3]!=row.values[-5]):\n",
    "       color = 'lightpink'\n",
    "   elif row.values[-1] != 'both':\n",
    "       color = 'lightyellow'\n",
    "   else:\n",
    "       color=\"lightgreen\"\n",
    "   return ['color:black;background-color: %s' % color]*len(row.values)\n",
    "compare.style.apply(custom_style1, axis=1)"
   ]
  },
  {
   "cell_type": "markdown",
   "id": "65dc71b4-032f-47dd-bd57-49e15a7b8b09",
   "metadata": {},
   "source": [
    "# Analyzing Tool Output\n",
    "The color coding is defined to show the clear difference between two schemas:  \n",
    "* Green→<img src=\"./images/green.png\" width=20 height=7> </img>→ Both the schema entities are perfectly matching.  \n",
    "* Yellow→<img src=\"./images/yellow.png\" width=20 height=7> </img>→The entities are in only one schema (exists in base schema or untrained schema).  \n",
    "* Pink→<img src=\"./images/pink.png\" width=20 height=7> </img>→The entities exist in both the schemas and there is a <font color=\"red\">mismatch. These fields must be changed in your notebook.</font>  \n",
    "\n",
    "The entities are listed in the first column, the 2nd and 3rd columns are for Base Version schema details or preloaded schema in this tool. 4th and 5th columns are Uptrained Schema details which are provided as input to this schema comparison tool.\n",
    "\n",
    "The last column indicates Entities check, this shows whether entities exist either in one of the schema or both the schema. If it is the base schema then the entity exists only in the Base Version schema and does not exists in Uptrained Version and vice versa.\n",
    "\n",
    "\n",
    "<img src='./images/schema_comparasion.png' width=1000 height=800></img>"
   ]
  },
  {
   "cell_type": "markdown",
   "id": "1b958c67-4247-4cc9-83fa-fc18769f222a",
   "metadata": {},
   "source": [
    "The pink rows indicate fields that must be changed in your Uptraining notebook to be consistent with the base processor’s Type an OccurenceType."
   ]
  },
  {
   "cell_type": "code",
   "execution_count": null,
   "id": "68dc77ac-e504-4ea0-b5ea-794e7f73689a",
   "metadata": {},
   "outputs": [],
   "source": []
  }
 ],
 "metadata": {
  "environment": {
   "kernel": "python3",
   "name": "common-cpu.m104",
   "type": "gcloud",
   "uri": "gcr.io/deeplearning-platform-release/base-cpu:m104"
  },
  "kernelspec": {
   "display_name": "Python 3",
   "language": "python",
   "name": "python3"
  },
  "language_info": {
   "codemirror_mode": {
    "name": "ipython",
    "version": 3
   },
   "file_extension": ".py",
   "mimetype": "text/x-python",
   "name": "python",
   "nbconvert_exporter": "python",
   "pygments_lexer": "ipython3",
   "version": "3.7.12"
  }
 },
 "nbformat": 4,
 "nbformat_minor": 5
}
