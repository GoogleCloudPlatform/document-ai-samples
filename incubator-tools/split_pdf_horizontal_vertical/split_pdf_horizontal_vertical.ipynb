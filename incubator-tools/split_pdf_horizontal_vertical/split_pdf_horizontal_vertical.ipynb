{
 "cells": [
  {
   "cell_type": "markdown",
   "id": "29399724",
   "metadata": {},
   "source": [
    "# Split PDF Horizontally or Vertically"
   ]
  },
  {
   "cell_type": "markdown",
   "id": "1e4a6def",
   "metadata": {},
   "source": [
    "* Author: docai-incubator@google.com"
   ]
  },
  {
   "cell_type": "markdown",
   "id": "6029ebef",
   "metadata": {},
   "source": [
    "## Disclaimer\n",
    "\n",
    "This tool is not supported by the Google engineering team or product team. It is provided and supported on a best-effort basis by the **DocAI Incubator Team**. No guarantees of performance are implied."
   ]
  },
  {
   "cell_type": "markdown",
   "id": "18bbfedd",
   "metadata": {},
   "source": [
    "# Objective\n",
    "This tool splits given pdf either horizontally or vertically and in the given percentage based on the configuration.\n",
    "\n",
    "**Approach**: Each page of input pdf is first converted to image, these images are split as per the configuration and the final output pdf contains all the split pages of the input pdf.\n"
   ]
  },
  {
   "cell_type": "markdown",
   "id": "4a77d9e9",
   "metadata": {},
   "source": [
    "# Prerequisites\n",
    "* Vertex AI Notebook\n",
    "* GCS Folder Path\n",
    "* DocumentAI Parsed JSONs"
   ]
  },
  {
   "cell_type": "markdown",
   "id": "cad788f5",
   "metadata": {},
   "source": [
    "# Step-by-Step Procedure"
   ]
  },
  {
   "cell_type": "markdown",
   "id": "3e511f7a",
   "metadata": {},
   "source": [
    "## 1. Import Modules/Packages"
   ]
  },
  {
   "cell_type": "code",
   "execution_count": null,
   "id": "2d4b7289",
   "metadata": {
    "tags": []
   },
   "outputs": [],
   "source": [
    "import io\n",
    "from typing import List\n",
    "\n",
    "import pymupdf as fitz  # PyMuPDF\n",
    "from PIL import Image"
   ]
  },
  {
   "cell_type": "markdown",
   "id": "4aa4caea",
   "metadata": {},
   "source": [
    "## 2. Input Details"
   ]
  },
  {
   "cell_type": "markdown",
   "id": "717bb8cc",
   "metadata": {},
   "source": [
    "* **INPUT_FILE** : Input file name which needs to split.\n",
    "* **OUTPUT_PATH** : Provide directory path to store splitted pdf."
   ]
  },
  {
   "cell_type": "code",
   "execution_count": null,
   "id": "bfdd838b",
   "metadata": {
    "tags": []
   },
   "outputs": [],
   "source": [
    "INPUT_FILE = \"sample_file_name.pdf\"\n",
    "OUTPUT_PATH = \"./output_dir/path\""
   ]
  },
  {
   "cell_type": "markdown",
   "id": "3347e5d1",
   "metadata": {},
   "source": [
    "## 3. Run Below Code-Cells"
   ]
  },
  {
   "cell_type": "code",
   "execution_count": null,
   "id": "30cf532b-df23-4e84-a396-4ea33b546cc3",
   "metadata": {
    "tags": []
   },
   "outputs": [],
   "source": [
    "def convert_pdf_to_images(pdf_path: str, dpi: int = 300) -> List[Image.Image]:\n",
    "    \"\"\"Helper function to converts pdf to images\n",
    "\n",
    "    Args:\n",
    "        pdf_path (str): Locan  path to input pdf\n",
    "        dpi (int, optional): dpi decides the quality of images. Defaults to 300.\n",
    "\n",
    "    Returns:\n",
    "        List[Image.Image]: List of PIL image objects\n",
    "    \"\"\"\n",
    "\n",
    "    doc = fitz.open(pdf_path)\n",
    "    images = []\n",
    "    for page_num in range(len(doc)):\n",
    "        page = doc.load_page(page_num)\n",
    "        # Create a pixmap with a specified DPI\n",
    "        pix = page.get_pixmap(matrix=fitz.Matrix(dpi / 72, dpi / 72))\n",
    "        img = Image.open(io.BytesIO(pix.tobytes()))\n",
    "        images.append(img)\n",
    "    return images\n",
    "\n",
    "\n",
    "def split_image(\n",
    "    image: Image.Image, split_type: str = \"vertical\", split_percent: int = 50\n",
    ") -> List[Image.Image]:\n",
    "    \"\"\"It will split image either horizontally or vertically based on split_percent value\n",
    "\n",
    "    Args:\n",
    "        image (Image.Image): PIL Image object\n",
    "        split_type (str, optional): Its value either horizontal or vertical. Defaults to \"vertical\".\n",
    "        split_percent (int, optional): cent: Positive number n, such that 1<=n<=99, Defaults to 50.\n",
    "            It decides where split has to happen. 50 splits the page into equal halves.\n",
    "\n",
    "    Returns:\n",
    "        List[Image.Image]: Returns list of cropped images\n",
    "    \"\"\"\n",
    "\n",
    "    width, height = image.size\n",
    "    if split_type == \"horizontal\":\n",
    "        split_line = int(height * split_percent / 100)\n",
    "        top_half = image.crop((0, 0, width, split_line))\n",
    "        bottom_half = image.crop((0, split_line, width, height))\n",
    "        return [top_half, bottom_half]\n",
    "    elif split_type == \"vertical\":\n",
    "        split_line = int(width * split_percent / 100)\n",
    "        left_half = image.crop((0, 0, split_line, height))\n",
    "        right_half = image.crop((split_line, 0, width, height))\n",
    "        return [left_half, right_half]\n",
    "\n",
    "\n",
    "def process_pdf(\n",
    "    input_pdf_path: str,\n",
    "    output_path: str,\n",
    "    split_type: str = \"vertical\",\n",
    "    split_percent: int = 50,\n",
    ") -> None:\n",
    "    \"\"\"Splits each page input pdf vertically/horizontally in the split_percent\n",
    "    ratio and saves the result as a new pdf\n",
    "\n",
    "    Args:\n",
    "        input_pdf_path (str): Path to input pdf (supports both single page/multipage)\n",
    "        output_path (str): Path to output folder where split pdf will be saved\n",
    "        split_type (str, optional): Either \"horizontal\" or \"vertical\". Defaults to \"vertical\".\n",
    "        split_percent (int, optional): Positive number n, such that 1<=n<=99, It decides where\n",
    "            split has to happen. 50 splits the page into equal halves.Defaults to 50.\n",
    "    \"\"\"\n",
    "\n",
    "    print(f\"Processing {input_pdf_path}\")\n",
    "\n",
    "    images = convert_pdf_to_images(input_pdf_path)\n",
    "    output_path = output_path.rstrip(\"/\")\n",
    "    fn = input_pdf_path.split(\"/\")[-1].split(\".\")[0]\n",
    "    fn = fn + \"_split_\" + split_type + \".pdf\"\n",
    "    output_pdf_path = output_path + \"/\" + fn\n",
    "    split_images = []\n",
    "\n",
    "    for image in images:\n",
    "        split_images.extend(split_image(image, split_type, split_percent))\n",
    "    split_images[0].save(\n",
    "        output_pdf_path, save_all=True, append_images=split_images[1:], resolution=300.0\n",
    "    )\n",
    "    print(f\"\\tFile saved to {output_pdf_path}\")\n",
    "\n",
    "\n",
    "# split_type and split_percent are optional input parameters.\n",
    "# split_type takes either “vertical” or “horizontal”. It defaults to “vertical”.\n",
    "# split_percent takes positive value between 1 and 100 defaults to 50.\n",
    "process_pdf(INPUT_FILE, OUTPUT_PATH, split_type=\"vertical\", split_percent=50)"
   ]
  },
  {
   "cell_type": "markdown",
   "id": "a9eda18a",
   "metadata": {},
   "source": [
    "# 4. Output Details\n",
    "\n",
    "Refer below images for splitted pdf results"
   ]
  },
  {
   "cell_type": "markdown",
   "id": "6c9da4d6-7560-4e1e-96ca-eace4ddcb83b",
   "metadata": {},
   "source": [
    "<img src=\"./images/sample_input.png\" height=800 width=1000 alt='input_image'> </img>  \n",
    "<b>Sample Output 1</b>  \n",
    "<img src=\"./images/sample_output_left.png\" height=150 width=300 alt='output_image_1'></img>  \n",
    "<b>Sample Output 2 </b>  \n",
    "<img src=\"./images/sample_output_right.png\" height=150 width=300 alt='output_image_2'></img>"
   ]
  }
 ],
 "metadata": {
  "environment": {
   "kernel": "conda-base-py",
   "name": "workbench-notebooks.m125",
   "type": "gcloud",
   "uri": "us-docker.pkg.dev/deeplearning-platform-release/gcr.io/workbench-notebooks:m125"
  },
  "kernelspec": {
   "display_name": "Python 3 (ipykernel) (Local)",
   "language": "python",
   "name": "conda-base-py"
  },
  "language_info": {
   "codemirror_mode": {
    "name": "ipython",
    "version": 3
   },
   "file_extension": ".py",
   "mimetype": "text/x-python",
   "name": "python",
   "nbconvert_exporter": "python",
   "pygments_lexer": "ipython3",
   "version": "3.10.15"
  }
 },
 "nbformat": 4,
 "nbformat_minor": 5
}
