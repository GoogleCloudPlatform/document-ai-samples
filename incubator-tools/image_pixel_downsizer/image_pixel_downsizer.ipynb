{
 "cells": [
  {
   "cell_type": "markdown",
   "id": "29399724",
   "metadata": {},
   "source": [
    "# Image Pixel Downsizer Tool"
   ]
  },
  {
   "cell_type": "markdown",
   "id": "1e4a6def",
   "metadata": {},
   "source": [
    "* Author: docai-incubator@google.com"
   ]
  },
  {
   "cell_type": "markdown",
   "id": "6029ebef",
   "metadata": {},
   "source": [
    "## Disclaimer\n",
    "\n",
    "This tool is not supported by the Google engineering team or product team. It is provided and supported on a best-effort basis by the **DocAI Incubator Team**. No guarantees of performance are implied."
   ]
  },
  {
   "cell_type": "markdown",
   "id": "18bbfedd",
   "metadata": {},
   "source": [
    "# Objective\n",
    "This tool is created to scale down images that exceed 40 million pixels to a smaller size. This adjustment ensures compatibility with all document AI processors, adhering to the maximum image resolution restriction of 40 million pixels as specified in the content limits at https://cloud.google.com/document-ai/quotas#content_limits. By reducing the image size to below 40 million pixels, the images become suitable for processing with the document AI parser."
   ]
  },
  {
   "cell_type": "markdown",
   "id": "4a77d9e9",
   "metadata": {},
   "source": [
    "# Prerequisites\n",
    "* Vertex AI Notebook\n",
    "* GCS Folder Path"
   ]
  },
  {
   "cell_type": "markdown",
   "id": "cad788f5",
   "metadata": {},
   "source": [
    "# Step-by-Step Procedure"
   ]
  },
  {
   "cell_type": "markdown",
   "id": "3e511f7a",
   "metadata": {},
   "source": [
    "## 1. Import Modules/Packages"
   ]
  },
  {
   "cell_type": "code",
   "execution_count": null,
   "id": "2d4b7289",
   "metadata": {
    "tags": []
   },
   "outputs": [],
   "source": [
    "import io\n",
    "from typing import Union\n",
    "\n",
    "from google.cloud import storage\n",
    "from PIL import Image"
   ]
  },
  {
   "cell_type": "markdown",
   "id": "4aa4caea",
   "metadata": {},
   "source": [
    "## 2. Input Details"
   ]
  },
  {
   "cell_type": "code",
   "execution_count": null,
   "id": "bfdd838b",
   "metadata": {
    "tags": []
   },
   "outputs": [],
   "source": [
    "INPUT_FOLDER = \"gs://bucket_name/testing_2024/input\"  # Input Images Folder path\n",
    "OUTPUT_FOLDER = \"gs://bucket_name/testing_2024/output\"  # Output Image Folder path"
   ]
  },
  {
   "cell_type": "markdown",
   "id": "3347e5d1",
   "metadata": {},
   "source": [
    "## 3. Run Below Code-Cells"
   ]
  },
  {
   "cell_type": "code",
   "execution_count": null,
   "id": "74b94587-030d-4b65-a820-954f652031c3",
   "metadata": {},
   "outputs": [],
   "source": [
    "def resize_image(\n",
    "    image: Image.Image, image_name: str, max_megapixels: int = 40\n",
    ") -> Union[Image.Image, None]:\n",
    "    \"\"\"It will resize image from >40 MegaPixel to <40 MegaPixel\n",
    "\n",
    "    Args:\n",
    "        image (Image.Image): Image data in Pillow image-object\n",
    "        image_name (str): GCS uri of an image\n",
    "        max_megapixels (int, optional): Desired mega pixels value. Defaults to 40.\n",
    "\n",
    "    Returns:\n",
    "        Union[Image.Image, None]: Returns resized image which is <40 MegaPixels\n",
    "    \"\"\"\n",
    "\n",
    "    width, height = image.size\n",
    "    # 1 megapixel = 1,000,000 pixels\n",
    "    megapixels = (width * height) / 1e6\n",
    "    if megapixels > max_megapixels:\n",
    "        print(f\"{image_name} is {megapixels:.3f} megapixels.\\n\\tDownsizing...\")\n",
    "        aspect_ratio = width / height\n",
    "        new_width = int((max_megapixels * 1e6 * aspect_ratio) ** 0.5)\n",
    "        new_height = int((max_megapixels * 1e6 / aspect_ratio) ** 0.5)\n",
    "        resized_img = image.resize((new_width, new_height))\n",
    "        return resized_img\n",
    "    else:\n",
    "        print(f\"{image_name} is {megapixels:.3f} megapixels.\\n\\tSkipped.\")\n",
    "        return None\n",
    "\n",
    "\n",
    "def process_images(input_folder: str, output_folder: str) -> None:\n",
    "    \"\"\"\n",
    "    It will iterate through all images in provide inout folder,\n",
    "    resize them if require and stores in output folder\n",
    "\n",
    "    Args:\n",
    "        input_folder (str): GCS input uri which holds image files\n",
    "        output_folder (str): GCS uri to store resized images\n",
    "    \"\"\"\n",
    "\n",
    "    client = storage.Client()\n",
    "    bucket_name = input_folder.split(\"/\")[2]\n",
    "    prefix = \"/\".join(input_folder.split(\"/\")[3:]) + \"/\"\n",
    "    bucket = client.get_bucket(bucket_name)\n",
    "    blobs = bucket.list_blobs(prefix=prefix)\n",
    "\n",
    "    for blob in blobs:\n",
    "        if blob.name.lower().endswith((\".jpg\", \".jpeg\", \".png\")):\n",
    "            blob_data = blob.download_as_bytes()\n",
    "            image = Image.open(io.BytesIO(blob_data))\n",
    "            resized_image = resize_image(image, blob.name)\n",
    "            if resized_image:\n",
    "                img_byte_arr = io.BytesIO()\n",
    "                resized_image.save(img_byte_arr, format=image.format)\n",
    "                img_byte_arr = img_byte_arr.getvalue()\n",
    "            else:\n",
    "                img_byte_arr = blob_data\n",
    "\n",
    "            if blob.name.lower().endswith(\".png\"):\n",
    "                content_type = \"image/png\"\n",
    "            elif blob.name.lower().endswith(\".jpg\") or blob.name.lower().endswith(\n",
    "                \".jpeg\"\n",
    "            ):\n",
    "                content_type = \"image/jpeg\"\n",
    "            else:\n",
    "                content_type = \"application/octet-stream\"  # Fallback MIME type\n",
    "\n",
    "            output_blob_name = blob.name.replace(\n",
    "                prefix, \"/\".join(output_folder.split(\"/\")[3:]) + \"/\"\n",
    "            )\n",
    "            output_blob = bucket.blob(output_blob_name)\n",
    "            # Saving file to GCS\n",
    "            output_blob.upload_from_string(img_byte_arr, content_type=content_type)\n",
    "\n",
    "\n",
    "process_images(INPUT_FOLDER, OUTPUT_FOLDER)"
   ]
  },
  {
   "cell_type": "markdown",
   "id": "a9eda18a",
   "metadata": {
    "tags": []
   },
   "source": [
    "# 4. Output Details\n",
    "\n",
    "Refer below image sizes, before and after downsizing"
   ]
  },
  {
   "cell_type": "markdown",
   "id": "c883f74f-1060-4727-b4b1-5692bfa415b4",
   "metadata": {},
   "source": [
    "<b> Without Downsizing</b>  \n",
    "<img src=\"./images/input_sample.png\" width=600 height=600 alt=\"Without_downsizing\">"
   ]
  },
  {
   "cell_type": "markdown",
   "id": "a17a3fe2-c19d-4a95-a73d-632511f11ede",
   "metadata": {},
   "source": [
    "<b>After Resizing</b>  \n",
    "<img src=\"./images/output_sample.png\" width=600 height=600 alt=\"after_resizing\">"
   ]
  },
  {
   "cell_type": "code",
   "execution_count": null,
   "id": "37b996fb-a1b8-48e1-ad98-ce6759a9fdb5",
   "metadata": {},
   "outputs": [],
   "source": []
  },
  {
   "cell_type": "code",
   "execution_count": null,
   "id": "5135394f-0caf-4bbf-a336-0d291ef8f75b",
   "metadata": {},
   "outputs": [],
   "source": []
  }
 ],
 "metadata": {
  "environment": {
   "kernel": "conda-base-py",
   "name": "workbench-notebooks.m125",
   "type": "gcloud",
   "uri": "us-docker.pkg.dev/deeplearning-platform-release/gcr.io/workbench-notebooks:m125"
  },
  "kernelspec": {
   "display_name": "Python 3 (ipykernel) (Local)",
   "language": "python",
   "name": "conda-base-py"
  },
  "language_info": {
   "codemirror_mode": {
    "name": "ipython",
    "version": 3
   },
   "file_extension": ".py",
   "mimetype": "text/x-python",
   "name": "python",
   "nbconvert_exporter": "python",
   "pygments_lexer": "ipython3",
   "version": "3.10.15"
  }
 },
 "nbformat": 4,
 "nbformat_minor": 5
}
