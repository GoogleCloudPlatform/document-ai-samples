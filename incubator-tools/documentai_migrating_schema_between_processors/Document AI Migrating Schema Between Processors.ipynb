{
 "cells": [
  {
   "cell_type": "markdown",
   "id": "e4927d28-e2ca-44dc-9ea1-8585d4778478",
   "metadata": {},
   "source": [
    "# Document AI Migrating Schema Between Processors"
   ]
  },
  {
   "cell_type": "markdown",
   "id": "a1f434f4-ec7e-4f23-a0a5-da02094a754f",
   "metadata": {},
   "source": [
    "* Author: docai-incubator@google.com"
   ]
  },
  {
   "cell_type": "markdown",
   "id": "2a5283be-a5b8-44c0-9f2c-a30a2016092e",
   "metadata": {},
   "source": [
    "## Objective"
   ]
  },
  {
   "cell_type": "markdown",
   "id": "21b6b827-3ae9-4292-bfe5-57711a5d31d6",
   "metadata": {},
   "source": [
    "The code snippet utilizes the Google Cloud Document AI library to migrate a Document AI Dataset schema from one processor to another. It allows for the migration of schemas within the same Google Cloud project and also between distinct projects."
   ]
  },
  {
   "cell_type": "markdown",
   "id": "18e06ac8-d96b-4b09-b2c6-809b38c3bcda",
   "metadata": {},
   "source": [
    "## Pre-requisites"
   ]
  },
  {
   "cell_type": "markdown",
   "id": "3da16c4b-dd79-4fe5-8800-ad6b921c20a6",
   "metadata": {},
   "source": [
    "* Vertex AI Notebook\n",
    "* Access to Projects and Document AI Processors\n"
   ]
  },
  {
   "cell_type": "markdown",
   "id": "67cf9183-3183-4062-8956-d7a6d320dd8c",
   "metadata": {},
   "source": [
    "## Step by Step procedure "
   ]
  },
  {
   "cell_type": "markdown",
   "id": "c363c466-fbcd-437b-83a3-ba93f59462e4",
   "metadata": {},
   "source": [
    "### 1. Import the Libraries"
   ]
  },
  {
   "cell_type": "code",
   "execution_count": null,
   "id": "33d58fb1-41fb-4ec8-8f67-7cb45cda613a",
   "metadata": {},
   "outputs": [],
   "source": [
    "from google.cloud import documentai_v1beta3"
   ]
  },
  {
   "cell_type": "markdown",
   "id": "577eadfe-75cb-445a-bb8e-b933f9994a07",
   "metadata": {},
   "source": [
    "### 2. Configure the Inputs"
   ]
  },
  {
   "cell_type": "markdown",
   "id": "02b5acb7-eacf-4349-8751-f6449f308b00",
   "metadata": {},
   "source": [
    "* **source_processor_id** : This is the Source Processor ID present in source processor details.\n",
    "* **destination_processor_id** : This is the Destination Processor ID present in destination processor details.\n",
    "* **source_project_id** : This is the project id of the source project.\n",
    "* **destination_project_id** : This is the project id of the destination project."
   ]
  },
  {
   "cell_type": "code",
   "execution_count": null,
   "id": "73301281-6469-4e48-8108-8f82004c0269",
   "metadata": {},
   "outputs": [],
   "source": [
    "source_processor_id = \"XXX-XXX-XXX\"  # Source Processor ID\n",
    "destination_processor_id = \"YYY-YYY-YYY\"  # Destination Processor ID\n",
    "source_project_id = \"ZZZ-ZZZ-ZZZ\"  # Source Project ID\n",
    "destination_project_id = \"ZZZ-ZZZ-ZZZ\"  # Destination Project ID"
   ]
  },
  {
   "cell_type": "markdown",
   "id": "abe99438-8fba-4524-8078-5115c15d6687",
   "metadata": {},
   "source": [
    "### 3. Execute the code"
   ]
  },
  {
   "cell_type": "code",
   "execution_count": null,
   "id": "59121513-f87c-4bc3-9c98-34c908f799e5",
   "metadata": {},
   "outputs": [],
   "source": [
    "client = documentai_v1beta3.DocumentServiceClient()\n",
    "request = documentai_v1beta3.GetDatasetSchemaRequest(\n",
    "    name=f\"projects/{source_project_id}/locations/us/processors/{source_processor_id}/dataset/datasetSchema\",\n",
    "    visible_fields_only=True,\n",
    ")\n",
    "\n",
    "old_schema = client.get_dataset_schema(request=request)\n",
    "\n",
    "# print(old_schema) # Print the Old Schema\n",
    "\n",
    "old_schema.name = f\"projects/{destination_project_id}/locations/us/processors/{destination_processor_id}/dataset/datasetSchema\"  # Destination Processor\n",
    "\n",
    "request = documentai_v1beta3.UpdateDatasetSchemaRequest(dataset_schema=old_schema)\n",
    "\n",
    "# Make the request\n",
    "response = client.update_dataset_schema(request=request)\n",
    "\n",
    "print(\"Schema Updated\")"
   ]
  },
  {
   "cell_type": "markdown",
   "id": "b080c655-5408-45c5-8830-1cd240f713fc",
   "metadata": {},
   "source": [
    "With the provided code, users can effortlessly duplicate dataset schemas across processors."
   ]
  },
  {
   "cell_type": "markdown",
   "id": "b1786caf-b550-406c-ae80-7d73ccd94d3a",
   "metadata": {},
   "source": [
    "**Note**:\n",
    "* The **visible_fields_only=True** parameter in the GetDatasetSchemaRequest ensures that only the enabled fields from the source schema are transferred. If set to False, all fields from the source schema, regardless of their visibility status, will be transferred to the destination schema.\n",
    "\n",
    "* When transferring the schema, all existing schema in the destination processor will be overwritten. This means any pre-existing schema in the destination processor will be replaced with the schema from the source processor.\n"
   ]
  },
  {
   "cell_type": "markdown",
   "id": "b7866c5f-c98c-4f11-9801-37bac34f83af",
   "metadata": {},
   "source": [
    "### 4. Output"
   ]
  },
  {
   "cell_type": "markdown",
   "id": "b7e37c01-e0a0-46d9-8f73-bc3660753893",
   "metadata": {},
   "source": [
    "* Source Project Processor Schema :\n",
    "\n",
    "<img src = \"./Images/Project_A_Source_Schema.png\" width=800 height=400 alt=\"Project_A_Source_Schema\"></img>\n",
    "\n",
    "* Destination Project Processor Schema : \n",
    "\n",
    "<img src = \"./Images/Project_B_Destination.png\" width=800 height=400 alt=\"Project_B_Destination\"></img>"
   ]
  },
  {
   "cell_type": "code",
   "execution_count": null,
   "id": "d6b4f053-9e39-46aa-bee7-edb705ee74bf",
   "metadata": {},
   "outputs": [],
   "source": []
  }
 ],
 "metadata": {
  "environment": {
   "kernel": "python3",
   "name": "common-cpu.m112",
   "type": "gcloud",
   "uri": "gcr.io/deeplearning-platform-release/base-cpu:m112"
  },
  "kernelspec": {
   "display_name": "Python 3",
   "language": "python",
   "name": "python3"
  },
  "language_info": {
   "codemirror_mode": {
    "name": "ipython",
    "version": 3
   },
   "file_extension": ".py",
   "mimetype": "text/x-python",
   "name": "python",
   "nbconvert_exporter": "python",
   "pygments_lexer": "ipython3",
   "version": "3.7.12"
  }
 },
 "nbformat": 4,
 "nbformat_minor": 5
}
