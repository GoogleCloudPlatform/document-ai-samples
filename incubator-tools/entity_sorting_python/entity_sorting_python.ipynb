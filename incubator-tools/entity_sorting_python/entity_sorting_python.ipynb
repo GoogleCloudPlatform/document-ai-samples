{
 "cells": [
  {
   "cell_type": "markdown",
   "id": "a9ed1d8d-6e1b-46b9-9063-43795a8910d9",
   "metadata": {},
   "source": [
    "# Entities Sorting Script"
   ]
  },
  {
   "cell_type": "markdown",
   "id": "4b3e64f8-6bb0-4b3f-91c3-5801fc211e44",
   "metadata": {},
   "source": [
    "* Author: docai-incubator@google.com"
   ]
  },
  {
   "cell_type": "markdown",
   "id": "a1ae17bc-144a-457d-87a4-5e293eead7e7",
   "metadata": {},
   "source": [
    "## Disclaimer\n",
    "\n",
    "This tool is not supported by the Google engineering team or product team. It is provided and supported on a best-effort basis by the DocAI Incubator Team. No guarantees of performance are implied."
   ]
  },
  {
   "cell_type": "markdown",
   "id": "2325f4e0-5120-4c22-96d9-bd8b5051ea78",
   "metadata": {},
   "source": [
    "## Purpose and Description\n",
    "This document provides instructions for sorting the entities from top to bottom as it is in documents from parser output.This document provides the function taking json as input from parser and returns a sorted json."
   ]
  },
  {
   "cell_type": "markdown",
   "id": "ea8ce959-76b1-4f53-b750-3d5f213a8782",
   "metadata": {},
   "source": [
    "## Prerequisites\n",
    "\n",
    "1. Vertex AI Notebook\n",
    "2. Parsed json files in GCS Folder.\n",
    "3. Output folder to upload the updated json files."
   ]
  },
  {
   "cell_type": "markdown",
   "id": "0c2b592c-7fb0-4db4-9d49-926e7ef5f8ec",
   "metadata": {},
   "source": [
    "## Step by Step procedure "
   ]
  },
  {
   "cell_type": "code",
   "execution_count": 4,
   "id": "33c2fc8a-b64b-485d-be06-9174010b9dbf",
   "metadata": {},
   "outputs": [],
   "source": [
    "!wget https://raw.githubusercontent.com/GoogleCloudPlatform/document-ai-samples/main/incubator-tools/best-practices/utilities/utilities.py"
   ]
  },
  {
   "cell_type": "markdown",
   "id": "d65b7bcc-3303-48a9-803f-35e48da9732a",
   "metadata": {},
   "source": [
    "### 1. Input details"
   ]
  },
  {
   "cell_type": "code",
   "execution_count": null,
   "id": "ed44f6cc-c826-4452-8c69-7a8b796f5ab3",
   "metadata": {},
   "outputs": [],
   "source": [
    "input_path = \"gs://xxxxx/xxxxxxx\"\n",
    "output_path = \"gs://xxxxxxx/xxxxxxxx/xxxx\""
   ]
  },
  {
   "cell_type": "markdown",
   "id": "fb6ad515-c0e5-4053-b7c6-af6470f5e351",
   "metadata": {},
   "source": [
    "input_path : GCS Path for input json files<br>\n",
    "output_path: GCS Path for output json files<br>"
   ]
  },
  {
   "cell_type": "markdown",
   "id": "bb90bed7-66ec-4548-85d6-f77812915b19",
   "metadata": {},
   "source": [
    "### 2. Output"
   ]
  },
  {
   "cell_type": "markdown",
   "id": "6681950f-152d-460b-b186-131c46c9578e",
   "metadata": {},
   "source": [
    "<img src=\"./Images/entity_sorting_output.png\" width=800 height=400 alt=\"Entity sorting output image\">"
   ]
  },
  {
   "cell_type": "markdown",
   "id": "da4c1ade-f93c-4b5b-8f60-1db48d504544",
   "metadata": {},
   "source": [
    "### 3. Run the code"
   ]
  },
  {
   "cell_type": "code",
   "execution_count": null,
   "id": "b86fe030-103f-4e6b-a202-a69908f626b2",
   "metadata": {
    "tags": []
   },
   "outputs": [],
   "source": [
    "from google.cloud import documentai_v1beta3 as documentai\n",
    "from utilities import (\n",
    "    documentai_json_proto_downloader,\n",
    "    file_names,\n",
    "    store_document_as_json,\n",
    ")\n",
    "from typing import Any, Dict, List, Optional, Sequence, Tuple, Union\n",
    "\n",
    "input_path = \"gs://xxxxx/xxxxxxx\"\n",
    "output_path = \"gs://xxxxxxx/xxxxxxxx/xxxx\"\n",
    "\n",
    "\n",
    "def entity_ordering(document: documentai.Document) -> documentai.Document:\n",
    "    \"\"\"\n",
    "    Function take unordered document and sort the entities in json.\n",
    "\n",
    "    Args:\n",
    "        document:documentai.Document : The original document object from gcp storage.\n",
    "\n",
    "    Returns:\n",
    "        documentai.Document: The sorted document object .\n",
    "    \"\"\"\n",
    "\n",
    "    # Sorting childrens\n",
    "    for entity in document.entities:\n",
    "        if entity.properties:\n",
    "            sorted_child = sorted(\n",
    "                entity.properties,\n",
    "                key=lambda x: x.page_anchor.page_refs[0]\n",
    "                .bounding_poly.normalized_vertices[0]\n",
    "                .x,\n",
    "            )\n",
    "            entity.properties = sorted_child\n",
    "\n",
    "    entities_by_page = [[] for i in range(document.pages.__len__())]\n",
    "    for i in document.entities:\n",
    "        if i.properties:\n",
    "            page_ref = i.properties[0].page_anchor.page_refs[0]\n",
    "            if page_ref.page:\n",
    "                page_number = int(page_ref.page)\n",
    "            else:\n",
    "                page_number = 0\n",
    "        else:\n",
    "            page_ref = i.page_anchor.page_refs[0]\n",
    "            if page_ref.page:\n",
    "                page_number = int(page_ref.page)\n",
    "            else:\n",
    "                page_number = 0\n",
    "        entities_by_page[page_number].append(i)\n",
    "\n",
    "        # Sorting entities\n",
    "        entites_array = []\n",
    "\n",
    "        for page in entities_by_page:\n",
    "            sort_array = []\n",
    "            for i in page:\n",
    "                if i.properties:\n",
    "                    sort_array.append(\n",
    "                        [\n",
    "                            i.properties[0]\n",
    "                            .page_anchor.page_refs[0]\n",
    "                            .bounding_poly.normalized_vertices[0]\n",
    "                            .y,\n",
    "                            i,\n",
    "                        ]\n",
    "                    )\n",
    "                else:\n",
    "                    sort_array.append(\n",
    "                        [\n",
    "                            i.page_anchor.page_refs[0]\n",
    "                            .bounding_poly.normalized_vertices[0]\n",
    "                            .y,\n",
    "                            i,\n",
    "                        ]\n",
    "                    )\n",
    "\n",
    "            sort_array.sort(key=lambda item: item[0])\n",
    "            sort_array = [i[1] for i in sort_array]\n",
    "            entites_array.extend(sort_array)\n",
    "        document.entities = entites_array\n",
    "\n",
    "    return document\n",
    "\n",
    "\n",
    "def main():\n",
    "    \"\"\"\n",
    "    It is a main function to call all other helper functions.\n",
    "\n",
    "    \"\"\"\n",
    "\n",
    "    input_bucket_name = input_path.split(\"/\")[2]\n",
    "    input_prefix_path = \"/\".join(input_path.split(\"/\")[3:])\n",
    "    output_bucket_name = output_path.split(\"/\")[2]\n",
    "    output_prefix_path = \"/\".join(output_path.split(\"/\")[3:])\n",
    "    file_name_list = [\n",
    "        i for i in list(file_names(input_path)[1].values()) if i.endswith(\".json\")\n",
    "    ]\n",
    "    for file_name in file_name_list:\n",
    "        try:\n",
    "            document_obj = documentai_json_proto_downloader(\n",
    "                input_bucket_name, file_name\n",
    "            )\n",
    "            sorted_document_obj = entity_ordering(document_obj)\n",
    "            output_file_name = f\"{output_prefix_path}/{file_name.split('/')[-1]}\"\n",
    "            store_document_as_json(\n",
    "                documentai.Document.to_json(sorted_document_obj),\n",
    "                output_bucket_name,\n",
    "                output_file_name,\n",
    "            )\n",
    "            print(f\"[✓] {output_bucket_name}/{output_file_name}\")\n",
    "        except Exception as e:\n",
    "            print(f\"[x] {input_bucket_name}/{file_name} || Error : {str(e)}\")\n",
    "    print(\"\\nOperation completed\")\n",
    "\n",
    "\n",
    "main()"
   ]
  }
 ],
 "metadata": {
  "environment": {
   "kernel": "conda-root-py",
   "name": "workbench-notebooks.m113",
   "type": "gcloud",
   "uri": "gcr.io/deeplearning-platform-release/workbench-notebooks:m113"
  },
  "kernelspec": {
   "display_name": "Python 3 (ipykernel) (Local)",
   "language": "python",
   "name": "conda-root-py"
  },
  "language_info": {
   "codemirror_mode": {
    "name": "ipython",
    "version": 3
   },
   "file_extension": ".py",
   "mimetype": "text/x-python",
   "name": "python",
   "nbconvert_exporter": "python",
   "pygments_lexer": "ipython3",
   "version": "3.10.13"
  }
 },
 "nbformat": 4,
 "nbformat_minor": 5
}
