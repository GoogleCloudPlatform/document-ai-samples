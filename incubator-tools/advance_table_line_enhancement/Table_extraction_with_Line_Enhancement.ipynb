{
 "cells": [
  {
   "cell_type": "markdown",
   "id": "79c0a10c-1269-4a48-b4c5-ef4bbbdd2644",
   "metadata": {},
   "source": [
    "# Line Enhancement and OCR Walk Flow"
   ]
  },
  {
   "cell_type": "markdown",
   "id": "0f01fe57-ffc0-402b-81ac-5f77ebd77ece",
   "metadata": {},
   "source": [
    "* Author: docai-incubator@google.com"
   ]
  },
  {
   "cell_type": "markdown",
   "id": "7fa07f2d-5087-4d8d-9ceb-5d46a21e8926",
   "metadata": {},
   "source": [
    "## Disclaimer\n",
    "\n",
    "This tool is not supported by the Google engineering team or product team. It is provided and supported on a best-effort basis by the **DocAI Incubator Team**. No guarantees of performance are implied."
   ]
  },
  {
   "cell_type": "markdown",
   "id": "a2c6bbc7-49af-4a2d-98b8-09b9b8739e57",
   "metadata": {},
   "source": [
    "## Objective\n",
    "\n",
    "This tool built using Python programming language. It converts tables present in pdf to csv files and stores them in GCS bucket by enhancing input pdf files & parsing them through both Form Parser & CDE results."
   ]
  },
  {
   "cell_type": "markdown",
   "id": "107ff6ab-a7a9-4e31-b00f-9e7706fca09f",
   "metadata": {},
   "source": [
    "# Pre-requisites"
   ]
  },
  {
   "cell_type": "markdown",
   "id": "05b0a705-8144-40d4-a92a-15488bd4d1bf",
   "metadata": {},
   "source": [
    "This tool requires the following services:\n",
    "\n",
    " * Vertex AI Notebook instance\n",
    " * Access to Document AI Form Parser & CDE Processor\n",
    " * GCS Bucket containing input PDFs & to store output results\n",
    " \n",
    "Google Jupyter Notebook is used for running the python notebook file. Cloud Storage Buckets is needed to store and pass input files to this script & to store results."
   ]
  },
  {
   "cell_type": "markdown",
   "id": "efd3c184-5bce-4ebe-bcdd-5eddf5810c88",
   "metadata": {},
   "source": [
    "CDE for Headers, Create a Custom Document Extractor(CDE) Processor & Configure HITL to review poor performing documents. Train your CDE as per your use-case table by annotating **row headers** & **column headers** for specific use-case-table\n",
    "* Input for this step is GCS bucket containing PDF files(which has only your specific-use-case tables), now run `batch_process_documents`\n",
    "* Output JSON files will be store GCS bucket \n",
    "\n",
    "Sample image after training CDE processor for row columns & header columns\n",
    "<table>\n",
    "  <tr>\n",
    "      <td><b>CDE Sample</b></td>\n",
    "    <td><img src=\"./Images/cde_train_sample.png\" width=500 height=200></td>\n",
    "  </tr>\n",
    "</table> \n",
    "Here are sample row headers and column headers which we followed while training CDE for our specific use-case table  \n",
    "\n",
    "**column headers** are as follow a [\"SCC\", \"DNSH\", \"DNSH_P\", \"code\", \"business_measure\", \"DNSH_BE\", \"DNSH_CCA\", \"DNSH_CCM\", \"DNSH_CE\", \"DNSH_WMR\", \"min_safeguards\", \"proportion_of_bm\", \"SCC_BE\", \"SCC_CCA\", \"SCC_CCM\", \"SCC_CE\", \"SCC_P\", \"SCC_WMR\"] and **row headers** are as follow [\"taxonomy_disclosure\", \"activity\"]"
   ]
  },
  {
   "cell_type": "markdown",
   "id": "53acbcf2-499b-481d-a64d-f2f334554577",
   "metadata": {},
   "source": [
    "# Script"
   ]
  },
  {
   "cell_type": "markdown",
   "id": "2ad3f0db-8f32-4fec-b480-a17cd2b39967",
   "metadata": {},
   "source": [
    "# 1. Import Modules/Packages"
   ]
  },
  {
   "cell_type": "markdown",
   "id": "7fe0b7ca-ee26-4949-bd3e-8a3b412fb750",
   "metadata": {},
   "source": [
    "**Note** : Please download the **tool_helper_functions.py** Python file before proceeding to further steps."
   ]
  },
  {
   "cell_type": "code",
   "execution_count": null,
   "id": "a789a344-ca2e-49a6-b8ce-e7c9b1a0d673",
   "metadata": {},
   "outputs": [],
   "source": [
    "import datetime\n",
    "from tool_helper_functions import (\n",
    "    batch_process_documents,\n",
    "    poll_hitl_operations,\n",
    "    get_processor_metadata,\n",
    "    enhance_and_save_pdfs,\n",
    "    walk_the_ocr,\n",
    ")"
   ]
  },
  {
   "cell_type": "markdown",
   "id": "f60bfb4d-f9e2-48de-894a-f0c736ba45e6",
   "metadata": {},
   "source": [
    "# 2. Input Details : Configure below Input variables"
   ]
  },
  {
   "cell_type": "markdown",
   "id": "72b880fe-b8f5-466d-b7aa-fe387b7008ad",
   "metadata": {},
   "source": [
    "* **project_id**: GCP project ID\n",
    "* **project_num**: GCP project Number\n",
    "* **location**: Processor location `us` or `eu`\n",
    "* **cde_processor_id**: CDE processor ID to call batch process\n",
    "* **gcs_input_uri**: GCS folder which contains input pdf files(files with only specific-use-case tables)\n",
    "* **input_mime_type**: Mime type of input files which is `application/pdf` here\n",
    "* **gcs_output_bucket_uri**: GCS output bucket uri without trailing slash\n",
    "* **gcs_output_uri_prefix**: GCS output folder path to store results\n",
    "* **field_mask**:  To store specific keys of document proto (entities,pages.pageNumber)\n",
    "* **timeout**: to wait for batch process LRO operation to complete\n",
    "* **gcs_cde_hitl_output_prefix**: GCS folder which stored HITL output results fro CDE prpcessor\n",
    "* **line_enhancement_vertical_offset**: Offset used to adjust the placement of the vertical lines, it can be tuned based on the layout\n",
    "* **line_enhancement_horizontal_offset**: Offset used to adjust the placement of the horizontal lines, it can be tuned based on the layout\n",
    "* **flow**: for this notebook file flow is `line_enhancement_basic`\n",
    "* **fp_processor_id**: FP Processor ID to call batch process\n",
    "* **fp_processor_v2**: FP version2 ID to call batch process\n",
    "* **gcs_line_enhance_output_prefix**: GCS prefix to store Line enhancement results\n",
    "* **gcs_fpoutput_uri_prefix**: GCS prefix to store FP results"
   ]
  },
  {
   "cell_type": "code",
   "execution_count": null,
   "id": "e0d6c085-a232-480e-ba7d-7ac00d47e185",
   "metadata": {},
   "outputs": [],
   "source": [
    "datetime_suffix = \"{date:%Y-%m-%d_%H:%M:%S}\".format(date=datetime.datetime.now())\n",
    "\n",
    "project_id = \"<your-project-id>\"\n",
    "project_num = \"<your-project-number>\"\n",
    "location = \"<processor-location>\"  # us or eu\n",
    "cde_processor_id = \"<cde-processor-id>\"\n",
    "gcs_input_uri = f\"gs://bucket_name/prefix/to_input/{datetime_suffix}\"\n",
    "input_mime_type = \"<mime-type-of-input-file>\"  # \"application/pdf\"\n",
    "gcs_output_bucket_uri = \"gs://bucket_name\"\n",
    "gcs_output_uri_prefix = f\"output_folder/prefix/{datetime_suffix}\"\n",
    "field_mask = None  # \"entities,pages.pageNumber\"\n",
    "timeout = 5000\n",
    "gcs_cde_hitl_output_prefix = \"cde-hitl/output/prefix\"\n",
    "line_enhancement_vertical_offset = 25\n",
    "line_enhancement_horizontal_offset = 5\n",
    "\n",
    "flow = \"line_enhancement_ocr_walk\"\n",
    "fp_processor_id = \"<form-processor-id>\"\n",
    "fp_processor_v2 = \"<fp-version-id\"\n",
    "gcs_line_enhance_output_prefix = \"line_enhancement_ocr_walk/output/prefix\"\n",
    "gcs_fpoutput_uri_prefix = \"fp_output/prefix\"\n",
    "\n",
    "\n",
    "line_enhance_prefix = f\"{gcs_line_enhance_output_prefix}/{datetime_suffix}\"\n",
    "gcs_output_bucket = gcs_output_bucket_uri.replace(\"gs://\", \"\")"
   ]
  },
  {
   "cell_type": "markdown",
   "id": "bc17cd73-dc06-44c9-9e1c-95b91224b077",
   "metadata": {},
   "source": [
    "# 3. Run below code"
   ]
  },
  {
   "cell_type": "markdown",
   "id": "070b4fdc-86ca-4fb9-acc7-8882d5e55f02",
   "metadata": {},
   "source": [
    "Now call `batch_process_documents` function to process all files in input folder(each file contains specific-use-case table only), it results metadata & operation_id of batch process(Long Running Operation)"
   ]
  },
  {
   "cell_type": "code",
   "execution_count": null,
   "id": "a08d85f9-e1eb-4897-a1e8-e8e0abcacdd2",
   "metadata": {},
   "outputs": [],
   "source": [
    "cde_metadata, cde_operation = batch_process_documents(\n",
    "    project_id,\n",
    "    location,\n",
    "    cde_processor_id,\n",
    "    gcs_input_uri,\n",
    "    input_mime_type,\n",
    "    gcs_output_bucket_uri,\n",
    "    gcs_output_uri_prefix,\n",
    "    field_mask,\n",
    "    timeout,\n",
    ")\n",
    "print(\"CDE batch process completed\")"
   ]
  },
  {
   "cell_type": "markdown",
   "id": "46c39adc-e0bf-4329-a77c-b88eb083f4ce",
   "metadata": {},
   "source": [
    "Now use `get_processor_metadata` function from utils module, it takes batch process metsdata as input and results key-value pairs of filenames & it's prefix and hitl operation-id(if input files triggers hitl)"
   ]
  },
  {
   "cell_type": "code",
   "execution_count": null,
   "id": "e2a8006e-2ab7-4644-9529-ef141c7d16ba",
   "metadata": {},
   "outputs": [],
   "source": [
    "cde_input_output_map = get_processor_metadata(cde_metadata)\n",
    "# cde_input_output_map variable data as below\n",
    "# {'03_Non-Financial_Corporate_Report_2022_extracted.pdf': {'cde': 'msci/TESTING/test_cde_output/2023-11-03_05:45:35/4236894205843634293/0', 'hitl': '12795457638097959002'}, '1962771_extracted.pdf': {'cde': 'msci/TESTING/test_cde_output/2023-11-03_05:45:35/4236894205843634293/1', 'hitl': '11860520012484438543'}, '2022_VGT_Group Annual Report_extracted.pdf': {'cde': 'msci/TESTING/test_cde_output/2023-11-03_05:45:35/4236894205843634293/5', 'hitl': '2523802694474965110'}, 'DE0007030009-JA-2022-EQ-E-00-pg144_extracted.pdf': {'cde': 'msci/TESTING/test_cde_output/2023-11-03_05:45:35/4236894205843634293/3', 'hitl': '14342450698739476592'}, 'DE0007030009-JA-2022-EQ-E-00_extracted.pdf': {'cde': 'msci/TESTING/test_cde_output/2023-11-03_05:45:35/4236894205843634293/4', 'hitl': '17242897657994716395'}, 'DE000STRA555-JA-2022-EQ-E-00_extracted.pdf': {'cde': 'msci/TESTING/test_cde_output/2023-11-03_05:45:35/4236894205843634293/2', 'hitl': '2909143051612169782'}}"
   ]
  },
  {
   "cell_type": "markdown",
   "id": "646a3964-3913-4214-a92a-672fba16e9e9",
   "metadata": {},
   "source": [
    "`poll_hitl_operations` is a waiting function to check & resolve HITL triggered documents"
   ]
  },
  {
   "cell_type": "code",
   "execution_count": null,
   "id": "3299bdb3-1237-41e6-b069-c7cae1ca6ea9",
   "metadata": {},
   "outputs": [],
   "source": [
    "poll_hitl_operations(project_num, location, cde_input_output_map)"
   ]
  },
  {
   "cell_type": "markdown",
   "id": "9345deef-e48b-41ce-8289-487df8b4ba74",
   "metadata": {},
   "source": [
    "Now run `enhance_and_save_pdfs` function from line_enhancement module. Here we are identifying y-coordinates of row-headers to draw horizontal-lines. This is where actual line enhancement process for CDE output files"
   ]
  },
  {
   "cell_type": "code",
   "execution_count": null,
   "id": "628e4ea3-1a21-48d5-8588-5f85e0a9b49a",
   "metadata": {},
   "outputs": [],
   "source": [
    "# line_enhance_prefix = f\"{gcs_line_enhance_output_prefix}/{datetime_suffix}\"\n",
    "enhance_and_save_pdfs(\n",
    "    gcs_output_bucket,\n",
    "    gcs_cde_hitl_output_prefix,\n",
    "    line_enhance_prefix,\n",
    "    cde_input_output_map,\n",
    "    line_enhancement_vertical_offset,\n",
    "    line_enhancement_horizontal_offset,\n",
    ")"
   ]
  },
  {
   "cell_type": "code",
   "execution_count": null,
   "id": "d6810abf-b33f-4501-8f8a-d81aaca01d63",
   "metadata": {},
   "outputs": [],
   "source": [
    "gcs_line_output_path = (\n",
    "    f\"{gcs_output_bucket_uri}/{gcs_line_enhance_output_prefix}/{datetime_suffix}\"\n",
    ")\n",
    "fp_processor_v = fp_processor_v2\n",
    "\n",
    "fp_metadata, fp_operation = batch_process_documents(\n",
    "    project_id,\n",
    "    location,\n",
    "    fp_processor_id,\n",
    "    gcs_line_output_path,\n",
    "    input_mime_type,\n",
    "    gcs_output_bucket_uri,\n",
    "    f\"{gcs_fpoutput_uri_prefix}/{datetime_suffix}\",\n",
    "    field_mask,\n",
    "    timeout,\n",
    "    fp_processor_v,\n",
    ")\n",
    "print(\"FP batch process completed\")"
   ]
  },
  {
   "cell_type": "code",
   "execution_count": null,
   "id": "1e083aee-338a-474b-9b88-17f5bedbc7e3",
   "metadata": {},
   "outputs": [],
   "source": [
    "fp_input_output_map = get_processor_metadata(fp_metadata, fp=True)"
   ]
  },
  {
   "cell_type": "markdown",
   "id": "c9a66e27-209c-4aa0-b727-30208a499d42",
   "metadata": {},
   "source": [
    "If you configured HITL for Form Parser, then you can use *poll_hitl_operations*, if not you can skip running this function.  \n",
    "`poll_hitl_operations` is a waiting function to check & resolve HITL triggered documents."
   ]
  },
  {
   "cell_type": "code",
   "execution_count": null,
   "id": "3b7d0467-5939-4154-8007-fa18b2dd9c19",
   "metadata": {},
   "outputs": [],
   "source": [
    "poll_hitl_operations(project_num, location, fp_input_output_map)"
   ]
  },
  {
   "cell_type": "markdown",
   "id": "e4bb4f18-1db3-4bf5-bd8a-5c1e8702f65d",
   "metadata": {},
   "source": [
    "Use `walk_the_ocr` function to read CDE and FP json output and parse it to get final output"
   ]
  },
  {
   "cell_type": "code",
   "execution_count": null,
   "id": "3a8e4c07-7c9d-4f1f-b99a-ec942dd5da1e",
   "metadata": {},
   "outputs": [],
   "source": [
    "print(flow)\n",
    "walk_the_ocr(\n",
    "    project_id,\n",
    "    location,\n",
    "    cde_input_output_map,\n",
    "    gcs_output_bucket,\n",
    "    gcs_cde_hitl_output_prefix,\n",
    "    fp_input_output_map,\n",
    "    f\"{gcs_output_uri_prefix}/{flow}/{datetime_suffix}\",\n",
    "    offset,\n",
    ")"
   ]
  },
  {
   "cell_type": "markdown",
   "id": "589ae870-f711-4736-ab1e-0b08fa189e74",
   "metadata": {
    "tags": []
   },
   "source": [
    "# 4. Output Samples"
   ]
  },
  {
   "cell_type": "markdown",
   "id": "596f22c7-e68a-4f34-8ce9-e7b4822d31f2",
   "metadata": {},
   "source": [
    "Table Sample from pdf file\n",
    "![](./Images/line_enhancement_basic_table_img.png)"
   ]
  },
  {
   "cell_type": "markdown",
   "id": "a16e8a7d-d133-4a4e-bf54-021a68ea7545",
   "metadata": {},
   "source": [
    "Table sample of pdf file after running **enhance_save_pdfs** function  \n",
    "![](./Images/after_line_enhancement_sample.png)"
   ]
  },
  {
   "cell_type": "markdown",
   "id": "9ac67de3-7306-4e41-b046-7021ae086d79",
   "metadata": {},
   "source": [
    "output sample for one-table which stored as csv files in GCS bucket\n",
    "![](./Images/line_enhancement_basic_table_img(pg1_tb0.csv).png)"
   ]
  }
 ],
 "metadata": {
  "environment": {
   "kernel": "conda-root-py",
   "name": "workbench-notebooks.m113",
   "type": "gcloud",
   "uri": "gcr.io/deeplearning-platform-release/workbench-notebooks:m113"
  },
  "kernelspec": {
   "display_name": "Python 3 (ipykernel) (Local)",
   "language": "python",
   "name": "conda-root-py"
  },
  "language_info": {
   "codemirror_mode": {
    "name": "ipython",
    "version": 3
   },
   "file_extension": ".py",
   "mimetype": "text/x-python",
   "name": "python",
   "nbconvert_exporter": "python",
   "pygments_lexer": "ipython3",
   "version": "3.10.13"
  }
 },
 "nbformat": 4,
 "nbformat_minor": 5
}
