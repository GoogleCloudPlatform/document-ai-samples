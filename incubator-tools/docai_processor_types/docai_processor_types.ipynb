{
 "cells": [
  {
   "cell_type": "markdown",
   "id": "5cf0ae1d-29da-48d3-9b44-9545f9d7a749",
   "metadata": {},
   "source": [
    "# DocAI Processor Types"
   ]
  },
  {
   "cell_type": "markdown",
   "id": "28f9ebfa-2c95-4f34-b4fd-a3ff7e22bd32",
   "metadata": {},
   "source": [
    "* Author: docai-incubator@google.com"
   ]
  },
  {
   "cell_type": "markdown",
   "id": "3371412b-ec68-4672-87ee-024563e12d84",
   "metadata": {},
   "source": [
    "## Disclaimer"
   ]
  },
  {
   "cell_type": "markdown",
   "id": "07a0305d-55da-42d8-975f-4ab636ca3503",
   "metadata": {},
   "source": [
    "This tool is not supported by the Google engineering team or product team. It is provided and supported on a best-effort basis by the DocAI Incubator Team. No guarantees of performance are implied.\n"
   ]
  },
  {
   "cell_type": "markdown",
   "id": "6b2b88f9-2a3f-47fd-9f52-513f9b81304d",
   "metadata": {},
   "source": [
    "## Objective"
   ]
  },
  {
   "cell_type": "markdown",
   "id": "6975eafe-fcf8-4ad9-b60f-016ee7516559",
   "metadata": {},
   "source": [
    "This document guides to check the processor types available in document ai.\n"
   ]
  },
  {
   "cell_type": "markdown",
   "id": "6d90ebe2-7ec5-475e-bafc-0bcf53c307e4",
   "metadata": {},
   "source": [
    "## Prerequisites"
   ]
  },
  {
   "cell_type": "markdown",
   "id": "9cfd3edd-d380-438c-b92c-613b6c4cd53f",
   "metadata": {},
   "source": [
    "* Vertex AI Notebook"
   ]
  },
  {
   "cell_type": "markdown",
   "id": "c8a29931-5e8e-44dd-b5c2-a160a5c1c19f",
   "metadata": {},
   "source": [
    "## Step by Step Procedure"
   ]
  },
  {
   "cell_type": "markdown",
   "id": "33abcde4-08b3-49f5-9c8d-a328f36cf8b6",
   "metadata": {},
   "source": [
    "### 1.Importing required Modules"
   ]
  },
  {
   "cell_type": "code",
   "execution_count": null,
   "id": "b549a0e5-6133-47e5-8bd9-0dec3930195b",
   "metadata": {},
   "outputs": [],
   "source": [
    "from google.cloud import documentai_v1beta3 as documentai\n",
    "import pandas as pd"
   ]
  },
  {
   "cell_type": "markdown",
   "id": "7df69acf-ad80-4ba7-bf3a-44f08a03957f",
   "metadata": {},
   "source": [
    "### 2.Setup the required Inputs\n",
    "* **project_number** : This contains the project number of the project.\n",
    "* **location** : This contains the region of the project."
   ]
  },
  {
   "cell_type": "markdown",
   "id": "f11cc226-4d21-47cc-a7ab-ddc63db297c5",
   "metadata": {},
   "source": [
    "### 3.Code snippet "
   ]
  },
  {
   "cell_type": "markdown",
   "id": "a8823f40-b6b6-4e5b-80d3-6b15dbef8f5c",
   "metadata": {},
   "source": [
    "Run the below function replacing your project number and location."
   ]
  },
  {
   "cell_type": "code",
   "execution_count": null,
   "id": "13a00389-3bef-476c-9459-07eca2648b07",
   "metadata": {},
   "outputs": [],
   "source": [
    "def processor_types(project_number: str, location: str) -> DataFrame:\n",
    "    \"\"\"\n",
    "    This function will generate the processor types present in the project based on project number and location.\n",
    "\n",
    "    Args:\n",
    "       project_number (str) :\n",
    "       location (str) :\n",
    "\n",
    "    Returns:\n",
    "      Dataframe (object) : The dataframe object containing the processor type details.\n",
    "    \"\"\"\n",
    "\n",
    "    client = documentai.DocumentProcessorServiceClient()\n",
    "    processor_types = client.fetch_processor_types(\n",
    "        parent=f\"projects/{project_number}/locations/{location}\"\n",
    "    )\n",
    "    processor_types_available = []\n",
    "    for processor in processor_types.processor_types:\n",
    "        # processor_types_available[processor.type]={'processor_category':processor.category,'processor_locations':processor.available_locations}\n",
    "        processor_type = {}\n",
    "        processor_category = {}\n",
    "        processor_locations = {}\n",
    "        processor_type[\"processor_type\"] = processor.type\n",
    "        processor_category[\"processor_category\"] = processor.category\n",
    "        processor_locations[\"processor_locations\"] = processor.available_locations\n",
    "\n",
    "        list_locations = []\n",
    "        for i in processor_locations[\"processor_locations\"]:\n",
    "            list_locations.append(i.location_id)\n",
    "        processor_locations[\"processor_locations\"] = list_locations\n",
    "        processor_types_available.append(\n",
    "            [processor_type, processor_category, processor_locations]\n",
    "        )\n",
    "\n",
    "    data = []\n",
    "    for item in processor_types_available:\n",
    "        processor_type = item[0][\"processor_type\"]\n",
    "        processor_category = item[1][\"processor_category\"]\n",
    "        processor_locations = item[2][\"processor_locations\"]\n",
    "        data.append([processor_type, processor_category, processor_locations])\n",
    "\n",
    "    # Convert to DataFrame\n",
    "    df = pd.DataFrame(\n",
    "        data, columns=[\"processor_type\", \"processor_category\", \"processor_locations\"]\n",
    "    )\n",
    "    df.to_csv(\"Processor_types.csv\")\n",
    "    return df"
   ]
  },
  {
   "cell_type": "code",
   "execution_count": null,
   "id": "114a0e8f-0aae-499f-ba2d-ed49f7fa11c3",
   "metadata": {},
   "outputs": [],
   "source": [
    "output = processor_types(\"projectnumber\", \"region\")"
   ]
  },
  {
   "cell_type": "markdown",
   "id": "f3534e83-3b0c-43d2-b7af-740a58c6f9c5",
   "metadata": {},
   "source": [
    "### 4.Output"
   ]
  },
  {
   "cell_type": "markdown",
   "id": "52978c96-a477-494a-9cd3-724f0987cd33",
   "metadata": {},
   "source": [
    "The above function returns a dataframe with processor type, category and available locations and csv file **(Processor_types.csv)** for the same.\n",
    "\n"
   ]
  },
  {
   "cell_type": "markdown",
   "id": "e68d4ea6-4e53-4c8a-88a4-3a2aace7fe08",
   "metadata": {},
   "source": [
    "Example:\n"
   ]
  },
  {
   "cell_type": "markdown",
   "id": "c71e3b53-a77a-4249-93e9-faf6663881cb",
   "metadata": {},
   "source": [
    "![Screenshot](https://screenshot.googleplex.com/AvGGu8WBcDaw743.png)"
   ]
  }
 ],
 "metadata": {
  "environment": {
   "kernel": "python3",
   "name": "common-cpu.m104",
   "type": "gcloud",
   "uri": "gcr.io/deeplearning-platform-release/base-cpu:m104"
  },
  "kernelspec": {
   "display_name": "Python 3",
   "language": "python",
   "name": "python3"
  },
  "language_info": {
   "codemirror_mode": {
    "name": "ipython",
    "version": 3
   },
   "file_extension": ".py",
   "mimetype": "text/x-python",
   "name": "python",
   "nbconvert_exporter": "python",
   "pygments_lexer": "ipython3",
   "version": "3.7.12"
  }
 },
 "nbformat": 4,
 "nbformat_minor": 5
}
