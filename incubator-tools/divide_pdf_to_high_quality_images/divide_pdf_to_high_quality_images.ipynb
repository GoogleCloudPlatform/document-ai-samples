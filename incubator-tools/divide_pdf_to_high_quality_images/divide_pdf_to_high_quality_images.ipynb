{
 "cells": [
  {
   "cell_type": "markdown",
   "id": "5cbcbc6b-0c0b-42d5-8619-ebd1f4bf8657",
   "metadata": {},
   "source": [
    "# Divide PDF To High Quality Images"
   ]
  },
  {
   "cell_type": "markdown",
   "id": "a054d9da-3034-4fb0-b828-cd536198f68c",
   "metadata": {},
   "source": [
    "* Author: docai-incubator@google.com"
   ]
  },
  {
   "cell_type": "markdown",
   "id": "108c2600-51ad-4085-9555-7f3332ccc1b4",
   "metadata": {},
   "source": [
    "## Disclaimer\n",
    "\n",
    "This tool is not supported by the Google engineering team or product team. It is provided and supported on a best-effort basis by the **DocAI Incubator Team**. No guarantees of performance are implied.\n"
   ]
  },
  {
   "cell_type": "markdown",
   "id": "4c8d9223-2537-4ae0-98a5-32e372d1419d",
   "metadata": {},
   "source": [
    "## Objective\n",
    "\n",
    "This tool is designed to efficiently process PDF documents, converting each individual page into a high-resolution image file. The primary goal is to ensure that the generated images maintain the quality and clarity of the original PDF content, making it suitable for various purposes such as archiving, sharing, or further image-based processing."
   ]
  },
  {
   "cell_type": "markdown",
   "id": "07918d4f-aae3-428d-8a71-4fbe2d6c8c90",
   "metadata": {},
   "source": [
    "## Prerequisites\n",
    "* Vertex AI Notebook\n",
    "* Python3"
   ]
  },
  {
   "cell_type": "markdown",
   "id": "c92d9b0c-4c03-41b6-aa2e-fcf838791610",
   "metadata": {},
   "source": [
    "## Step by Step procedure "
   ]
  },
  {
   "cell_type": "markdown",
   "id": "26d50f73-088d-4b58-9cfc-f276f2201f9c",
   "metadata": {},
   "source": [
    "### 1.Importing Required Modules"
   ]
  },
  {
   "cell_type": "code",
   "execution_count": null,
   "id": "a512cb48-2d05-4f19-9669-64af75a1edcd",
   "metadata": {
    "tags": []
   },
   "outputs": [],
   "source": [
    "!pip install pymupdf pillow"
   ]
  },
  {
   "cell_type": "code",
   "execution_count": null,
   "id": "ad415a6d-6b54-4241-a781-678a527f0ed7",
   "metadata": {
    "tags": []
   },
   "outputs": [],
   "source": [
    "import fitz  # PyMuPDF\n",
    "from PIL import Image\n",
    "import os"
   ]
  },
  {
   "cell_type": "markdown",
   "id": "110046b1-ebea-4a2b-990d-5acda4a3b66c",
   "metadata": {},
   "source": [
    "### 2.Setup the inputs\n",
    "\n",
    "* `pdf_path` : The file path to the input PDF document that needs to be processed.\n",
    "* `output_dir` : The directory where the processed output files (such as images extracted from the PDF) will be saved.\n",
    "* `DPI` : The resolution of the output images when converting a PDF to an image format. A higher DPI value results in better image quality but increases file size.\n",
    "* `UPSCALE_FACTOR` : A scaling factor applied to images to increase their resolution.\n",
    "* `JPEG_QUALITY` : The compression quality of JPEG images, usually a value between 0 and 100. A higher value retains more image details but results in larger file sizes.\n",
    "* `USE_WEBP` : A boolean flag (True/False) indicating whether to save images in WebP format instead of other formats like JPEG or PNG."
   ]
  },
  {
   "cell_type": "code",
   "execution_count": null,
   "id": "41618163-fafe-438a-a8d4-25571fc600b4",
   "metadata": {},
   "outputs": [],
   "source": [
    "pdf_path = \"input.PDF\"\n",
    "# Output directory setup\n",
    "output_dir = \"new_output_images\"\n",
    "# Reduce DPI for better file size (200 instead of 300)\n",
    "DPI = 200\n",
    "UPSCALE_FACTOR = 4  # Reduce from 8x to 4x for balance\n",
    "JPEG_QUALITY = 85  # Lower JPEG quality slightly to reduce file size\n",
    "USE_WEBP = True  # Set to False if you still want JPEGs"
   ]
  },
  {
   "cell_type": "markdown",
   "id": "8eb2b3e0-8d10-4a57-83ab-330b041fa187",
   "metadata": {},
   "source": [
    "### 4.Run the code"
   ]
  },
  {
   "cell_type": "code",
   "execution_count": null,
   "id": "90b255b0-cb06-4f4e-8f0e-75c2d56a52bd",
   "metadata": {
    "tags": []
   },
   "outputs": [],
   "source": [
    "def main() -> None:\n",
    "    \"\"\"\n",
    "    Converts a PDF into images, saves them in original and high-resolution formats.\n",
    "\n",
    "    Steps:\n",
    "    1. Convert each page of the PDF to an image at a specified DPI.\n",
    "    2. Save the images in JPEG or WebP format.\n",
    "    3. Upscale the images using the specified factor and save them in high resolution.\n",
    "\n",
    "    Raises:\n",
    "        FileNotFoundError: If the specified `pdf_path` does not exist.\n",
    "    \"\"\"\n",
    "    os.makedirs(output_dir, exist_ok=True)\n",
    "\n",
    "    original_dir = os.path.join(output_dir, \"original\")\n",
    "    high_res_dir = os.path.join(output_dir, \"high_resolution\")\n",
    "    os.makedirs(original_dir, exist_ok=True)\n",
    "    os.makedirs(high_res_dir, exist_ok=True)\n",
    "\n",
    "    # Open PDF\n",
    "    doc = fitz.open(pdf_path)\n",
    "\n",
    "    # Step 1: Convert PDF pages to images\n",
    "    for page_num in range(len(doc)):\n",
    "        page = doc.load_page(page_num)\n",
    "        pix = page.get_pixmap(dpi=DPI)  # Lower DPI to reduce size\n",
    "        img = Image.frombytes(\"RGB\", [pix.width, pix.height], pix.samples)\n",
    "\n",
    "        # Save original image\n",
    "        img_format = \"WEBP\" if USE_WEBP else \"JPEG\"\n",
    "        ext = \"webp\" if USE_WEBP else \"jpg\"\n",
    "\n",
    "        jpg_path = os.path.join(original_dir, f\"page_{page_num+1}_original.{ext}\")\n",
    "        img.save(jpg_path, img_format, quality=JPEG_QUALITY)\n",
    "\n",
    "        print(f\"Saved original: {jpg_path}\")\n",
    "\n",
    "    # Step 2: Increase resolution (upscale) with better compression\n",
    "    for page_num in range(len(doc)):\n",
    "        jpg_path = os.path.join(original_dir, f\"page_{page_num+1}_original.{ext}\")\n",
    "        img = Image.open(jpg_path)\n",
    "\n",
    "        # Get original size\n",
    "        width, height = img.size\n",
    "\n",
    "        # Increase resolution (but not too much)\n",
    "        new_width, new_height = width * UPSCALE_FACTOR, height * UPSCALE_FACTOR\n",
    "        high_res_img = img.resize((new_width, new_height), Image.LANCZOS)\n",
    "\n",
    "        # Save high-resolution image\n",
    "        high_res_jpg_path = os.path.join(\n",
    "            high_res_dir, f\"page_{page_num+1}_high_res.{ext}\"\n",
    "        )\n",
    "        high_res_img.save(high_res_jpg_path, img_format, quality=JPEG_QUALITY)\n",
    "\n",
    "        print(f\"Saved high-res: {high_res_jpg_path}\")\n",
    "\n",
    "    print(\"Processing complete!\")\n",
    "\n",
    "\n",
    "if __name__ == \"__main__\":\n",
    "    main()"
   ]
  },
  {
   "cell_type": "markdown",
   "id": "c21c9da6-5333-4b95-90dc-7f78425b597e",
   "metadata": {},
   "source": [
    "### Output\n",
    "\n",
    "The high-resolution created images, along with their original versions, will be saved in the designated output folder after executing the above code."
   ]
  },
  {
   "cell_type": "markdown",
   "id": "6390a5e8-f8c8-49de-b832-05a43d7357d0",
   "metadata": {
    "tags": []
   },
   "source": [
    "#### Original Image \n",
    "<img src=\"./images/page_1_original.webp\" width=600 height=400 ></img>\n",
    "### High Resolution Image\n",
    "<img src=\"./images/page_1_high_res.webp\" width=600 height=400 ></img>"
   ]
  },
  {
   "cell_type": "code",
   "execution_count": null,
   "id": "25da77cc-daa6-445e-8a20-33b7be984ead",
   "metadata": {},
   "outputs": [],
   "source": []
  }
 ],
 "metadata": {
  "environment": {
   "kernel": "conda-base-py",
   "name": "workbench-notebooks.m127",
   "type": "gcloud",
   "uri": "us-docker.pkg.dev/deeplearning-platform-release/gcr.io/workbench-notebooks:m127"
  },
  "kernelspec": {
   "display_name": "Python 3 (ipykernel) (Local)",
   "language": "python",
   "name": "conda-base-py"
  },
  "language_info": {
   "codemirror_mode": {
    "name": "ipython",
    "version": 3
   },
   "file_extension": ".py",
   "mimetype": "text/x-python",
   "name": "python",
   "nbconvert_exporter": "python",
   "pygments_lexer": "ipython3",
   "version": "3.10.16"
  }
 },
 "nbformat": 4,
 "nbformat_minor": 5
}
