{
 "cells": [
  {
   "attachments": {},
   "cell_type": "markdown",
   "metadata": {},
   "source": [
    "# Renaming Entity Type"
   ]
  },
  {
   "attachments": {},
   "cell_type": "markdown",
   "metadata": {},
   "source": [
    "* Author: docai-incubator@google.com"
   ]
  },
  {
   "attachments": {},
   "cell_type": "markdown",
   "metadata": {},
   "source": [
    "## Disclaimer\n",
    "\n",
    "This tool is not supported by the Google engineering team or product team. It is provided and supported on a best-effort basis by the **DocAI Incubator Team**. No guarantees of performance are implied."
   ]
  },
  {
   "attachments": {},
   "cell_type": "markdown",
   "metadata": {
    "tags": []
   },
   "source": [
    "# Objective\n",
    "This tool is used to rename specific entity type(`documentai.Document.Entity.type_`) of Document Proto Object to new entity type based on provided mappings(`RENAME_MAPPINGS - dictionary`)"
   ]
  },
  {
   "attachments": {},
   "cell_type": "markdown",
   "metadata": {},
   "source": [
    "<table>\n",
    "    <td><b>Entity Type Text Before Processing</b></td><td><img src=\"./images/sample_1_pre.png\"></td>\n",
    "    <td><b>Entity Type Text After Processing</b></td><td><img src=\"./images/sample_1_post.png\"></td>\n",
    "</table>"
   ]
  },
  {
   "attachments": {},
   "cell_type": "markdown",
   "metadata": {},
   "source": [
    "# Prerequisites\n",
    "* Vertex AI Notebook\n",
    "* GCS Folder Path"
   ]
  },
  {
   "attachments": {},
   "cell_type": "markdown",
   "metadata": {},
   "source": [
    "# Step-by-Step Procedure"
   ]
  },
  {
   "attachments": {},
   "cell_type": "markdown",
   "metadata": {},
   "source": [
    "## 1. Import required Modules/Packages"
   ]
  },
  {
   "cell_type": "code",
   "execution_count": null,
   "metadata": {},
   "outputs": [],
   "source": [
    "!pip install google-cloud-documentai --quiet\n",
    "!pip install google-cloud-documentai-toolbox --quiet"
   ]
  },
  {
   "cell_type": "code",
   "execution_count": 11,
   "metadata": {},
   "outputs": [],
   "source": [
    "# Run this cell to download utilities module\n",
    "!wget https://raw.githubusercontent.com/GoogleCloudPlatform/document-ai-samples/main/incubator-tools/best-practices/utilities/utilities.py"
   ]
  },
  {
   "cell_type": "code",
   "execution_count": 4,
   "metadata": {},
   "outputs": [],
   "source": [
    "from typing import Dict, Sequence\n",
    "\n",
    "from google.cloud import documentai_v1beta3 as documentai\n",
    "from google.cloud.documentai_toolbox import gcs_utilities\n",
    "\n",
    "from utilities import (\n",
    "    documentai_json_proto_downloader,\n",
    "    file_names,\n",
    "    store_document_as_json,\n",
    ")"
   ]
  },
  {
   "attachments": {},
   "cell_type": "markdown",
   "metadata": {},
   "source": [
    "## 2. Input Details"
   ]
  },
  {
   "attachments": {},
   "cell_type": "markdown",
   "metadata": {},
   "source": [
    "* **INPUT_GCS_PATH**:  It is an input GCS folder path which contains DocumentAI processor JSON results.\n",
    "* **OUTPUT_GCS_PATH** : It is a GCS folder path to store post-processing results.\n",
    "* **RENAME_MAPPINGS**: It is a dictionary object which contains existing entity type as key and new entity type as value."
   ]
  },
  {
   "cell_type": "code",
   "execution_count": 8,
   "metadata": {},
   "outputs": [],
   "source": [
    "INPUT_GCS_PATH = \"gs://bucket/path_to/input\"\n",
    "OUTPUT_GCS_PATH = \"gs://bucket/path_to/output\"\n",
    "# {\"old_entity_type\": \"new_entity_type\", ..}\n",
    "RENAME_MAPPINGS = {\n",
    "    \"annual_income\": \"INCOME_PER_YEAR\",\n",
    "    \"due_date\": \"DUE_ON\",\n",
    "    \"currency\": \"CURRENCY_SYMBOL\",\n",
    "    \"purchase_order\": \"PO\",\n",
    "    \"line_item/amount\": \"LINE_ITEM/TOTAL_AMOUNT\",\n",
    "}"
   ]
  },
  {
   "attachments": {},
   "cell_type": "markdown",
   "metadata": {},
   "source": [
    "## 3. Run Below Code-Cells"
   ]
  },
  {
   "cell_type": "code",
   "execution_count": null,
   "metadata": {},
   "outputs": [],
   "source": [
    "def rename_entity_type(\n",
    "    entities: Sequence[documentai.Document.Entity],\n",
    ") -> Sequence[documentai.Document.Entity]:\n",
    "    \"\"\"It will update documnet entity type based on provided rename_mappings\n",
    "\n",
    "    Args:\n",
    "        entities (Sequence[documentai.Document.Entity]): A sequence/list of all entities in document proto object\n",
    "\n",
    "    Returns:\n",
    "        Sequence[documentai.Document.Entity]: Updated entity of Documentai Entity object\n",
    "    \"\"\"\n",
    "\n",
    "    for ent in entities:\n",
    "        if ent.type_ in RENAME_MAPPINGS:\n",
    "            print(f\"\\t\\t {ent.type_} --> {RENAME_MAPPINGS[ent.type_]}\")\n",
    "            ent.type_ = RENAME_MAPPINGS[ent.type_]\n",
    "        if ent.properties:\n",
    "            rename_entity_type(ent.properties)\n",
    "    return entities\n",
    "\n",
    "\n",
    "print(\n",
    "    f\"Renaming specific entity type_ process started for all JSON files present in {INPUT_GCS_PATH}\"\n",
    ")\n",
    "print(f\"Renaming is based on given key-value pair only \\n{RENAME_MAPPINGS}\")\n",
    "input_bucket, input_uri_prefix = gcs_utilities.split_gcs_uri(INPUT_GCS_PATH)\n",
    "output_bucket, output_uri_prefix = gcs_utilities.split_gcs_uri(OUTPUT_GCS_PATH)\n",
    "_, filenames_dict = file_names(INPUT_GCS_PATH)\n",
    "filenames_dict = {fn: fp for fn, fp in filenames_dict.items() if fn.endswith(\".json\")}\n",
    "for fn, fp in filenames_dict.items():\n",
    "    print(f\"\\tProcess started for {fn}\")\n",
    "    doc = documentai_json_proto_downloader(input_bucket, fp)\n",
    "    rename_entity_type(doc.entities)\n",
    "    str_data = documentai.Document.to_json(\n",
    "        doc, use_integers_for_enums=False, including_default_value_fields=False\n",
    "    )\n",
    "    output_path = f\"{output_uri_prefix.rstrip('/')}/{fn}\"\n",
    "    store_document_as_json(str_data, output_bucket, output_path)\n",
    "    print(\n",
    "        f\"\\tProcess Completed and successfully uploaded file to GCS - Path - {OUTPUT_GCS_PATH.rstrip('/')}/{fn}\"\n",
    "    )\n",
    "print(\"Renaming Process completed for all files\")"
   ]
  },
  {
   "attachments": {},
   "cell_type": "markdown",
   "metadata": {},
   "source": [
    "## 4. Output Details\n",
    "\n",
    "After successfull running of provided python script against DocumentAI Processor JSON results folder. You can observe entity type changes taking place based on the provided  `RENAME_MAPPINGS` dictionary. Refer below sample input-output images."
   ]
  },
  {
   "attachments": {},
   "cell_type": "markdown",
   "metadata": {},
   "source": [
    "<table>\n",
    "    <tr>\n",
    "        <td><h3><b>Pre-processing</b></h3></td>\n",
    "        <td><h3><b>Post-processing</b></h3></td>\n",
    "    </tr>\n",
    "<tr>\n",
    "<td><img src=\"./images/sample_1_pre.png\"></td>\n",
    "<td><img src=\"./images/sample_1_post.png\"></td>\n",
    "</tr>\n",
    "<tr>\n",
    "<td><img src=\"./images/sample_2_pre.png\"></td>\n",
    "<td><img src=\"./images/sample_2_post.png\"></td>\n",
    "</tr>\n",
    "</table>"
   ]
  },
  {
   "cell_type": "code",
   "execution_count": null,
   "metadata": {},
   "outputs": [],
   "source": []
  },
  {
   "cell_type": "code",
   "execution_count": null,
   "metadata": {},
   "outputs": [],
   "source": []
  }
 ],
 "metadata": {
  "environment": {
   "kernel": "python3",
   "name": "common-cpu.m104",
   "type": "gcloud",
   "uri": "gcr.io/deeplearning-platform-release/base-cpu:m104"
  },
  "kernelspec": {
   "display_name": "Python 3",
   "language": "python",
   "name": "python3"
  },
  "language_info": {
   "codemirror_mode": {
    "name": "ipython",
    "version": 3
   },
   "file_extension": ".py",
   "mimetype": "text/x-python",
   "name": "python",
   "nbconvert_exporter": "python",
   "pygments_lexer": "ipython3",
   "version": "3.7.12"
  }
 },
 "nbformat": 4,
 "nbformat_minor": 4
}
