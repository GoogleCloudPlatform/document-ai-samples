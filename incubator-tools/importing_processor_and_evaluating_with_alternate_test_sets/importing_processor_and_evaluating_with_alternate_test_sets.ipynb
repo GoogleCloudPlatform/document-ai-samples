{
 "cells": [
  {
   "attachments": {},
   "cell_type": "markdown",
   "id": "6589fc93-39d1-4d10-be1f-e7eb33fe4087",
   "metadata": {},
   "source": [
    "# Importing processor and evaluating with alternate test sets\n"
   ]
  },
  {
   "attachments": {},
   "cell_type": "markdown",
   "id": "5bf22bf7-4a47-4f3a-9eef-6f19348a5250",
   "metadata": {},
   "source": [
    "* Author: docai-incubator@google.com"
   ]
  },
  {
   "attachments": {},
   "cell_type": "markdown",
   "id": "361f188e-fe11-4a49-b7c8-080e0e69ce7a",
   "metadata": {},
   "source": [
    "## Disclaimer\n",
    "\n",
    "This tool is not supported by the Google engineering team or product team. It is provided and supported on a best-effort basis by the DocAI Incubator Team. No guarantees of performance are implied. \n"
   ]
  },
  {
   "attachments": {},
   "cell_type": "markdown",
   "id": "1036937a-0221-48eb-862e-3fa0b8e646a8",
   "metadata": {},
   "source": [
    "## Objective\n",
    "\n",
    "This Document guides to import processors and evaluate the imported processor version using alternate data sets.\n",
    "\n",
    "* Alternate test sets are the test sets which are used to test the processor version other than which are used while training the processor or in UI\n",
    "* We get precision, recall and f1 score for set of files from notebook .\n"
   ]
  },
  {
   "attachments": {},
   "cell_type": "markdown",
   "id": "115a4e82-5e83-468a-b0e5-097ca14f15d5",
   "metadata": {},
   "source": [
    "## Prerequisites\n",
    "\n",
    "* Vertex AI Notebook Or Colab (If using Colab, use authentication)\n",
    "* Processor details to import the processor\n",
    "* Permission For Google Storage and Vertex AI Notebook.\n",
    "* GCS path where the labeled documents are placed"
   ]
  },
  {
   "attachments": {},
   "cell_type": "markdown",
   "id": "e475011f-8c56-4815-8d13-ba647612306b",
   "metadata": {},
   "source": [
    "### IAM Roles for service account linked to vertext ai notebook"
   ]
  },
  {
   "attachments": {},
   "cell_type": "markdown",
   "id": "8c504417-999e-4b89-9cc1-293bfbf41553",
   "metadata": {},
   "source": [
    "* Document AI editor\n",
    "* Storage Admin\n",
    "* Vertex AI Service agent"
   ]
  },
  {
   "attachments": {},
   "cell_type": "markdown",
   "id": "c08bdff1",
   "metadata": {},
   "source": [
    "Also give `Document AI Editor` role to `Document AI Service Agent`. "
   ]
  },
  {
   "attachments": {},
   "cell_type": "markdown",
   "id": "71a13958-f331-4ebd-a1f6-caed09e7bc3b",
   "metadata": {},
   "source": [
    "### Download utilities module"
   ]
  },
  {
   "cell_type": "code",
   "execution_count": null,
   "id": "229dac17",
   "metadata": {},
   "outputs": [],
   "source": [
    "!pip install google-cloud-storage\n",
    "!pip install google-cloud-documentai\n",
    "!pip install tqdm"
   ]
  },
  {
   "cell_type": "code",
   "execution_count": null,
   "id": "774f2818-0b26-4c22-855e-53df9f9dda68",
   "metadata": {},
   "outputs": [],
   "source": [
    "!wget https://raw.githubusercontent.com/GoogleCloudPlatform/document-ai-samples/main/incubator-tools/best-practices/utilities/utilities.py"
   ]
  },
  {
   "attachments": {},
   "cell_type": "markdown",
   "id": "fe81de40-5c62-4c0b-adea-937f957b1a6e",
   "metadata": {},
   "source": [
    "## Step by Step procedure"
   ]
  },
  {
   "attachments": {},
   "cell_type": "markdown",
   "id": "142123d3-37b1-4aa8-841c-40c3bd52d70c",
   "metadata": {},
   "source": [
    "## 1. Create a DocAI processor"
   ]
  },
  {
   "attachments": {},
   "cell_type": "markdown",
   "id": "10c93def-3ee2-4537-992a-dd000d106677",
   "metadata": {},
   "source": [
    "### Input for creating processor\n"
   ]
  },
  {
   "attachments": {},
   "cell_type": "markdown",
   "id": "e48bde34-23f2-477d-b3aa-1739572fd0bf",
   "metadata": {},
   "source": [
    "* `project_number` : Your project number\n",
    "* `location` : Your project location which the processor has to be created\n",
    "* `new_processor_display_name` : Name of the processor to be displayed\n",
    "* `processor_type` : Type of the processor to be created "
   ]
  },
  {
   "cell_type": "code",
   "execution_count": null,
   "id": "3d9b3ca3-e486-4614-81c2-da8e1f695666",
   "metadata": {},
   "outputs": [],
   "source": [
    "# input details\n",
    "# input for creating new processor\n",
    "project_number = \"xxxxxxxxxx\"  # project number\n",
    "location = \"us\"  # location which the processor has to be created\n",
    "new_processor_display_name = \"test_processor_api5\"  # name of processor to be displayed\n",
    "processor_type = \"CUSTOM_EXTRACTION_PROCESSOR\"  # type of processor to be created"
   ]
  },
  {
   "attachments": {},
   "cell_type": "markdown",
   "id": "737d1c70-fef5-49e3-a266-695bf8076a54",
   "metadata": {},
   "source": [
    "### Function to create new processor"
   ]
  },
  {
   "cell_type": "code",
   "execution_count": null,
   "id": "bc03d3c4-c554-4025-972c-aa6378139cf3",
   "metadata": {},
   "outputs": [],
   "source": [
    "from google.cloud import documentai_v1beta3\n",
    "\n",
    "\n",
    "# Function to create a new processor\n",
    "def sample_create_processor(\n",
    "    project_number, location, new_processor_display_name, processor_type\n",
    "):\n",
    "    \"\"\"\n",
    "    Create a Document AI processor.\n",
    "\n",
    "    Args:\n",
    "        project_number (str): The Google Cloud project number.\n",
    "        location (str): The location where the processor will be created.\n",
    "        new_processor_display_name (str): The display name for the new processor.\n",
    "        processor_type (str): The type of the processor.\n",
    "\n",
    "    Returns:\n",
    "        documentai.Processor: The created Document AI processor.\n",
    "    \"\"\"\n",
    "\n",
    "    # Create a client\n",
    "    client = documentai_v1beta3.DocumentProcessorServiceClient()\n",
    "\n",
    "    # Initialize request argument(s)\n",
    "    request = documentai_v1beta3.CreateProcessorRequest(\n",
    "        parent=f\"projects/{project_number}/locations/{location}\",\n",
    "        processor=documentai_v1beta3.Processor(\n",
    "            display_name=f\"{new_processor_display_name}\", type_=f\"{processor_type}\"\n",
    "        ),\n",
    "    )\n",
    "\n",
    "    # Make the request\n",
    "    response = client.create_processor(request=request)\n",
    "\n",
    "    # Handle the response\n",
    "    print(response)\n",
    "\n",
    "    return response\n",
    "\n",
    "\n",
    "# calling  function\n",
    "response_new = sample_create_processor(\n",
    "    project_number, location, new_processor_display_name, processor_type\n",
    ")"
   ]
  },
  {
   "attachments": {},
   "cell_type": "markdown",
   "id": "df066102-ac36-4b04-a4ba-19e448ba2670",
   "metadata": {},
   "source": [
    "## 2. Importing processor\n",
    "* To import a trained processor into the new processor below is the code snippet"
   ]
  },
  {
   "attachments": {},
   "cell_type": "markdown",
   "id": "65c2cef0-1222-401e-82cc-c70d466ebb4d",
   "metadata": {},
   "source": [
    "### Input for importing processor"
   ]
  },
  {
   "attachments": {},
   "cell_type": "markdown",
   "id": "b4497b51-540f-4da9-a8b6-7b61681ee5e9",
   "metadata": {},
   "source": [
    "* `project_number` : Your project number\n",
    "* `source_processor_id` : Processor id of processor which has to be imported\n",
    "* `source_processor_version_id` : Processor version ID which has to be imported\n",
    "* `source_processor_location` : Location of processor which has to be imported\n",
    "* `new_processor_id` : You can get by response_new.name.split('/')[-1] from above step 1 or give the processor ID if known\n",
    "* `new_processor_location` : Location of the processor to which has to be imported\n"
   ]
  },
  {
   "cell_type": "code",
   "execution_count": null,
   "id": "ae67df99-c119-474c-8d18-1f23021f2cd4",
   "metadata": {},
   "outputs": [],
   "source": [
    "# input for importing processor from another\n",
    "project_number = \"xxxxxxxxxx\"  # project number\n",
    "source_processor_id = (\n",
    "    \"xxxxxxxxxxxxxxxxx\"  # processor id of processor which has to be imported\n",
    ")\n",
    "source_processor_version_id = (\n",
    "    \"xxxxxxxxx\"  # processor version ID which has to be imported\n",
    ")\n",
    "source_processor_location = \"us\"  # location of processor which has to be imported\n",
    "new_processor_id = \"xxxxxxxxxxxx\"  # can get by response_new.name.split('/')[-1] from above step 1 or give the processor ID if known\n",
    "new_processor_location = \"us\"  # location of the processor to which has to be imported\n",
    "import google.cloud.documentai_v1beta3 as documentai"
   ]
  },
  {
   "attachments": {},
   "cell_type": "markdown",
   "id": "c28e5e16-2444-4ff1-a34f-4d28dfa068ab",
   "metadata": {},
   "source": [
    "### Function to import processor"
   ]
  },
  {
   "cell_type": "code",
   "execution_count": null,
   "id": "698f9a1e-a8c2-4693-a72a-8755859fbf8a",
   "metadata": {},
   "outputs": [],
   "source": [
    "import google.cloud.documentai_v1beta3 as documentai\n",
    "\n",
    "\n",
    "# Function to import processor\n",
    "def import_processor(\n",
    "    project_number: str,\n",
    "    new_processor_location: str,\n",
    "    new_processor_id: str,\n",
    "    source_processor_location: str,\n",
    "    source_processor_id: str,\n",
    "    source_processor_version_id: str,\n",
    ") -> documentai.ImportProcessorVersionResponse:\n",
    "    \"\"\"\n",
    "    Import a Document AI processor version from a source processor.\n",
    "\n",
    "    Args:\n",
    "        project_number (str): The Google Cloud project number.\n",
    "        new_processor_location (str): The location where the new processor is located.\n",
    "        new_processor_id (str): The ID of the new processor.\n",
    "        source_processor_location (str): The location where the source processor is located.\n",
    "        source_processor_id (str): The ID of the source processor.\n",
    "        source_processor_version_id (str): The ID of the source processor version.\n",
    "\n",
    "    Returns:\n",
    "        documentai_v1beta3.ImportProcessorVersionResponse: The response from importing the processor version.\n",
    "    \"\"\"\n",
    "\n",
    "    from google.cloud import documentai_v1beta3\n",
    "\n",
    "    new_processor_name = f\"projects/{project_number}/locations/{new_processor_location}/processors/{new_processor_id}\"\n",
    "    # provide the source version(to copy) processor details in the below format\n",
    "    client = documentai_v1beta3.DocumentProcessorServiceClient()\n",
    "\n",
    "    source_version = f\"projects/{project_number}/locations/{source_processor_location}/processors/{source_processor_id}/processorVersions/{source_processor_version_id}\"\n",
    "\n",
    "    # provide the new processor name in the parent variable in format 'projects/{project_number}/locations/{location}/processors/{new_processor_id}'\n",
    "\n",
    "    import google.cloud.documentai_v1beta3 as documentai\n",
    "\n",
    "    op_import_version_req = documentai_v1beta3.types.document_processor_service.ImportProcessorVersionRequest(\n",
    "        processor_version_source=source_version, parent=new_processor_name\n",
    "    )\n",
    "\n",
    "    # copying the processor\n",
    "\n",
    "    op_import_version = client.import_processor_version(request=op_import_version_req)\n",
    "\n",
    "    return op_import_version\n",
    "\n",
    "\n",
    "# calling function\n",
    "op_import_version = import_processor(\n",
    "    project_number,\n",
    "    new_processor_location,\n",
    "    new_processor_id,\n",
    "    source_processor_location,\n",
    "    source_processor_id,\n",
    "    source_processor_version_id,\n",
    ")"
   ]
  },
  {
   "cell_type": "code",
   "execution_count": null,
   "id": "8470f200-99c1-41b8-923d-16c2857f5606",
   "metadata": {
    "tags": []
   },
   "outputs": [],
   "source": [
    "op_import_version.metadata.common_metadata.state"
   ]
  },
  {
   "attachments": {},
   "cell_type": "markdown",
   "id": "a905327a-1b4d-4702-b4b4-e0de18e594f4",
   "metadata": {},
   "source": [
    "## 3. Adding a dataset to the processor\n",
    "* Below code snippet creates a bucket for dataset if the given bucket does not exist\n",
    "\n"
   ]
  },
  {
   "attachments": {},
   "cell_type": "markdown",
   "id": "70241fce-0810-41fe-9506-ea781fb07d8a",
   "metadata": {
    "tags": []
   },
   "source": [
    "* sample `op_import_version.metadata`\n",
    "\n",
    "\n",
    "<img src=\"./Images/sample_import_version_metadata.png\" width=800 height=400></img>"
   ]
  },
  {
   "attachments": {},
   "cell_type": "markdown",
   "id": "0ec71475-d9d9-41f0-a264-6de25deb70dc",
   "metadata": {},
   "source": [
    "### Input for adding dataset to a processor"
   ]
  },
  {
   "cell_type": "code",
   "execution_count": null,
   "id": "ba2187a4-0e70-4d82-8583-a3bbb4e151ea",
   "metadata": {},
   "outputs": [],
   "source": [
    "# new_data_bucket should already exist\n",
    "project_number = \"xxxxxxxxxxx\"\n",
    "new_dataset_bucket = \"gs://xxxxxxxx\"\n",
    "new_processor_location = \"us\"\n",
    "new_processor_id = \"xxxxxxxxxxxxxxxxxx\"  # can get by response_new.name.split('/')[-1] from above step 1 or give the processor ID if known\n",
    "new_processor_version_id = (\n",
    "    \"xxxxxxxxxxxxxxx\"  # processor version ID for which dataset has to be added\n",
    ")\n",
    "# you can also  get the processor name directly by 'new_version_processor_details=op_import_version.metadata.common_metadata.resource'"
   ]
  },
  {
   "attachments": {},
   "cell_type": "markdown",
   "id": "d30b4cc1-28bf-4411-9a86-560e2a1a582f",
   "metadata": {},
   "source": [
    "## Deploy Processor"
   ]
  },
  {
   "cell_type": "code",
   "execution_count": null,
   "id": "4010f674-35a1-4f0b-9794-332083fd16c1",
   "metadata": {},
   "outputs": [],
   "source": [
    "from google.cloud import documentai_v1beta3\n",
    "\n",
    "\n",
    "def sample_deploy_processor_version(\n",
    "    project_number, new_processor_location, new_processor_id, new_processor_version_id\n",
    "):\n",
    "    # Create a client\n",
    "    client = documentai_v1beta3.DocumentProcessorServiceClient()\n",
    "\n",
    "    # Initialize request argument(s)\n",
    "    request = documentai_v1beta3.DeployProcessorVersionRequest(\n",
    "        name=f\"projects/{project_number}/locations/{new_processor_location}/processors/{new_processor_id}/processorVersions/{new_processor_version_id}\",\n",
    "    )\n",
    "\n",
    "    try:\n",
    "        # Make the request\n",
    "        operation = client.deploy_processor_version(request=request)\n",
    "        print(\"Waiting for operation to complete...\")\n",
    "        response = operation.result()\n",
    "        # Handle the response\n",
    "        print(response.metadata)\n",
    "\n",
    "    except Exception as e:\n",
    "        print(e.message)\n",
    "\n",
    "\n",
    "sample_deploy_processor_version(\n",
    "    project_number, new_processor_location, new_processor_id, new_processor_version_id\n",
    ")"
   ]
  },
  {
   "attachments": {},
   "cell_type": "markdown",
   "id": "a6ec7f5f-fa19-438e-9f23-2748ed758635",
   "metadata": {},
   "source": [
    "### Function to create and add dataset to a processor"
   ]
  },
  {
   "cell_type": "code",
   "execution_count": null,
   "id": "9bafbd70-c9b4-46e2-b844-295ee3645290",
   "metadata": {},
   "outputs": [],
   "source": [
    "from google.cloud import storage\n",
    "from tqdm.auto import tqdm\n",
    "from google.cloud import documentai_v1beta3\n",
    "\n",
    "new_processor_name = f\"projects/{project_number}/locations/{new_processor_location}/processors/{new_processor_id}\"\n",
    "\n",
    "\n",
    "# function to add a dataset into processor\n",
    "def add_processor_dataset(\n",
    "    processor_name: str, dataset_gcs_uri: str, project_id: str, location: str\n",
    "):\n",
    "    \"\"\"\n",
    "    Add a dataset to a Document AI processor.\n",
    "\n",
    "    Args:\n",
    "        processor_name (str): The name of the Document AI processor.\n",
    "        dataset_gcs_uri (str): The URI of the Google Cloud Storage bucket for the dataset.\n",
    "        project_id (str): The Google Cloud project ID.\n",
    "        location (str): The location of the processor.\n",
    "    \"\"\"\n",
    "    # Create a client\n",
    "    client = documentai_v1beta3.DocumentServiceClient()\n",
    "\n",
    "    # Initialize request argument(s)\n",
    "    dataset = documentai_v1beta3.Dataset(\n",
    "        {\n",
    "            \"name\": f\"{processor_name}/dataset\",\n",
    "            \"gcs_managed_config\": {\"gcs_prefix\": {\"gcs_uri_prefix\": dataset_gcs_uri}},\n",
    "            \"spanner_indexing_config\": {},\n",
    "        }\n",
    "    )\n",
    "\n",
    "    request = documentai_v1beta3.UpdateDatasetRequest(dataset=dataset)\n",
    "\n",
    "    try:\n",
    "        # Make the request\n",
    "        operation = client.update_dataset(request=request)\n",
    "\n",
    "        response = operation.result()\n",
    "\n",
    "    except Exception as e:\n",
    "        print(e.message)\n",
    "\n",
    "\n",
    "# calling function\n",
    "add_processor_dataset(\n",
    "    new_processor_name, new_dataset_bucket, project_number, source_processor_location\n",
    ")"
   ]
  },
  {
   "attachments": {},
   "cell_type": "markdown",
   "id": "7502695b-ed9f-440d-833b-5643c8850dbb",
   "metadata": {},
   "source": [
    "## 4. Evaluating processor version with additional test sets\n"
   ]
  },
  {
   "attachments": {},
   "cell_type": "markdown",
   "id": "6e070285-0c56-4a55-954b-eb1a81fe753c",
   "metadata": {},
   "source": [
    "## NOTE\n",
    "**Before running the evaluation make the trained version as default version for evaluating the dataset**"
   ]
  },
  {
   "attachments": {},
   "cell_type": "markdown",
   "id": "f3d550b5-2005-4404-9aef-690221c04617",
   "metadata": {},
   "source": [
    "### Input to Evaluate processor version with Additional test sets"
   ]
  },
  {
   "cell_type": "code",
   "execution_count": null,
   "id": "ae08cd94-27e6-4787-a356-3982b8a3018c",
   "metadata": {},
   "outputs": [],
   "source": [
    "project_id = \"xxxxxxxx\"\n",
    "location = \"us\"  # Format is 'us' or 'eu'\n",
    "processor_id = \"xxxxxxxxxxxxxx\"\n",
    "processor_version_id = \"xxxxxxxxxxxxx\"\n",
    "gcs_input_uri = \"gs://xxxxxxx/xxxxxxx/\"  # Format: gs://bucket/directory/ ==> where the labeled documents are present"
   ]
  },
  {
   "attachments": {},
   "cell_type": "markdown",
   "id": "d91f63e0-4dc0-42f5-bbac-5f0918ad2e11",
   "metadata": {},
   "source": [
    "### Function to evaluate"
   ]
  },
  {
   "cell_type": "code",
   "execution_count": null,
   "id": "36938407-fdf2-4e8c-9e76-dc617d5705a7",
   "metadata": {},
   "outputs": [],
   "source": [
    "from google.api_core.client_options import ClientOptions\n",
    "from google.cloud import documentai  # type: ignore\n",
    "\n",
    "\n",
    "def evaluate_processor_version_sample(\n",
    "    project_id: str,\n",
    "    location: str,\n",
    "    processor_id: str,\n",
    "    processor_version_id: str,\n",
    "    gcs_input_uri: str,\n",
    ") -> None:\n",
    "    \"\"\"\n",
    "    Evaluate a Document AI processor version using documents from a Google Cloud Storage bucket.\n",
    "\n",
    "    Args:\n",
    "        project_id (str): The Google Cloud project ID.\n",
    "        location (str): The location of the processor.\n",
    "        processor_id (str): The ID of the Document AI processor.\n",
    "        processor_version_id (str): The ID of the processor version.\n",
    "        gcs_input_uri (str): The Google Cloud Storage URI for the input documents.\n",
    "\n",
    "    Returns:\n",
    "        str: The ID of the evaluation.\n",
    "    \"\"\"\n",
    "    # You must set the api_endpoint if you use a location other than 'us', e.g.:\n",
    "    opts = ClientOptions(api_endpoint=f\"{location}-documentai.googleapis.com\")\n",
    "\n",
    "    client = documentai.DocumentProcessorServiceClient(client_options=opts)\n",
    "\n",
    "    # The full resource name of the processor version\n",
    "    # e.g. `projects/{project_id}/locations/{location}/processors/{processor_id}/processorVersions/{processor_version_id}`\n",
    "    name = client.processor_version_path(\n",
    "        project_id, location, processor_id, processor_version_id\n",
    "    )\n",
    "\n",
    "    evaluation_documents = documentai.BatchDocumentsInputConfig(\n",
    "        gcs_prefix=documentai.GcsPrefix(gcs_uri_prefix=gcs_input_uri)\n",
    "    )\n",
    "\n",
    "    request = documentai.EvaluateProcessorVersionRequest(\n",
    "        processor_version=name,\n",
    "        evaluation_documents=evaluation_documents,\n",
    "    )\n",
    "\n",
    "    # Make EvaluateProcessorVersion request\n",
    "    # Continually polls the operation until it is complete.\n",
    "    # This could take some time for larger files\n",
    "    operation = client.evaluate_processor_version(request=request)\n",
    "    # Print operation details\n",
    "    # Format: projects/PROJECT_NUMBER/locations/LOCATION/operations/OPERATION_ID\n",
    "    print(f\"Waiting for operation {operation.operation.name} to complete...\")\n",
    "    # Wait for operation to complete\n",
    "    response = documentai.EvaluateProcessorVersionResponse(operation.result())\n",
    "\n",
    "    # Once the operation is complete,\n",
    "    # Print evaluation ID from operation response\n",
    "    print(f\"Evaluation Complete: {response.evaluation}\")\n",
    "    return response.evaluation\n",
    "\n",
    "\n",
    "# calling function\n",
    "response_evaluation = evaluate_processor_version_sample(\n",
    "    project_id, location, processor_id, processor_version_id, gcs_input_uri\n",
    ")\n",
    "\n",
    "# sample output\n",
    "#'projects/xxxxxxx/locations/xx/processors/xxxxxxxxxxxxxxxx/processorVersions/xxxxxxxxxxx/evaluations/xxxxxxxxxxxx'"
   ]
  },
  {
   "attachments": {},
   "cell_type": "markdown",
   "id": "c9e585c3-2245-44d2-981e-269db15176a7",
   "metadata": {},
   "source": [
    "### To get evaluation of processor version\n",
    "\n"
   ]
  },
  {
   "cell_type": "code",
   "execution_count": null,
   "id": "e51244fd-dd06-46cd-8d83-03e12e10aede",
   "metadata": {
    "tags": []
   },
   "outputs": [],
   "source": [
    "# evaluation_value has to be the output of above function in format\n",
    "#'projects/xxxxxxx/locations/xx/processors/xxxxxxxxxxxxxxxx/processorVersions/xxxxxxxxxxx/evaluations/xxxxxxxxxxxx'\n",
    "\n",
    "from google.cloud import documentai_v1beta3\n",
    "\n",
    "\n",
    "def sample_get_evaluation(evaluation_value):\n",
    "    # Create a client\n",
    "    client = documentai_v1beta3.DocumentProcessorServiceClient()\n",
    "\n",
    "    # Initialize request argument(s)\n",
    "    request = documentai_v1beta3.GetEvaluationRequest(\n",
    "        name=evaluation_value,\n",
    "    )\n",
    "\n",
    "    # Make the request\n",
    "    response = client.get_evaluation(request=request)\n",
    "\n",
    "    # Handle the response\n",
    "    print(response)\n",
    "    return response\n",
    "\n",
    "\n",
    "eval_result = sample_get_evaluation(response_evaluation)"
   ]
  },
  {
   "attachments": {},
   "cell_type": "markdown",
   "id": "903d761a-fa0b-45b7-9d4f-9e3da3b6ba39",
   "metadata": {
    "tags": []
   },
   "source": [
    "### Sample eval_result\n",
    "\n",
    "\n",
    "<img src=\"./Images/eval_result.png\" width=800 height=400></img>"
   ]
  },
  {
   "cell_type": "code",
   "execution_count": null,
   "id": "cf5c5a98-7632-446f-b4b8-e2d97e0c4fda",
   "metadata": {},
   "outputs": [],
   "source": []
  }
 ],
 "metadata": {
  "environment": {
   "kernel": "conda-root-py",
   "name": "workbench-notebooks.m113",
   "type": "gcloud",
   "uri": "gcr.io/deeplearning-platform-release/workbench-notebooks:m113"
  },
  "kernelspec": {
   "display_name": "Python 3 (ipykernel) (Local)",
   "language": "python",
   "name": "conda-root-py"
  },
  "language_info": {
   "codemirror_mode": {
    "name": "ipython",
    "version": 3
   },
   "file_extension": ".py",
   "mimetype": "text/x-python",
   "name": "python",
   "nbconvert_exporter": "python",
   "pygments_lexer": "ipython3",
   "version": "3.10.13"
  }
 },
 "nbformat": 4,
 "nbformat_minor": 5
}
