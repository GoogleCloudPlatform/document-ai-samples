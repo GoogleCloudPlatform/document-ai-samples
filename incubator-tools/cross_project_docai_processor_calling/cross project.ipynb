{
 "cells": [
  {
   "cell_type": "markdown",
   "id": "74438052-208f-4ec2-957d-c04b8bb13c8f",
   "metadata": {},
   "source": [
    "# To Call a DocAI Processor from Another Project"
   ]
  },
  {
   "cell_type": "markdown",
   "id": "e15e283a-fb07-40d1-baaa-d49af0bd141f",
   "metadata": {},
   "source": [
    "* Author: docai-incubator@google.com"
   ]
  },
  {
   "cell_type": "markdown",
   "id": "4cd12693-0d4a-4003-a646-378be07550d8",
   "metadata": {},
   "source": [
    "## Disclaimer\n",
    "\n",
    "This tool is not supported by the Google engineering team or product team. It is provided and supported on a best-effort basis by the **DocAI Incubator Team**. No guarantees of performance are implied.\n"
   ]
  },
  {
   "cell_type": "markdown",
   "id": "7285ce03-fa56-437c-976e-24af18795d42",
   "metadata": {},
   "source": [
    "## Overview \n",
    "\n",
    "* Suppose Project A hosts a Document AI processor.\n",
    "* Project B owns the bucket that contains input files for Document AI processors, and optionally hosts a bucket to which processor output is written.\n",
    "* To make the processor available in project A accessible to Project B, please follow the steps described below.\n"
   ]
  },
  {
   "cell_type": "markdown",
   "id": "afde4fc6-eb6f-480e-b53e-b4ee5e13b6d5",
   "metadata": {},
   "source": [
    "<img src=\"./Images/overview.png\" width=800 height=400></img>"
   ]
  },
  {
   "cell_type": "markdown",
   "id": "ecc28d02-3766-485f-928e-9e533c686323",
   "metadata": {},
   "source": [
    "## Step by Step Instructions"
   ]
  },
  {
   "cell_type": "markdown",
   "id": "3134a8c4-59c0-4cca-995d-80212acf3f59",
   "metadata": {},
   "source": [
    "###  Step 1\n",
    "\n",
    "Create a service account in Project B and assign a Viewer role (**Project/Basic Viewer** - see screenshots below) to it. This is the minimum rights necessary.\n",
    "\n",
    "**Note**: Use this Service Account To Call the Document AI API’s.\n"
   ]
  },
  {
   "cell_type": "markdown",
   "id": "96ff7112-6add-486f-ad50-0c99f99f91fa",
   "metadata": {},
   "source": [
    "## Project - A\n",
    "<img src=\"./Images/viewer_role.png\" width=800 height=400></img>\n",
    "\n",
    "<img src=\"./Images/viewer_role_1.png\" width=800 height=400></img>"
   ]
  },
  {
   "cell_type": "markdown",
   "id": "ddf596f8-655b-4d77-837a-7a48302f5ca0",
   "metadata": {},
   "source": [
    "## Step 2\n",
    "\n",
    "Add the Service account of Project B in Project A along with the following roles:\n",
    "* **Document AI API User**\n",
    "\n",
    "Document AI API User - Grants access to process documents in Document AI\n"
   ]
  },
  {
   "cell_type": "markdown",
   "id": "7e03edd6-0c6e-46e9-b455-7ddcc538a021",
   "metadata": {},
   "source": [
    "## Project - B\n",
    "\n",
    "<img src=\"./Images/projectB.png\" width=800 height=400></img>\n",
    "\n",
    "#### Click on “Grant Access” and add the service account email id in New Principal and assign the required role to it."
   ]
  },
  {
   "cell_type": "markdown",
   "id": "d9e4e343-90a4-4376-8ee6-ec6076564ad9",
   "metadata": {},
   "source": [
    "### Adding service account email id:\n",
    "\n",
    "<img src=\"./Images/serviceaccountemail.png\" width=800 height=400></img>\n"
   ]
  },
  {
   "cell_type": "markdown",
   "id": "bb10b69f-65d8-4869-b2d4-1fa3c463b00b",
   "metadata": {},
   "source": [
    "### Adding Required Role\n",
    "\n",
    "<img src=\"./Images/requiredrole.png\" width=800 height=400></img>\n"
   ]
  },
  {
   "cell_type": "markdown",
   "id": "5df1046d-697a-4888-9785-3a4209e4495f",
   "metadata": {},
   "source": [
    "### Reference"
   ]
  },
  {
   "cell_type": "markdown",
   "id": "3fd10d3b-69eb-4f85-8b9b-af776ad131e8",
   "metadata": {},
   "source": [
    "For more information about IAM , DocumentAI API User, see [IAM Roles for Document AI](https://cloud.google.com/document-ai/docs/access-control/iam-roles) , [IAM Roles for Cloud Storage](https://cloud.google.com/storage/docs/access-control/iam-roles)"
   ]
  }
 ],
 "metadata": {
  "environment": {
   "kernel": "python3",
   "name": "common-cpu.m104",
   "type": "gcloud",
   "uri": "gcr.io/deeplearning-platform-release/base-cpu:m104"
  },
  "kernelspec": {
   "display_name": "Python 3",
   "language": "python",
   "name": "python3"
  },
  "language_info": {
   "codemirror_mode": {
    "name": "ipython",
    "version": 3
   },
   "file_extension": ".py",
   "mimetype": "text/x-python",
   "name": "python",
   "nbconvert_exporter": "python",
   "pygments_lexer": "ipython3",
   "version": "3.7.12"
  }
 },
 "nbformat": 4,
 "nbformat_minor": 5
}
