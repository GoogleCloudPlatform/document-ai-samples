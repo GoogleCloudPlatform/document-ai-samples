{
 "cells": [
  {
   "cell_type": "markdown",
   "id": "5cbcbc6b-0c0b-42d5-8619-ebd1f4bf8657",
   "metadata": {},
   "source": [
    "# Set Field Description Via API "
   ]
  },
  {
   "cell_type": "markdown",
   "id": "a054d9da-3034-4fb0-b828-cd536198f68c",
   "metadata": {},
   "source": [
    "* Author: docai-incubator@google.com"
   ]
  },
  {
   "cell_type": "markdown",
   "id": "108c2600-51ad-4085-9555-7f3332ccc1b4",
   "metadata": {},
   "source": [
    "## Disclaimer\n",
    "\n",
    "This tool is not supported by the Google engineering team or product team. It is provided and supported on a best-effort basis by the **DocAI Incubator Team**. No guarantees of performance are implied.\n"
   ]
  },
  {
   "cell_type": "markdown",
   "id": "4c8d9223-2537-4ae0-98a5-32e372d1419d",
   "metadata": {},
   "source": [
    "## Objective\n",
    "\n",
    "This document guides how to add prompt description to an entity field via API Calling"
   ]
  },
  {
   "cell_type": "markdown",
   "id": "07918d4f-aae3-428d-8a71-4fbe2d6c8c90",
   "metadata": {},
   "source": [
    "## Prerequisites\n",
    "* Vertex AI Notebook\n",
    "* Permission for Vertex AI Notebook.\n",
    "* DocumentAI API\n",
    "* DocumentAI Processor\n",
    "* Python"
   ]
  },
  {
   "cell_type": "markdown",
   "id": "c92d9b0c-4c03-41b6-aa2e-fcf838791610",
   "metadata": {},
   "source": [
    "## Step by Step procedure "
   ]
  },
  {
   "cell_type": "markdown",
   "id": "26d50f73-088d-4b58-9cfc-f276f2201f9c",
   "metadata": {},
   "source": [
    "### 1.Importing Required Modules"
   ]
  },
  {
   "cell_type": "code",
   "execution_count": null,
   "id": "ad01d013-4198-463f-9c6b-2792ec407efc",
   "metadata": {
    "tags": []
   },
   "outputs": [],
   "source": [
    "!wget https://raw.githubusercontent.com/GoogleCloudPlatform/document-ai-samples/main/incubator-tools/best-practices/utilities/utilities.py"
   ]
  },
  {
   "cell_type": "code",
   "execution_count": null,
   "id": "ad415a6d-6b54-4241-a781-678a527f0ed7",
   "metadata": {
    "tags": []
   },
   "outputs": [],
   "source": [
    "from google.cloud import documentai_v1beta3\n",
    "from google.api_core.client_options import ClientOptions"
   ]
  },
  {
   "cell_type": "markdown",
   "id": "110046b1-ebea-4a2b-990d-5acda4a3b66c",
   "metadata": {},
   "source": [
    "### 2.Setup the inputs\n",
    "\n",
    "* `project_id` : Project ID of the GCP project\n",
    "* `location` : Location of the processor: us or eu\n",
    "* `processor_id` : Processor id of processor"
   ]
  },
  {
   "cell_type": "code",
   "execution_count": null,
   "id": "e3494107-2697-4804-bdc4-f503d5d50fdf",
   "metadata": {
    "tags": []
   },
   "outputs": [],
   "source": [
    "project_id = \"<<project_id>>\"  # Project ID of the project\n",
    "location = \"<<location>>\"  # location of the processor: us or eu\n",
    "processor_id = \"<<processor_id>>\"  # Processor id of processor"
   ]
  },
  {
   "cell_type": "markdown",
   "id": "846011bb-eb92-454d-9ea9-6c9763490bce",
   "metadata": {},
   "source": [
    "### 3.Run the required functions"
   ]
  },
  {
   "cell_type": "code",
   "execution_count": null,
   "id": "6127e1d9-6a45-4827-a10c-481343697abc",
   "metadata": {
    "tags": []
   },
   "outputs": [],
   "source": [
    "def get_dataset_schema(processor_name: str) -> object:\n",
    "    \"\"\"\n",
    "    Retrieves the dataset schema for the specified processor.\n",
    "\n",
    "    Args:\n",
    "        processor_name (str): The name of the processor from which the dataset schema is to be retrieved.\n",
    "\n",
    "    Returns:\n",
    "        object: The response object containing the dataset schema from the `get_dataset_schema` API request.\n",
    "    \"\"\"\n",
    "    # Initialize request argument(s)\n",
    "    request = documentai_v1beta3.GetDatasetSchemaRequest(\n",
    "        name=processor_name + \"/dataset/datasetSchema\",\n",
    "    )\n",
    "    # Make the request\n",
    "    print(\"Got Dataset Schema From the Processor\")\n",
    "    # print(request)\n",
    "    response = client.get_dataset_schema(request=request)\n",
    "    return response\n",
    "\n",
    "\n",
    "def update_dataset_schema(schema: object) -> object:\n",
    "    \"\"\"\n",
    "    Updates the dataset schema in the processor with the provided schema object.\n",
    "\n",
    "    Args:\n",
    "        schema (object): The schema object containing the dataset name and document schema\n",
    "                         that will be used to update the processor.\n",
    "\n",
    "    Returns:\n",
    "        object: The response object from the `update_dataset_schema` API request,\n",
    "                which confirms the update of the dataset schema.\n",
    "    \"\"\"\n",
    "    # Initialize request argument(s)\n",
    "    request = documentai_v1beta3.UpdateDatasetSchemaRequest(\n",
    "        dataset_schema={\"name\": schema.name, \"document_schema\": schema.document_schema}\n",
    "    )\n",
    "    # Make the request\n",
    "    print(\"Updated Dataset Schema into the Processor\")\n",
    "    # print(request)\n",
    "    response = client.update_dataset_schema(request=request)\n",
    "    # Handle the response\n",
    "    return response\n",
    "\n",
    "\n",
    "def modify_schema(schema: object, changes: list[dict]) -> object:\n",
    "    \"\"\"\n",
    "    Modifies the document schema by applying the specified changes.\n",
    "    The function locates the relevant entity in the schema and updates its description.\n",
    "\n",
    "    Args:\n",
    "        schema (object): The original dataset schema object, which contains schema information.\n",
    "        changes (list[dict]): A list of dictionaries where each dictionary includes:\n",
    "            - \"change_type\" (str): Type of change to apply (e.g., \"set_description\").\n",
    "            - \"entity_name\" (str): Name of the entity whose description needs to be updated.\n",
    "            - \"description\" (str): The new description to set for the entity.\n",
    "\n",
    "    Returns:\n",
    "        object: The modified dataset schema object after applying the changes.\n",
    "    \"\"\"\n",
    "    for item in changes:\n",
    "        change_type = item.get(\"change_type\")\n",
    "        entity_name = item.get(\"entity_name\")\n",
    "        description = item.get(\"description\")\n",
    "        # print(change_type, entity_name, description)\n",
    "        if change_type == \"set_description\":\n",
    "            for entity_type in schema.document_schema.entity_types:\n",
    "                for prop in entity_type.properties:\n",
    "                    if prop.name == entity_name:\n",
    "                        print(\n",
    "                            f\"FOUND {prop.name} and setting description: {description}\"\n",
    "                        )\n",
    "                        prop.description = description\n",
    "                        break\n",
    "    return schema"
   ]
  },
  {
   "cell_type": "markdown",
   "id": "8eb2b3e0-8d10-4a57-83ab-330b041fa187",
   "metadata": {},
   "source": [
    "### 4.Run the code"
   ]
  },
  {
   "cell_type": "code",
   "execution_count": null,
   "id": "90b255b0-cb06-4f4e-8f0e-75c2d56a52bd",
   "metadata": {
    "tags": []
   },
   "outputs": [],
   "source": [
    "def main():\n",
    "    processor_name = (\n",
    "        f\"projects/{project_id}/locations/{location}/processors/{processor_id}\"\n",
    "    )\n",
    "    client = documentai_v1beta3.DocumentServiceClient(\n",
    "        client_options=ClientOptions(\n",
    "            api_endpoint=f\"{location}-documentai.googleapis.com\"\n",
    "        )\n",
    "    )\n",
    "\n",
    "    # Get schema from your source\n",
    "    schema = response_document_schema = get_dataset_schema(processor_name)\n",
    "\n",
    "    # Define schema changes\n",
    "    changes = [\n",
    "        {\n",
    "            \"change_type\": \"set_description\",\n",
    "            \"entity_name\": \"entity_1\",\n",
    "            \"description\": \"The entity description on the document for the entity1.\",\n",
    "        },\n",
    "        {\n",
    "            \"change_type\": \"set_description\",\n",
    "            \"entity_name\": \"entity_2\",\n",
    "            \"description\": \"The entity description/location on the document for the entity2.\",\n",
    "        },\n",
    "    ]\n",
    "\n",
    "    # Apply changes to the schema\n",
    "    updated_schema = modify_schema(schema, changes)\n",
    "\n",
    "    # Update dataset schema in your system\n",
    "    response_update = update_dataset_schema(updated_schema)\n",
    "\n",
    "\n",
    "main()"
   ]
  },
  {
   "cell_type": "markdown",
   "id": "c21c9da6-5333-4b95-90dc-7f78425b597e",
   "metadata": {},
   "source": [
    "### 5.Output\n",
    "\n",
    "Showing the difference between before and after updated the entity description"
   ]
  },
  {
   "cell_type": "markdown",
   "id": "6390a5e8-f8c8-49de-b832-05a43d7357d0",
   "metadata": {
    "tags": []
   },
   "source": [
    "#### Before Updating the Entity Field Description\n",
    "<img src=\"./Images/before_setting_field_desc.png\" width=800 height=400 ></img>\n",
    "#### After Updating the Entity Field Description\n",
    "<img src=\"./Images/after_setting_field_desc.png\" width=800 height=400 ></img>"
   ]
  }
 ],
 "metadata": {
  "environment": {
   "kernel": "conda-base-py",
   "name": "workbench-notebooks.m125",
   "type": "gcloud",
   "uri": "us-docker.pkg.dev/deeplearning-platform-release/gcr.io/workbench-notebooks:m125"
  },
  "kernelspec": {
   "display_name": "Python 3 (ipykernel) (Local)",
   "language": "python",
   "name": "conda-base-py"
  },
  "language_info": {
   "codemirror_mode": {
    "name": "ipython",
    "version": 3
   },
   "file_extension": ".py",
   "mimetype": "text/x-python",
   "name": "python",
   "nbconvert_exporter": "python",
   "pygments_lexer": "ipython3",
   "version": "3.10.15"
  }
 },
 "nbformat": 4,
 "nbformat_minor": 5
}
