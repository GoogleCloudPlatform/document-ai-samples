{
 "cells": [
  {
   "cell_type": "markdown",
   "id": "ac19ccf1-612c-444b-a790-8b3a08eaf54a",
   "metadata": {},
   "source": [
    "# Rasterize Unsupported Document Types"
   ]
  },
  {
   "cell_type": "markdown",
   "id": "820eb8b3-c560-42bf-997f-ffa490676c82",
   "metadata": {},
   "source": [
    "* Author: docai-incubator@google.com"
   ]
  },
  {
   "cell_type": "markdown",
   "id": "ae6698a6-0341-421f-91a2-1ff21ab7f5fd",
   "metadata": {},
   "source": [
    "## Disclaimer\n",
    "\n",
    "This tool is not supported by the Google engineering team or product team. It is provided and supported on a best-effort basis by the **DocAI Incubator Team**. No guarantees of performance are implied."
   ]
  },
  {
   "cell_type": "markdown",
   "id": "12522c84-ff89-4e4c-b21f-0f2c11886c15",
   "metadata": {},
   "source": [
    "## Objective\n",
    "\n",
    "The objective of this document is to provide code to convert the unsupported formats of docs to supported formats."
   ]
  },
  {
   "cell_type": "markdown",
   "id": "0217f516-a1be-4f49-8274-7f47aad6e01a",
   "metadata": {},
   "source": [
    "## Prerequisites\n",
    "* Access to vertex AI Notebook or Google Colab\n",
    "* Python"
   ]
  },
  {
   "cell_type": "markdown",
   "id": "9836ae54-09d9-4b6e-a6e2-84efc33ed459",
   "metadata": {},
   "source": [
    "## Step by Step procedure"
   ]
  },
  {
   "cell_type": "markdown",
   "id": "63d64ba7-a725-45a1-be49-31c12aec5ce1",
   "metadata": {},
   "source": [
    "### 1.Raw text or .txt file to pdf"
   ]
  },
  {
   "cell_type": "markdown",
   "id": "3f11a9ae-42d3-460f-845a-7d04a42b0d74",
   "metadata": {
    "tags": []
   },
   "source": [
    "#### 1.1.Importing Required Modules"
   ]
  },
  {
   "cell_type": "code",
   "execution_count": null,
   "id": "12fde3b9-bed7-4bf9-be9c-4149a79ec869",
   "metadata": {
    "tags": []
   },
   "outputs": [],
   "source": [
    "# installing required libraries\n",
    "!pip install reportlab\n",
    "!pip install pypandoc"
   ]
  },
  {
   "cell_type": "code",
   "execution_count": null,
   "id": "1f909ecc-5aeb-4f6f-871f-c775b66327c9",
   "metadata": {
    "tags": []
   },
   "outputs": [],
   "source": [
    "from reportlab.lib.pagesizes import inch, letter\n",
    "from reportlab.lib.styles import getSampleStyleSheet\n",
    "from reportlab.lib import colors\n",
    "from reportlab.pdfgen import canvas\n",
    "from reportlab.lib.units import inch\n",
    "from reportlab.lib.pagesizes import A4\n",
    "from reportlab.lib.pagesizes import landscape\n",
    "from reportlab.lib.pagesizes import portrait\n",
    "from reportlab.pdfgen.canvas import Canvas\n",
    "import pypandoc\n",
    "from typing import Any, Dict, List, Optional, Sequence, Tuple, Union"
   ]
  },
  {
   "cell_type": "markdown",
   "id": "dba35a70-3703-45fa-8e37-a26b832d462e",
   "metadata": {},
   "source": [
    "#### 1.2.Run the code"
   ]
  },
  {
   "cell_type": "code",
   "execution_count": null,
   "id": "743b691b-c0e4-451f-8844-3bd26393691f",
   "metadata": {},
   "outputs": [],
   "source": [
    "def create_pdf_from_text(raw_text, output_pdf_path):\n",
    "    \"\"\"\n",
    "    Creates a PDF from the given raw text.\n",
    "\n",
    "    Args:\n",
    "        raw_text (str): The text to be included in the PDF.\n",
    "        output_pdf_path (str): The output file path for the generated PDF.\n",
    "\n",
    "    Returns:\n",
    "        None\n",
    "    \"\"\"\n",
    "    # Define canvas size (1024x1024 pixels converted to points)\n",
    "    width, height = 1024, 1024\n",
    "\n",
    "    # Create a canvas\n",
    "    c = canvas.Canvas(output_pdf_path, pagesize=(width, height))\n",
    "\n",
    "    # Set font properties\n",
    "    font_name = \"Courier\"  # Monospaced font\n",
    "    font_size = 12\n",
    "    line_height = font_size * 1.5  # Row spacing\n",
    "\n",
    "    # Set font\n",
    "    c.setFont(font_name, font_size)\n",
    "\n",
    "    # Starting position\n",
    "    x = 50\n",
    "    y = height - 50\n",
    "\n",
    "    # Draw the text\n",
    "    for line in raw_text.splitlines():\n",
    "        c.drawString(x, y, line)\n",
    "        y -= line_height\n",
    "        if y < 50:\n",
    "            c.showPage()\n",
    "            c.setFont(font_name, font_size)\n",
    "            y = height - 50\n",
    "\n",
    "    # Save the PDF\n",
    "    c.save()\n",
    "\n",
    "\n",
    "# Example usage\n",
    "raw_text = \"\"\"This is an example of raw text.\n",
    "It will be rendered in a PDF using a monospaced font.\n",
    "Each line is spaced 1.5 times the font size.\n",
    "The canvas size is 1024x1024 pixels.\"\"\"\n",
    "\n",
    "output_pdf_path = \"output.pdf\"\n",
    "create_pdf_from_text(raw_text, output_pdf_path)\n",
    "# for txt files\n",
    "# Read the text file\n",
    "with open(\"raw_data.txt\", \"r\") as file:\n",
    "    raw_text_from_file = file.read()\n",
    "output_pdf_path = \"output_txt.pdf\"\n",
    "create_pdf_from_text(raw_text_from_file, output_pdf_path)"
   ]
  },
  {
   "cell_type": "markdown",
   "id": "be942198-5344-4f11-824c-cf9abf98db60",
   "metadata": {
    "tags": []
   },
   "source": [
    "### 2.Word file to pdf "
   ]
  },
  {
   "cell_type": "markdown",
   "id": "0c77fab3-0a29-460e-8a41-18dce2146122",
   "metadata": {},
   "source": [
    "#### 2.1.Importing Required Modules"
   ]
  },
  {
   "cell_type": "code",
   "execution_count": null,
   "id": "eb5b012a-65de-42ab-a693-6afcc31a7eb2",
   "metadata": {
    "tags": []
   },
   "outputs": [],
   "source": [
    "import pypandoc"
   ]
  },
  {
   "cell_type": "markdown",
   "id": "016693af-f676-4fa6-ad77-c622dcbde7c6",
   "metadata": {},
   "source": [
    "#### 2.2.Run the code"
   ]
  },
  {
   "cell_type": "code",
   "execution_count": null,
   "id": "e56a2328-a222-4521-90a6-d1d765a555a5",
   "metadata": {
    "tags": []
   },
   "outputs": [],
   "source": [
    "def convert_docx_to_pdf(input_docx_path: str, output_pdf_path: str):\n",
    "    \"\"\"\n",
    "    Converts a DOCX file to a PDF using Pandoc.\n",
    "\n",
    "    Args:\n",
    "        input_docx_path (str): The file path of the input DOCX file to be converted.\n",
    "        output_pdf_path (str): The file path where the output PDF should be saved.\n",
    "\n",
    "    Returns:\n",
    "        None\n",
    "    \"\"\"\n",
    "    pypandoc.convert_file(input_docx_path, \"pdf\", outputfile=output_pdf_path)\n",
    "\n",
    "\n",
    "# Example usage\n",
    "convert_docx_to_pdf(\"1.docx\", \"output_docx.pdf\")"
   ]
  },
  {
   "cell_type": "markdown",
   "id": "5c33a05f-9912-42a7-9433-f8ea8c4d0db5",
   "metadata": {},
   "source": [
    "### 3.Output\n",
    "Upon running the code it will convert the input document to PDF"
   ]
  },
  {
   "cell_type": "code",
   "execution_count": null,
   "id": "f87e332a-9b9e-4c85-8914-8d5a065c0dc1",
   "metadata": {},
   "outputs": [],
   "source": []
  }
 ],
 "metadata": {
  "environment": {
   "kernel": "conda-base-py",
   "name": "workbench-notebooks.m125",
   "type": "gcloud",
   "uri": "us-docker.pkg.dev/deeplearning-platform-release/gcr.io/workbench-notebooks:m125"
  },
  "kernelspec": {
   "display_name": "Python 3 (ipykernel) (Local)",
   "language": "python",
   "name": "conda-base-py"
  },
  "language_info": {
   "codemirror_mode": {
    "name": "ipython",
    "version": 3
   },
   "file_extension": ".py",
   "mimetype": "text/x-python",
   "name": "python",
   "nbconvert_exporter": "python",
   "pygments_lexer": "ipython3",
   "version": "3.10.15"
  }
 },
 "nbformat": 4,
 "nbformat_minor": 5
}
