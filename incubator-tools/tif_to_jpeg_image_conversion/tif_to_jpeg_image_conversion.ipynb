{
 "cells": [
  {
   "attachments": {},
   "cell_type": "markdown",
   "id": "0f835c15-3f14-414f-afb2-2216774f052d",
   "metadata": {},
   "source": [
    "# TIF to JPEG Image Conversion "
   ]
  },
  {
   "attachments": {},
   "cell_type": "markdown",
   "id": "2d39a4ae-8d02-41f5-89dd-fd8c66e7dc4c",
   "metadata": {},
   "source": [
    "## Disclaimer\n",
    "\n",
    "This tool is not supported by the Google engineering team or product team. It is provided and supported on a best-effort basis by the DocAI Incubator Team. No guarantees of performance are implied.\t"
   ]
  },
  {
   "attachments": {},
   "cell_type": "markdown",
   "id": "f7bc0071-133f-4a3b-9e8b-bb596e5ab241",
   "metadata": {},
   "source": [
    "## Objective\n",
    "\n",
    "The objective of the tool is to convert TIF files to jpeg files."
   ]
  },
  {
   "attachments": {},
   "cell_type": "markdown",
   "id": "9eabf3ac-6210-44fc-9d01-15b28f44f223",
   "metadata": {},
   "source": [
    "## Prerequisite\n",
    "* Vertex AI Notebook or Google Colab Notebook\n",
    "* Bucket details of dataset."
   ]
  },
  {
   "attachments": {},
   "cell_type": "markdown",
   "id": "b6719585-c481-479a-8fe7-229e3cd6757b",
   "metadata": {},
   "source": [
    "## Step by Step procedure"
   ]
  },
  {
   "attachments": {},
   "cell_type": "markdown",
   "id": "feb27d72-e4b8-40f1-97cf-c06816fd6478",
   "metadata": {
    "tags": []
   },
   "source": [
    "### 1. Input Details"
   ]
  },
  {
   "cell_type": "code",
   "execution_count": 2,
   "id": "b1b8b174-f38e-4259-9129-8165766bdd2e",
   "metadata": {},
   "outputs": [],
   "source": [
    "PROJECT_ID = \"xxxx-xxxx-xx\"\n",
    "BUCKET_NAME = \"xxxxxxxx\"\n",
    "INPUT_FOLDER_PATH = \"xxxxxxxxx/xxxxxxxx/xxxx\"  # without bucket name\n",
    "OUTPUT_FOLDER_PATH = \"xxxxxx/xxxxxxxx/xxxxx\"  # without bucket name"
   ]
  },
  {
   "attachments": {},
   "cell_type": "markdown",
   "id": "76d23cd0-1ef3-4398-8890-c741edee8f39",
   "metadata": {},
   "source": [
    "**PROJECT_ID**: *provide the project id*\n",
    "\n",
    "**BUCKET_NAME**: *Provide the bucket name from google cloud storage.*\n",
    "\n",
    "**INPUT_FOLDER_PATH**: *Provide the location of the TIF file stored on google cloud storage*\n",
    "\n",
    "**OUTPUT_FOLDER_PATH**: *Provide the location of the output path to store the jpeg image files*\n"
   ]
  },
  {
   "attachments": {},
   "cell_type": "markdown",
   "id": "ebb43b69-f2ae-4bce-b7c2-eedc1f79c6fc",
   "metadata": {},
   "source": [
    "### 2. Run the Code\n",
    "Use the function given in the sample code which stores the converted jpeg files in the desired location of google cloud storage."
   ]
  },
  {
   "attachments": {},
   "cell_type": "markdown",
   "id": "12d8d7b3-a450-4507-a815-19543bec14bf",
   "metadata": {},
   "source": [
    "#### Install the required Libraries"
   ]
  },
  {
   "cell_type": "code",
   "execution_count": null,
   "id": "3f4f2db5-bb44-4e94-973b-f6c124cacaae",
   "metadata": {},
   "outputs": [],
   "source": [
    "!pip install pillow\n",
    "!pip install tqdm\n",
    "!pip install google-cloud"
   ]
  },
  {
   "cell_type": "code",
   "execution_count": null,
   "id": "75121bf8-4411-4cea-9c43-8cd9c34ca84a",
   "metadata": {},
   "outputs": [],
   "source": [
    "from google.cloud import storage\n",
    "from PIL import Image\n",
    "from io import BytesIO\n",
    "from typing import IO\n",
    "from tqdm.notebook import tqdm\n",
    "from google.cloud.storage.blob import Blob\n",
    "\n",
    "storage_client = storage.Client(project=PROJECT_ID)\n",
    "bucket = storage_client.get_bucket(BUCKET_NAME)\n",
    "\n",
    "\n",
    "def get_file(file_path: str) -> IO[BytesIO]:\n",
    "    \"\"\"\n",
    "    Read a file from Google Cloud Storage.\n",
    "\n",
    "    Args:\n",
    "        file_path (str): The path of the file in Google Cloud Storage.\n",
    "\n",
    "    Returns:\n",
    "        IO[BytesIO]: A BytesIO stream of the file content.\n",
    "    \"\"\"\n",
    "    blob = bucket.blob(file_path)\n",
    "    byte_stream = BytesIO()\n",
    "    blob.download_to_file(byte_stream)\n",
    "    byte_stream.seek(0)\n",
    "    return byte_stream\n",
    "\n",
    "\n",
    "def store_blob(document: bytes, file_path: str) -> None:\n",
    "    \"\"\"\n",
    "    Store a file in Google Cloud Storage.\n",
    "\n",
    "    Args:\n",
    "        document (bytes): The content of the file to be stored.\n",
    "        file_path (str): The path where the file will be stored in Google Cloud Storage.\n",
    "\n",
    "    Returns:\n",
    "        None\n",
    "    \"\"\"\n",
    "    blob = bucket.blob(file_path)\n",
    "    blob.upload_from_string(document, content_type=\"image/jpeg\")\n",
    "\n",
    "\n",
    "blobs = bucket.list_blobs(prefix=INPUT_FOLDER_PATH)\n",
    "files = [\n",
    "    blob.name\n",
    "    for blob in blobs\n",
    "    if blob.name.endswith(\".TIF\")\n",
    "    or blob.name.endswith(\".tif\")\n",
    "    or blob.name.endswith(\".TIFF\")\n",
    "    or blob.name.endswith(\".tiff\")\n",
    "]\n",
    "\n",
    "for file_path in tqdm(files):\n",
    "    print(file_path)\n",
    "    image_data = get_file(file_path)\n",
    "    outfile_name = OUTPUT_FOLDER_PATH + \"/\" + file_path.split(\"/\")[-1][:-4] + \"jpeg\"\n",
    "    im = Image.open(image_data)\n",
    "    out = im.convert(\"RGB\")\n",
    "    image_str = BytesIO()\n",
    "    out.save(image_str, \"JPEG\")\n",
    "    contents = image_str.getvalue()\n",
    "    store_blob(contents, outfile_name)"
   ]
  },
  {
   "attachments": {},
   "cell_type": "markdown",
   "id": "b07e6b7a-ff56-484d-8a04-a12d3e7dc86a",
   "metadata": {},
   "source": [
    "## Output\n",
    "\n",
    "Converted Jpeg files will be saved in the output folder."
   ]
  },
  {
   "cell_type": "code",
   "execution_count": null,
   "id": "fb40602e-37db-4c36-a0dc-f79f8136aaa5",
   "metadata": {},
   "outputs": [],
   "source": []
  }
 ],
 "metadata": {
  "environment": {
   "kernel": "python3",
   "name": "common-cpu.m104",
   "type": "gcloud",
   "uri": "gcr.io/deeplearning-platform-release/base-cpu:m104"
  },
  "kernelspec": {
   "display_name": "Python 3",
   "language": "python",
   "name": "python3"
  },
  "language_info": {
   "codemirror_mode": {
    "name": "ipython",
    "version": 3
   },
   "file_extension": ".py",
   "mimetype": "text/x-python",
   "name": "python",
   "nbconvert_exporter": "python",
   "pygments_lexer": "ipython3",
   "version": "3.7.12"
  }
 },
 "nbformat": 4,
 "nbformat_minor": 5
}
