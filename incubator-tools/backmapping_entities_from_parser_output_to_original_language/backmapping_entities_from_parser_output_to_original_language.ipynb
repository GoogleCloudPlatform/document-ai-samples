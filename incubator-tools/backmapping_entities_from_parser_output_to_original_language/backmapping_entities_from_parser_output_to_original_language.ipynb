{
 "cells": [
  {
   "cell_type": "markdown",
   "id": "bb1a4e07-a39a-47a0-b663-c5a2a43c30f9",
   "metadata": {},
   "source": [
    "# Backmapping Entities  From Parser Output To Original Language"
   ]
  },
  {
   "cell_type": "markdown",
   "id": "5c3e8f40-015e-489d-8bed-0ee3633abb93",
   "metadata": {},
   "source": [
    "* Author: docai-incubator@google.com"
   ]
  },
  {
   "cell_type": "markdown",
   "id": "5b7d1192-139d-4cbf-96cc-e63d0a873ad9",
   "metadata": {},
   "source": [
    "## Disclaimer\n",
    "\n",
    "This tool is not supported by the Google engineering team or product team. It is provided and supported on a best-effort basis by the **DocAI Incubator Team**. No guarantees of performance are implied."
   ]
  },
  {
   "cell_type": "markdown",
   "id": "1ba5fab9-2787-4ced-8d80-67648f13e850",
   "metadata": {},
   "source": [
    "## Objective\n",
    "This document guides to backmap the entities from the parser output which is trained in different languages to the original language of the document using google translation API.\n"
   ]
  },
  {
   "cell_type": "markdown",
   "id": "5f911bba-77b0-4b86-81e0-364b0b55ef2d",
   "metadata": {},
   "source": [
    "## Prerequisites\n",
    "* Vertex AI Notebook\n",
    "* Documents in GCS folder to backmap\n",
    "* Parser details\n",
    "* `textUnits` option for **Cloud Translation API** needs to be allowlisted/enabled for project"
   ]
  },
  {
   "cell_type": "markdown",
   "id": "435dee2b-76d7-4c02-ad6e-7e3996008b90",
   "metadata": {},
   "source": [
    "## Workflow to BackMap the Entities to Original language\n",
    "\n",
    "<img src='./images/workflow.png' width=800 height=800></img>"
   ]
  },
  {
   "cell_type": "markdown",
   "id": "952e913d-7e88-4cd3-beb2-33d196c11d3d",
   "metadata": {},
   "source": [
    "## Step-by-Step Procedure"
   ]
  },
  {
   "cell_type": "markdown",
   "id": "4a6ba8f2-de6b-4a6a-b960-4df92704a486",
   "metadata": {},
   "source": [
    "## 1. Import Modules/Packages"
   ]
  },
  {
   "cell_type": "code",
   "execution_count": null,
   "id": "c02b7b6f-74c8-470c-8503-0005b281beb2",
   "metadata": {},
   "outputs": [],
   "source": [
    "!pip install fuzzywuzzy -q\n",
    "!pip install google-auth -q\n",
    "!pip install google-cloud-documentai -q\n",
    "!pip install google-cloud-storage -q\n",
    "!pip install numpy -q\n",
    "!pip install opencv-python -q\n",
    "!pip install pandas -q\n",
    "!pip install pillow -q\n",
    "!pip install python-dateutil -q\n",
    "!pip install requests -q"
   ]
  },
  {
   "cell_type": "code",
   "execution_count": null,
   "id": "7270f808-bbc3-44d6-855d-c7a916200049",
   "metadata": {},
   "outputs": [],
   "source": [
    "# Run this cell to download utilities module\n",
    "!wget https://raw.githubusercontent.com/GoogleCloudPlatform/document-ai-samples/main/incubator-tools/best-practices/utilities/utilities.py"
   ]
  },
  {
   "cell_type": "code",
   "execution_count": null,
   "id": "8b98ecf2-c6ec-45bf-a712-c87bce7c26c0",
   "metadata": {},
   "outputs": [],
   "source": [
    "import pandas as pd\n",
    "\n",
    "from backmap_utils import (\n",
    "    document_to_json,\n",
    "    download_pdf,\n",
    "    process_document,\n",
    "    run_consolidate,\n",
    "    translation_text_units,\n",
    "    upload_to_cloud_storage,\n",
    ")\n",
    "from utilities import file_names"
   ]
  },
  {
   "cell_type": "markdown",
   "id": "072bb930-6039-42d1-9087-3e45751ab346",
   "metadata": {},
   "source": [
    "## 2. Input Details"
   ]
  },
  {
   "cell_type": "markdown",
   "id": "bad7e1b4-6de1-4fc7-aa4f-41ac2a02ecb4",
   "metadata": {},
   "source": [
    "* **PROJECT_ID**: GCP project ID\n",
    "* **LOCATION**: Location of DocumentAI Processor, either `us` or `eu`\n",
    "* **PROCESSOR_ID**: DocumentAI Parser ProcessorID \n",
    "* **PROCESSOR_VERSION_ID**: DocumentAI Parser processor version id\n",
    "* **ORIGINAL_SAMPLES_GCS_PATH**: GCS folder apth containing native-language(non-english) documents\n",
    "* **OUTPUT_BUCKET**: GCS output bucket-name to store results(with-out gs://)\n",
    "* **OUTPUT_GCS_DIR**: Output folder path to store results in above mentioned output-bucket(with-out gs://)\n",
    "* **MIME_TYPE**: Mimetype of input documents\n",
    "* **TRANSLATION**: `True` if you needed translation of documents from non-eng to english language, otherwise `False`\n",
    "* **BACKMAPPING**: `True` if you needed backamapping of entities from parser-output to original language(non-english), otherwise `False`\n",
    "* **SAVE_TRANSLATED_PDF**: `True` if you need to store translated doc-results of Cloud Translation API output results\n",
    "* **ORIGINAL_LANGUAGE**: Provide language code of original documents. eg:- '`de`' for greek input files\n",
    "* **TARGET_LANGUAGE**: Provide target language code. eg:- '`en`' to sonvert to english\n",
    "* **DIFF_X**: X-coordinate offset\n",
    "* **DIFF_Y**: Y-coordinate offset"
   ]
  },
  {
   "cell_type": "code",
   "execution_count": null,
   "id": "cf4b3571-d01c-421b-8a0f-91dbb95d38e3",
   "metadata": {},
   "outputs": [],
   "source": [
    "PROJECT_ID = \"xx-xx-xx\"\n",
    "LOCATION = \"us\"  # or \"eu\"\n",
    "PROCESSOR_ID = \"xx-xx-xx\"  # Invoice processor ID\n",
    "PROCESSOR_VERSION_ID = \"pretrained-invoice-v1.3-2022-07-15\"\n",
    "ORIGINAL_SAMPLES_GCS_PATH = \"gs://bucket/path_to/backmapping/original_samples\"\n",
    "OUTPUT_BUCKET = \"bucket_name_only\"  # without gs://\n",
    "OUTPUT_GCS_DIR = \"directory_name\"  # without gs://\n",
    "MIME_TYPE = \"application/pdf\"\n",
    "TRANSLATION = True\n",
    "BACKMAPPING = True\n",
    "SAVE_TRANSLATED_PDF = True\n",
    "ORIGINAL_LANGUAGE = \"de\"\n",
    "TARGET_LANGUAGE = \"en\"\n",
    "DIFF_X = 0.3\n",
    "DIFF_Y = 0.05"
   ]
  },
  {
   "cell_type": "markdown",
   "id": "9986285a-e9c5-40bc-8ce7-4f35b1d40a59",
   "metadata": {},
   "source": [
    "## 3. Run Below Code-Cells"
   ]
  },
  {
   "cell_type": "code",
   "execution_count": null,
   "id": "b70f2ac3-6dea-4aea-8cbf-2df25259ff7a",
   "metadata": {},
   "outputs": [],
   "source": [
    "files_list, files_dict = file_names(ORIGINAL_SAMPLES_GCS_PATH)\n",
    "input_bucket_name = ORIGINAL_SAMPLES_GCS_PATH.split(\"/\")[2]\n",
    "OUTPUT_GCS_DIR = OUTPUT_GCS_DIR.strip(\"/\")\n",
    "df_merge = pd.DataFrame()\n",
    "print(\n",
    "    \"Backmapping DocumentAI Parser Output to it's Original Language Process Started...\"\n",
    ")\n",
    "path_text_units = f\"{OUTPUT_GCS_DIR}/text_units\"\n",
    "path_after_translation = f\"{OUTPUT_GCS_DIR}/after_translation\"\n",
    "path_after_backmapping = f\"{OUTPUT_GCS_DIR}/after_backmapping\"\n",
    "PATH_CONSOLIDATED_CSV = OUTPUT_GCS_DIR\n",
    "CONSOLIDATED_CSV = \"consolidated_csv_after_backamapping.csv\"\n",
    "for fn, fp in files_dict.items():\n",
    "    print(f\"File: {fn}\")\n",
    "    gcs_input_path = f\"gs://{input_bucket_name}/{fp}\"\n",
    "    pdf_bytes_target = download_pdf(gcs_input_path, fp)  # .getvalue()\n",
    "    # converting non-eng-doc(greek) pdf to docai-json result using invoice-v3\n",
    "    print(\"\\tDocumentAI process sync-started for raw-document\")\n",
    "    target_docai_result = process_document(\n",
    "        PROJECT_ID,\n",
    "        LOCATION,\n",
    "        PROCESSOR_ID,\n",
    "        PROCESSOR_VERSION_ID,\n",
    "        file_content=pdf_bytes_target,\n",
    "        mime_type=MIME_TYPE,\n",
    "        is_native=False,\n",
    "        ocr=False,\n",
    "    )\n",
    "    json_data_target = document_to_json(target_docai_result)\n",
    "    filename = fn.split(\".\")[0]\n",
    "    if TRANSLATION:\n",
    "        print(\"\\t\\tTranslation process started...\")\n",
    "        input_uri = f\"gs://{OUTPUT_BUCKET}/{fp}\"\n",
    "        pdf_bytes_source, text_units, json_response = translation_text_units(\n",
    "            PROJECT_ID,\n",
    "            LOCATION,\n",
    "            PROCESSOR_VERSION_ID,\n",
    "            PROCESSOR_ID,\n",
    "            TARGET_LANGUAGE,\n",
    "            ORIGINAL_LANGUAGE,\n",
    "            input_uri,\n",
    "            OUTPUT_BUCKET,\n",
    "            OUTPUT_GCS_DIR,\n",
    "            save_translated_doc=SAVE_TRANSLATED_PDF,\n",
    "        )\n",
    "        text_units_dict = {\"text_units\": text_units}\n",
    "        upload_to_cloud_storage(\n",
    "            filename, text_units_dict, OUTPUT_BUCKET, path_text_units\n",
    "        )\n",
    "        print(\"\\tDocumentAI process sync-started for translated-document(English)\")\n",
    "        source_docai_result = process_document(\n",
    "            PROJECT_ID,\n",
    "            LOCATION,\n",
    "            PROCESSOR_ID,\n",
    "            PROCESSOR_VERSION_ID,\n",
    "            file_content=pdf_bytes_source,\n",
    "            mime_type=MIME_TYPE,\n",
    "            is_native=False,\n",
    "            ocr=False,\n",
    "        )\n",
    "        json_data_source = document_to_json(source_docai_result)\n",
    "        upload_to_cloud_storage(\n",
    "            filename, json_data_source, OUTPUT_BUCKET, path_after_translation\n",
    "        )\n",
    "\n",
    "    if TRANSLATION and BACKMAPPING:\n",
    "        # Consolidate the extracted and processed data\n",
    "        print(\"\\t\\tBackmapping process started...\")\n",
    "        df, target_json = run_consolidate(\n",
    "            source_docai_result,\n",
    "            target_docai_result,\n",
    "            text_units,\n",
    "            DIFF_X,\n",
    "            DIFF_Y,\n",
    "            ORIGINAL_LANGUAGE,\n",
    "        )\n",
    "        target_json = document_to_json(target_json)\n",
    "        upload_to_cloud_storage(\n",
    "            filename, target_json, OUTPUT_BUCKET, path_after_backmapping\n",
    "        )\n",
    "        df.insert(loc=0, column=\"File Name\", value=filename)\n",
    "        df_merge = pd.concat([df_merge, df])\n",
    "\n",
    "upload_to_cloud_storage(\n",
    "    CONSOLIDATED_CSV, df_merge, OUTPUT_BUCKET, PATH_CONSOLIDATED_CSV\n",
    ")\n",
    "print(\"Process Completed!!!\")"
   ]
  },
  {
   "cell_type": "markdown",
   "id": "efb135cc-22f3-4aa6-adc6-cec5841cb997",
   "metadata": {},
   "source": [
    "## 4. Output Details"
   ]
  },
  {
   "cell_type": "markdown",
   "id": "a77dc16a-a62d-4292-8f31-acada6295d28",
   "metadata": {},
   "source": [
    "1. Raw Document sample(Greek PDF sample)  \n",
    "    <img src='./images/original_doc_greek.png' width=800 height=800></img><br>  \n",
    "\n",
    "2. After Translation from Greek to English using Cloud Translation API\n",
    "     <img src='./images/after_translation_greek_to_eng.png' width=800 height=800></img>\\n\n",
    "\n",
    "3. After using Translation API, every translated document contains `Machine Translated By Google` text at top-left conrner of translated page\n",
    "    <img src='./images/redact_noise_after_translation.png' width=800 height=800></img>\n",
    "\n",
    "4. Sample CSV output file data for comparision between original document entities mention text and translated document mention text\n",
    "    <img src='./images/df_comparision_output.png' width=800 height=800></img>\n",
    "\n"
   ]
  },
  {
   "cell_type": "code",
   "execution_count": null,
   "id": "0c43c9cc-55f0-46fb-acf6-45e75935cf1a",
   "metadata": {},
   "outputs": [],
   "source": []
  },
  {
   "cell_type": "code",
   "execution_count": null,
   "id": "68c96be6-85fe-466c-8d62-6f7ea3c0d079",
   "metadata": {},
   "outputs": [],
   "source": []
  }
 ],
 "metadata": {
  "environment": {
   "kernel": "python3",
   "name": "common-cpu.m112",
   "type": "gcloud",
   "uri": "gcr.io/deeplearning-platform-release/base-cpu:m112"
  },
  "kernelspec": {
   "display_name": "Python 3",
   "language": "python",
   "name": "python3"
  },
  "language_info": {
   "codemirror_mode": {
    "name": "ipython",
    "version": 3
   },
   "file_extension": ".py",
   "mimetype": "text/x-python",
   "name": "python",
   "nbconvert_exporter": "python",
   "pygments_lexer": "ipython3",
   "version": "3.7.12"
  }
 },
 "nbformat": 4,
 "nbformat_minor": 5
}
