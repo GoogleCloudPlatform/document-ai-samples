{
 "cells": [
  {
   "cell_type": "markdown",
   "id": "5fd2bc5c-50a3-46c0-9077-b6599c2de7b6",
   "metadata": {},
   "source": [
    "# Signature Detection by Reading Pixels"
   ]
  },
  {
   "cell_type": "markdown",
   "id": "d4b79b77-f7f4-48c5-b857-2b3b7c7a1444",
   "metadata": {},
   "source": [
    "* Author: docai-incubator@google.com\n"
   ]
  },
  {
   "cell_type": "markdown",
   "id": "d11b31a4-e270-47d0-995d-7316958e30af",
   "metadata": {},
   "source": [
    "## Disclaimer\n",
    "\n",
    "This tool is not supported by the Google engineering team or product team. It is provided and supported on a best-effort basis by the DocAI Incubator Team. No guarantees of performance are implied."
   ]
  },
  {
   "cell_type": "markdown",
   "id": "929318e2-d58c-4acc-988c-34430fb9f8dc",
   "metadata": {},
   "source": [
    "## Purpose and Description\n",
    "This documentation outlines the procedure for detecting the signature in the document by taking normalized bounding box coordinates of signature location.\n",
    "While using this code, the user needs to set two values while calling the function a) BlankLine Pixel count b)  Signature Pixel Count (only for the black pixels).\n"
   ]
  },
  {
   "cell_type": "markdown",
   "id": "88bd161e-4993-4a77-a0c3-64f8c7c304fb",
   "metadata": {},
   "source": [
    "## Prerequisites\n",
    "\n",
    "1. Access to vertex AI Notebook or Google Colab\n",
    "2. Python\n",
    "3. Python Libraries like cv2, PIL, base64, io, numpy etc."
   ]
  },
  {
   "cell_type": "markdown",
   "id": "68ab89ba-c325-4baf-b694-3967f78fde15",
   "metadata": {},
   "source": [
    "## Step by Step procedure "
   ]
  },
  {
   "cell_type": "markdown",
   "id": "8465596d-9656-4cff-b4aa-66749c8b7e3b",
   "metadata": {},
   "source": [
    "### 1. Import the required Libraries"
   ]
  },
  {
   "cell_type": "code",
   "execution_count": null,
   "id": "4fe262b4-7250-4422-859c-f4d960a59514",
   "metadata": {},
   "outputs": [],
   "source": [
    "%pip install google.cloud"
   ]
  },
  {
   "cell_type": "code",
   "execution_count": null,
   "id": "a4888923-5cb5-409e-a25f-3c8cdf7c1982",
   "metadata": {},
   "outputs": [],
   "source": [
    "!wget https://raw.githubusercontent.com/GoogleCloudPlatform/document-ai-samples/main/incubator-tools/best-practices/utilities/utilities.py"
   ]
  },
  {
   "cell_type": "code",
   "execution_count": null,
   "id": "8f85b531-2993-4ce0-b712-069d9cc8eefa",
   "metadata": {},
   "outputs": [],
   "source": [
    "import io\n",
    "from io import BytesIO\n",
    "from typing import Dict\n",
    "import os\n",
    "import base64\n",
    "from PIL import Image\n",
    "import numpy as np\n",
    "import json\n",
    "import cv2\n",
    "import PIL\n",
    "from utilities import documentai_json_proto_downloader, file_names\n",
    "from google.cloud import documentai_v1beta3 as documentai"
   ]
  },
  {
   "cell_type": "markdown",
   "id": "eda73c3b-e421-482f-9471-2455d624e2e5",
   "metadata": {},
   "source": [
    "### 2. Input details"
   ]
  },
  {
   "cell_type": "markdown",
   "id": "4854f4e6-5326-481d-b62a-dd8ff7ca2217",
   "metadata": {},
   "source": [
    "<ul>\n",
    "    <li><b>input_path :</b> GCS Storage name. It should contain DocAI processed output json files. This bucket is used for processing input files in the folders.</li>\n",
    "    <li><b>normalized_vertices: </b> 4 coordinates of the signature entity where it is expected to be present.\n",
    "    <li><b>page_number: </b>Page Number where the signature is expected to be present\n",
    "    <li><b>blank_line_pixel_count: </b>Count of the total black pixel (considering the image is a binary image(black & white)) of the blank signature field.\n",
    "    <li><b>signature_threshold_pixel_count: </b>Threshold Count of the total black pixel (considering the image is a binary image(black & white)) signature field having signature in it.\n",
    "</ul>"
   ]
  },
  {
   "cell_type": "code",
   "execution_count": null,
   "id": "eaf0950f-1ab9-4ae9-bae7-d836c4960bbf",
   "metadata": {},
   "outputs": [],
   "source": [
    "def signature_detection(\n",
    "    document_proto: documentai.Document,\n",
    "    normalized_vertices: Dict,\n",
    "    page_number: int,\n",
    "    blank_line_pixel_count: int = 600,\n",
    "    signature_threshold_pixel_count: int = 1000,\n",
    ") -> bool:\n",
    "    \"\"\"\n",
    "    Detects signatures within a document.\n",
    "\n",
    "    Args:\n",
    "        document_proto (documentai.Document): Document AI proto object.\n",
    "        normalized_vertices (Dict): Normalized vertices containing bounding box information.\n",
    "        page_number (int): Page number to process.\n",
    "        blank_line_pixel_count (int): Threshold for considering a line as blank. Default is 600.\n",
    "        signature_threshold_pixel_count (int): Threshold for considering a signature. Default is 1000.\n",
    "\n",
    "    Returns:\n",
    "        bool: True if signature is detected, False otherwise.\n",
    "    \"\"\"\n",
    "\n",
    "    bounding_box = normalized_vertices\n",
    "\n",
    "    # Getting the height & width of the page\n",
    "    img_height = document_proto.pages[page_number].image.height\n",
    "    img_width = document_proto.pages[page_number].image.width\n",
    "\n",
    "    x = [i[\"x\"] for i in bounding_box]\n",
    "    y = [i[\"y\"] for i in bounding_box]\n",
    "\n",
    "    left = min(x) * img_width - 1\n",
    "    top = min(y) * img_height - 2\n",
    "    right = max(x) * img_width + 5\n",
    "    bottom = max(y) * img_height + 17\n",
    "\n",
    "    # Setting up the bounding box coordinates to crop the image to only the signature part.\n",
    "    bounding_box_coordinates = (left, top, right, bottom)\n",
    "\n",
    "    # Fetching the Image data which is in base64 encoded format\n",
    "    content = document_proto.pages[page_number].image.content\n",
    "\n",
    "    image = Image.open(io.BytesIO(content))\n",
    "\n",
    "    # Cropping the image where signature is present\n",
    "    cropped_image = image.crop(bounding_box_coordinates)\n",
    "\n",
    "    # Saving cropped image\n",
    "    cropped_image.save(\"cropped.jpeg\")\n",
    "\n",
    "    cropped_img = cv2.imread(\"cropped.jpeg\", 0)  # Read image as grayscale\n",
    "\n",
    "    # Apply binary thresholding\n",
    "    _, cropped_bw_image = cv2.threshold(cropped_img, 127, 255, cv2.THRESH_BINARY)\n",
    "\n",
    "    # Count the total black & white pixels in the cropped image part\n",
    "    pixel_value, occurrence = np.unique(cropped_bw_image, return_counts=True)\n",
    "    pixel_counts = dict(zip(pixel_value, occurrence))\n",
    "\n",
    "    cropped_black_pixel = pixel_counts.get(0, 0)  # Count of black pixels\n",
    "\n",
    "    # Logic to determine if the cropped part contains a signature\n",
    "    os.remove(\"cropped.jpeg\")\n",
    "    if (\n",
    "        cropped_black_pixel > blank_line_pixel_count\n",
    "        and cropped_black_pixel > signature_threshold_pixel_count\n",
    "    ):\n",
    "        print(\"Signature Detected\")\n",
    "        return True\n",
    "    else:\n",
    "        print(\"No Signature Detected\")\n",
    "        return False"
   ]
  },
  {
   "cell_type": "code",
   "execution_count": null,
   "id": "b7cd9c12-28f3-4bd8-a3f7-b0beab95b81c",
   "metadata": {},
   "outputs": [],
   "source": [
    "# INPUT : Storage bucket name\n",
    "INPUT_PATH = \"gs://{bucket_name}/{folder_path}/{file_name}.json\"\n",
    "normalized_vertices = [\n",
    "    {\"x\": 0.33105803, \"y\": 0.7846154},\n",
    "    {\"x\": 0.41695109, \"y\": 0.7846154},\n",
    "    {\"x\": 0.41695109, \"y\": 0.80000001},\n",
    "    {\"x\": 0.33105803, \"y\": 0.80000001},\n",
    "]\n",
    "input_bucket_name = INPUT_PATH.split(\"/\")[2]\n",
    "path_parts = INPUT_PATH.split(\"/\")[3:]\n",
    "file_name = \"/\".join(path_parts)\n",
    "file_name = INPUT_PATH[len(input_bucket_name) + 6 :]\n",
    "document_proto = documentai_json_proto_downloader(input_bucket_name, file_name)\n",
    "# Function Calling\n",
    "signature_detection(document_proto, normalized_vertices, 0)"
   ]
  },
  {
   "cell_type": "markdown",
   "id": "c0cdb673-9858-4022-b1f1-06452c1ba922",
   "metadata": {},
   "source": [
    "### 3.Output"
   ]
  },
  {
   "cell_type": "markdown",
   "id": "ce460741-3b0d-4965-a1d4-b64d903d7579",
   "metadata": {},
   "source": [
    "Upon the above code execution, it will prompt whether the given image with bounding box coordinates is having the signature in it or not. \n",
    "\n",
    "<table>\n",
    "    <tr>\n",
    "        <td><h3><b>Input Json Image</b></h3></td>\n",
    "        <td><h3><b>Output</b></h3></td>\n",
    "    </tr>\n",
    "<tr>\n",
    "<td><img src=\"./images/image_input.png\"></td>\n",
    "<td><img src=\"./images/image_output.png\"></td>\n",
    "</tr>\n",
    "</table>\n",
    "\n"
   ]
  },
  {
   "cell_type": "code",
   "execution_count": null,
   "id": "847c1e16-74f2-4324-8fd8-d5c1a0423a4a",
   "metadata": {},
   "outputs": [],
   "source": []
  }
 ],
 "metadata": {
  "environment": {
   "kernel": "python3",
   "name": "common-cpu.m112",
   "type": "gcloud",
   "uri": "gcr.io/deeplearning-platform-release/base-cpu:m112"
  },
  "kernelspec": {
   "display_name": "Python 3",
   "language": "python",
   "name": "python3"
  },
  "language_info": {
   "codemirror_mode": {
    "name": "ipython",
    "version": 3
   },
   "file_extension": ".py",
   "mimetype": "text/x-python",
   "name": "python",
   "nbconvert_exporter": "python",
   "pygments_lexer": "ipython3",
   "version": "3.7.12"
  }
 },
 "nbformat": 4,
 "nbformat_minor": 5
}
