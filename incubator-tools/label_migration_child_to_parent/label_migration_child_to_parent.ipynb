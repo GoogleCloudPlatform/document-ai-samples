{
 "cells": [
  {
   "cell_type": "markdown",
   "id": "368cf85e-646f-4d33-819c-5b9af95fea38",
   "metadata": {},
   "source": [
    "# Label migration - Child to Parent"
   ]
  },
  {
   "cell_type": "markdown",
   "id": "358eecb9-9bd6-4519-8eaf-94f99f3b67b5",
   "metadata": {},
   "source": [
    "* Author: docai-incubator@google.com"
   ]
  },
  {
   "cell_type": "markdown",
   "id": "ea848473-7935-4533-8297-89ca7770fadc",
   "metadata": {},
   "source": [
    "## Disclaimer\n",
    "\n",
    "This tool is not supported by the Google engineering team or product team. It is provided and supported on a best-effort basis by the DocAI Incubator Team. No guarantees of performance are implied.\t"
   ]
  },
  {
   "cell_type": "markdown",
   "id": "4a09d18f-4267-4946-9da9-b34b702a1437",
   "metadata": {},
   "source": [
    "## Objective\n",
    "This tool uses the exported labeled dataset from the processor and removes the child_item “po_number” from “invoice_line_item” , adds it as an individual entity and saves back the json to google storage. "
   ]
  },
  {
   "cell_type": "markdown",
   "id": "e31ce00c-8952-4e0d-9fa2-815d439da054",
   "metadata": {},
   "source": [
    "## Prerequisite\n",
    "* Vertex AI Notebook\n",
    "* Folder path for exported labeled dataset (GCS URI)\n",
    "* Permission For Google Storage and Vertex AI Notebook\n"
   ]
  },
  {
   "cell_type": "markdown",
   "id": "52894917-7817-4556-8bba-9cdb8407cd85",
   "metadata": {},
   "source": [
    "## Step by Step procedure \n",
    "\n",
    "**Input and Output Path**\n",
    "1. Give the input and output gcs path. \n"
   ]
  },
  {
   "cell_type": "code",
   "execution_count": null,
   "id": "b47c2d62-8f3f-4765-878d-e8e180778c57",
   "metadata": {},
   "outputs": [],
   "source": [
    "input_bucket_path = \"gs://xxxxxxxxxxxxx-xxxx-test-bucket/cde_xxxxxxx_export_test/\"  # Please keep '/' at the last.\n",
    "output_bucket_path = \"gs://xxxxxxxxxx-xxxxx-test-bucket/cde_xxxxxxx_output_export_test/\"  # Please keep '/' at the last."
   ]
  },
  {
   "cell_type": "markdown",
   "id": "2b5c8632-5847-4a19-9aac-bfb558affca5",
   "metadata": {},
   "source": [
    "**input_bucket_path:** GCS URI of the folder, where the dataset is exported from the processor.  \n",
    "\n",
    "**output_bucket_path:** GCS URI of the folder, where the updated json should be saved.\n",
    "\n",
    "**Note:** The output folder maintain the folder structure same as the input_bucket_path , please refer below."
   ]
  },
  {
   "cell_type": "markdown",
   "id": "deed5122-bec5-4514-b5ed-e9fe75c6dc37",
   "metadata": {},
   "source": [
    "<img src=\"./images/image_1.png\" width=800 height=400></img>"
   ]
  },
  {
   "cell_type": "markdown",
   "id": "6ee887f3-cbe2-4d6e-9450-d60c7c6c4424",
   "metadata": {},
   "source": [
    "<img src=\"./images/image_2.png\" width=800 height=400></img>"
   ]
  },
  {
   "cell_type": "markdown",
   "id": "58ecdf99-060f-44e8-9703-2c9bb3cc3e59",
   "metadata": {},
   "source": [
    "**2. Run the Code**\n",
    "\t\n",
    "Copy the code provided in this document, Enter the paths as described in step 1. \n"
   ]
  },
  {
   "cell_type": "markdown",
   "id": "2c644315-efb1-4c29-a4a1-3a06b0383948",
   "metadata": {},
   "source": [
    "<img src=\"./images/image_3.png\" width=800 height=400></img>"
   ]
  },
  {
   "cell_type": "markdown",
   "id": "fc539a18-ab24-4c9c-8241-1e9fe46b1df5",
   "metadata": {},
   "source": [
    "**3.Output**\n",
    "\n",
    "We should get the updated json where “po_number” is removed from invoice_line_item, and it is present as an independent entity. \n"
   ]
  },
  {
   "cell_type": "markdown",
   "id": "62c1af91-74ec-4036-a949-4ddefa663d77",
   "metadata": {},
   "source": [
    "**4.Comparison Between Input and Output File:**"
   ]
  },
  {
   "cell_type": "markdown",
   "id": "93017fd3-3b91-4caf-a9ab-59ef52871280",
   "metadata": {},
   "source": [
    "**Input File:**\n",
    "\n",
    "<img src=\"./images/label_migration_input.png\" width=800 height=400></img>"
   ]
  },
  {
   "cell_type": "markdown",
   "id": "abcd1928-28b2-4d5b-8f05-68eb09f5e3aa",
   "metadata": {},
   "source": [
    "**Output File**\n",
    "\n",
    "<img src=\"./images/label_migration_output.png\" width=800 height=400></img>"
   ]
  },
  {
   "cell_type": "markdown",
   "id": "741bddb5-420d-4ef0-9c1c-e48bf24c2561",
   "metadata": {},
   "source": [
    "## Code to Execute"
   ]
  },
  {
   "cell_type": "code",
   "execution_count": null,
   "id": "a3344347-5247-4d3a-a814-9b1369bdbc2a",
   "metadata": {},
   "outputs": [],
   "source": [
    "# Install the below libraries, if they are not installed , then move further\n",
    "# !pip install google-cloud-documentai\n",
    "# !pip install google-cloud-storage\n",
    "\n",
    "\n",
    "input_bucket_path = \"gs://xxxxxxxxxxxxx-xxxx-test-bucket/cde_xxxxxxx_export_test/\"  # Please keep '/' at the last.\n",
    "output_bucket_path = \"gs://xxxxxxxxxx-xxxxx-test-bucket/cde_xxxxxxx_output_export_test/\"  # Please keep '/' at the last.\n",
    "\n",
    "import json\n",
    "from google.cloud import documentai_v1beta3 as documentai\n",
    "from tqdm.notebook import tqdm\n",
    "from google.cloud import storage\n",
    "\n",
    "storage_client = storage.Client()\n",
    "source_bucket = storage_client.bucket(input_bucket_path.split(\"/\")[2])\n",
    "source_blob = source_bucket.list_blobs(\n",
    "    prefix=\"/\".join(input_bucket_path.split(\"/\")[3:])\n",
    ")\n",
    "destination_bucket = storage_client.bucket(output_bucket_path.split(\"/\")[2])\n",
    "list_of_files = []\n",
    "for blob in source_blob:\n",
    "    if \".json\" in blob.name:\n",
    "        list_of_files.append(blob.name)\n",
    "\n",
    "\n",
    "def remove_po_number_parent(filePath):\n",
    "    \"\"\"\n",
    "    Removes 'boundingPoly' keys from the entities and their properties within the document JSON retrieved from a GCS bucket, and reclassifies certain properties related to purchase order numbers.\n",
    "\n",
    "    Args:\n",
    "    - filePath (str): The path of the file within the Google Cloud Storage bucket.\n",
    "\n",
    "    This function:\n",
    "    1. Downloads a JSON representation of a document from a specified Google Cloud Storage blob.\n",
    "    2. Iterates over all entities, removing 'boundingPoly' from each entity and its properties.\n",
    "    3. Changes the property type of 'invoice_line_item/po_number' or 'po_number' to just 'po_number'.\n",
    "    4. Moves the affected properties to the end of the entities list.\n",
    "    5. Uploads the modified JSON back to a specified location in a Google Cloud Storage bucket.\n",
    "    \"\"\"\n",
    "    x = json.loads(source_bucket.blob(filePath).download_as_string().decode(\"utf-8\"))\n",
    "    for entity in x[\"entities\"]:\n",
    "        if \"boundingPolyForDemoFrontend\" in entity.keys():\n",
    "            del entity[\"boundingPolyForDemoFrontend\"]\n",
    "        if \"properties\" in entity.keys():\n",
    "            for j in entity[\"properties\"]:\n",
    "                if \"boundingPolyForDemoFrontend\" in j.keys():\n",
    "                    del j[\"boundingPolyForDemoFrontend\"]\n",
    "    doc = documentai.Document.from_json(json.dumps(x))\n",
    "    entity_deleted = []\n",
    "    for entity in doc.entities:\n",
    "        if entity.properties:\n",
    "            for property in entity.properties:\n",
    "                if (\n",
    "                    property.type == \"invoice_line_item/po_number\"\n",
    "                    or property.type == \"po_number\"\n",
    "                ):\n",
    "                    property.type = \"po_number\"\n",
    "                    entity_deleted.append(property)\n",
    "                    entity.properties.remove(property)\n",
    "    for entity in entity_deleted:\n",
    "        doc.entities.append(entity)\n",
    "    blob = destination_bucket.blob(\n",
    "        \"/\".join(output_bucket_path.split(\"/\")[3:]) + \"/\".join(filePath.split(\"/\")[1:])\n",
    "    )\n",
    "    temp_dict = json.loads(documentai.Document.to_json(doc))\n",
    "    blob.upload_from_string(\n",
    "        data=bytes(json.dumps(temp_dict, ensure_ascii=False), \"utf-8\"),\n",
    "        content_type=\"application/json\",\n",
    "    )\n",
    "\n",
    "\n",
    "for i in tqdm(list_of_files):\n",
    "    remove_po_number_parent(i)"
   ]
  }
 ],
 "metadata": {
  "environment": {
   "kernel": "python3",
   "name": "common-cpu.m104",
   "type": "gcloud",
   "uri": "gcr.io/deeplearning-platform-release/base-cpu:m104"
  },
  "kernelspec": {
   "display_name": "Python 3",
   "language": "python",
   "name": "python3"
  },
  "language_info": {
   "codemirror_mode": {
    "name": "ipython",
    "version": 3
   },
   "file_extension": ".py",
   "mimetype": "text/x-python",
   "name": "python",
   "nbconvert_exporter": "python",
   "pygments_lexer": "ipython3",
   "version": "3.7.12"
  }
 },
 "nbformat": 4,
 "nbformat_minor": 5
}
