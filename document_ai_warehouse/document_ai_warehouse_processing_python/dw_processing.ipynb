{
 "cells": [
  {
   "cell_type": "markdown",
   "id": "58bbc7e1-88d3-4982-bc64-98a162a7a0cb",
   "metadata": {},
   "source": [
    "## Using Document AI Warehouse Python Client Library to run common operations on Document AI Warehouse\n",
    "**Prerequisites**\n",
    "1. Please ensure that you have a Document AI instance . You can follow this [quickstart](https://cloud.google.com/document-warehouse/docs/quickstart) to complete the setup.\n",
    "2. Create a document AI [Invoice processor](https://cloud.google.com/document-ai/docs/processors-list#processor_invoice-processor) and update the DOCAI_PROCESSOR_ID variable below.\n",
    "3. If you are using Vertex AI Workbench Managed jupyter lab, pls ensure to grant [roles/contentwarehouse.documentAdmin](https://cloud.google.com/document-warehouse/docs/manage-access-control) & [documentai.apiUser](https://cloud.google.com/document-ai/docs/access-control/iam-roles). If you are using your own dev environment please ensure to grant the specified permissions to the identity.\n",
    "4. Install dependencies mentioned in requirements.txt"
   ]
  },
  {
   "cell_type": "markdown",
   "id": "450f689a-7e63-449d-8954-6e2169a3e00b",
   "metadata": {},
   "source": [
    "#### This notebooks cover the following scenarios\n",
    "1. Create document & folder Schema. \n",
    "2. Create a folder using schema created in step #1.\n",
    "3. Create a document using schema created in step #1 using inline raw document & set property values.\n",
    "4. Create a document using schema created in step #1 using document stored in gcs & embed DocumentAI processor output alongwith.\n",
    "5. Link document created in step #4 to the folder\n",
    "6. Search document\n",
    "7. Clean-up"
   ]
  },
  {
   "cell_type": "code",
   "execution_count": null,
   "id": "bd74f9b0-4842-43ef-a9eb-05e34a03f757",
   "metadata": {},
   "outputs": [],
   "source": [
    "# Install necessary Python libraries and restart your kernel after.\n",
    "# !python -m pip install -r ./requirements.txt"
   ]
  },
  {
   "cell_type": "code",
   "execution_count": 1,
   "id": "6a7d3027-4203-4e42-8db2-c1666ac20c5d",
   "metadata": {},
   "outputs": [],
   "source": [
    "import time\n",
    "\n",
    "from document_ai_utils import DocumentaiUtils\n",
    "from document_warehouse_utils import DocumentWarehouseUtils\n",
    "import storage_utils"
   ]
  },
  {
   "cell_type": "code",
   "execution_count": 2,
   "id": "aa647e4b-a5d6-42a5-b16c-d439165c7acd",
   "metadata": {},
   "outputs": [],
   "source": [
    "import base64\n",
    "import json"
   ]
  },
  {
   "cell_type": "code",
   "execution_count": 3,
   "id": "422c6393-fc9f-45ab-8383-e2b0c6d1786c",
   "metadata": {},
   "outputs": [],
   "source": [
    "PROJECT_NUM = 226216830996  # Set this to your project number\n",
    "API_LOCATION = \"us\"  # Choose \"us\" or \"eu\"\n",
    "\n",
    "DOCAI_PROCESSOR_ID = \"<insert here>\"  # Create a documentAI Invoice Processor and enter the processor id here.\n",
    "caller_user = \"user:<insert here>\"  # Change this to the service account you have created. user: at the beginning is required.\n",
    "\n",
    "# public GCS bucket and Invoice document. You may change it to document stored in your own bucket.\n",
    "GCS_BUCKET = \"cloud-samples-data\"\n",
    "BLOB_NAME = \"documentai/Custom/Invoices/PDF_Unlabeled/fake_invoice_10103.pdf\""
   ]
  },
  {
   "cell_type": "code",
   "execution_count": 4,
   "id": "ef18e69d-c62b-4d2b-883b-28334d8fc9e3",
   "metadata": {},
   "outputs": [],
   "source": [
    "invoice_document_path = \"./resources/sample_invoices/invoice1.pdf\"\n",
    "invoice_document_metadata_path = \"./resources/metadata/invoice1.json\"\n",
    "document_schema_path = \"./resources/schema_files/invoice_schema.json\"\n",
    "folder_schema_path = \"./resources/schema_files/invoice_folder_schema.json\""
   ]
  },
  {
   "cell_type": "code",
   "execution_count": 5,
   "id": "5250a254-3d59-4016-b7dc-5dc11ff6940a",
   "metadata": {},
   "outputs": [],
   "source": [
    "schema_id_list = []\n",
    "folder_id_list = []\n",
    "document_id_list = []"
   ]
  },
  {
   "cell_type": "markdown",
   "id": "9f654ec1-6f9e-4dcf-9bd7-1cf872622a4e",
   "metadata": {},
   "source": [
    "#### 1. Create document & folder Schema."
   ]
  },
  {
   "cell_type": "code",
   "execution_count": 6,
   "id": "c5482445-ddc1-4396-bba8-3cd87d64a77e",
   "metadata": {},
   "outputs": [],
   "source": [
    "# Instanciate DocumentWarehouseUtils.\n",
    "dw_utils = DocumentWarehouseUtils(project_number=PROJECT_NUM, api_location=API_LOCATION)"
   ]
  },
  {
   "cell_type": "code",
   "execution_count": 7,
   "id": "0af67882-a150-48d0-8331-9088c5ecc917",
   "metadata": {},
   "outputs": [
    {
     "name": "stdout",
     "output_type": "stream",
     "text": [
      "{\n",
      "  \"display_name\": \"Invoices\",\n",
      "  \"property_definitions\": [],\n",
      "  \"document_is_folder\": true,\n",
      "  \"description\": \"Invoice Folder\"\n",
      "}"
     ]
    }
   ],
   "source": [
    "!head {folder_schema_path} # Let's look at folder schema"
   ]
  },
  {
   "cell_type": "markdown",
   "id": "e802e695-430b-4b17-ba88-542d45a01514",
   "metadata": {},
   "source": [
    "##### As you can see, folder is just special type of document."
   ]
  },
  {
   "cell_type": "code",
   "execution_count": 8,
   "id": "e645441b-7ed2-47e4-8dd1-e24e92122a43",
   "metadata": {},
   "outputs": [],
   "source": [
    "folder_schema = storage_utils.read_file(folder_schema_path, mode=\"r\")"
   ]
  },
  {
   "cell_type": "code",
   "execution_count": 9,
   "id": "59968536-904e-4943-b721-104a7d8144d6",
   "metadata": {},
   "outputs": [
    {
     "name": "stdout",
     "output_type": "stream",
     "text": [
      "parent: \"projects/226216830996/locations/us\"\n",
      "document_schema {\n",
      "  display_name: \"Invoices\"\n",
      "  document_is_folder: true\n",
      "  description: \"Invoice Folder\"\n",
      "}\n",
      "\n",
      "display_name: \"Invoices\"\n",
      "document_is_folder: true\n",
      "description: \"Invoice Folder\"\n",
      "\n"
     ]
    }
   ],
   "source": [
    "create_schema_response = dw_utils.create_document_schema(folder_schema)"
   ]
  },
  {
   "cell_type": "code",
   "execution_count": 10,
   "id": "5d823acd-5ad2-44ec-95fa-29da0c8a8a87",
   "metadata": {},
   "outputs": [],
   "source": [
    "folder_schema_id = create_schema_response.name.split(\"/\")[-1]"
   ]
  },
  {
   "cell_type": "code",
   "execution_count": 11,
   "id": "69eb96fd-9933-4d09-8a0b-615be3d9c2b0",
   "metadata": {},
   "outputs": [
    {
     "data": {
      "text/plain": [
       "'6t6ebbp36kb9o'"
      ]
     },
     "execution_count": 11,
     "metadata": {},
     "output_type": "execute_result"
    }
   ],
   "source": [
    "folder_schema_id"
   ]
  },
  {
   "cell_type": "code",
   "execution_count": 12,
   "id": "2d4cffa0-7aa7-4a26-bebc-3f2863f73726",
   "metadata": {},
   "outputs": [],
   "source": [
    "schema_id_list.append(folder_schema_id)"
   ]
  },
  {
   "cell_type": "code",
   "execution_count": 13,
   "id": "db0fe7d1-e7fd-4eda-8c73-68a2268491f8",
   "metadata": {},
   "outputs": [
    {
     "data": {
      "text/plain": [
       "name: \"projects/226216830996/locations/us/documentSchemas/6t6ebbp36kb9o\"\n",
       "display_name: \"Invoices\"\n",
       "document_is_folder: true\n",
       "update_time {\n",
       "  seconds: 1671184616\n",
       "  nanos: 543639000\n",
       "}\n",
       "create_time {\n",
       "  seconds: 1671184616\n",
       "  nanos: 543639000\n",
       "}\n",
       "description: \"Invoice Folder\""
      ]
     },
     "execution_count": 13,
     "metadata": {},
     "output_type": "execute_result"
    }
   ],
   "source": [
    "# Let's try to get the schema using the schema_id\n",
    "dw_utils.get_document_schema(schema_id=folder_schema_id)"
   ]
  },
  {
   "cell_type": "markdown",
   "id": "985a5625-05f7-4dfb-a4cb-493c974e2c1b",
   "metadata": {},
   "source": [
    "#### Let's create the document schema"
   ]
  },
  {
   "cell_type": "code",
   "execution_count": 14,
   "id": "6de70d9b-9f66-413e-b1fa-4f7dd012dc06",
   "metadata": {},
   "outputs": [
    {
     "name": "stdout",
     "output_type": "stream",
     "text": [
      "{\n",
      "  \"display_name\": \"Invoice\",\n",
      "  \"property_definitions\": [\n",
      "    {\n",
      "      \"name\": \"supplier_name\",\n",
      "      \"display_name\": \"supplier name\",\n",
      "      \"is_repeatable\": false,\n",
      "      \"is_filterable\": true,\n",
      "      \"is_searchable\": true,\n",
      "      \"is_metadata\": true,\n"
     ]
    }
   ],
   "source": [
    "!head {document_schema_path} # Let's look at document schema"
   ]
  },
  {
   "cell_type": "code",
   "execution_count": 15,
   "id": "65ed1b88-354c-4919-aef9-cbb9d8294820",
   "metadata": {},
   "outputs": [],
   "source": [
    "document_schema = storage_utils.read_file(document_schema_path, mode=\"r\")"
   ]
  },
  {
   "cell_type": "code",
   "execution_count": 16,
   "id": "4e52f06e-75f8-48b3-96a4-6b042bd08257",
   "metadata": {},
   "outputs": [
    {
     "name": "stdout",
     "output_type": "stream",
     "text": [
      "parent: \"projects/226216830996/locations/us\"\n",
      "document_schema {\n",
      "  display_name: \"Invoice\"\n",
      "  property_definitions {\n",
      "    name: \"supplier_name\"\n",
      "    is_filterable: true\n",
      "    is_searchable: true\n",
      "    is_metadata: true\n",
      "    text_type_options {\n",
      "    }\n",
      "    display_name: \"supplier name\"\n",
      "  }\n",
      "  property_definitions {\n",
      "    name: \"supplier_address\"\n",
      "    is_filterable: true\n",
      "    is_searchable: true\n",
      "    is_metadata: true\n",
      "    text_type_options {\n",
      "    }\n",
      "    display_name: \"supplier address\"\n",
      "  }\n",
      "  property_definitions {\n",
      "    name: \"invoice_id\"\n",
      "    is_filterable: true\n",
      "    is_searchable: true\n",
      "    is_metadata: true\n",
      "    text_type_options {\n",
      "    }\n",
      "    display_name: \"invoice id\"\n",
      "  }\n",
      "  property_definitions {\n",
      "    name: \"invoice_date\"\n",
      "    is_filterable: true\n",
      "    is_searchable: true\n",
      "    is_metadata: true\n",
      "    display_name: \"invoice date\"\n",
      "    date_time_type_options {\n",
      "    }\n",
      "  }\n",
      "  property_definitions {\n",
      "    name: \"total_amount\"\n",
      "    is_filterable: true\n",
      "    is_searchable: true\n",
      "    is_metadata: true\n",
      "    float_type_options {\n",
      "    }\n",
      "    display_name: \"Total Amount\"\n",
      "  }\n",
      "  description: \"Invoice Document Schema\"\n",
      "}\n",
      "\n",
      "display_name: \"Invoice\"\n",
      "property_definitions {\n",
      "  name: \"supplier_name\"\n",
      "  is_filterable: true\n",
      "  is_searchable: true\n",
      "  is_metadata: true\n",
      "  text_type_options {\n",
      "  }\n",
      "  display_name: \"supplier name\"\n",
      "}\n",
      "property_definitions {\n",
      "  name: \"supplier_address\"\n",
      "  is_filterable: true\n",
      "  is_searchable: true\n",
      "  is_metadata: true\n",
      "  text_type_options {\n",
      "  }\n",
      "  display_name: \"supplier address\"\n",
      "}\n",
      "property_definitions {\n",
      "  name: \"invoice_id\"\n",
      "  is_filterable: true\n",
      "  is_searchable: true\n",
      "  is_metadata: true\n",
      "  text_type_options {\n",
      "  }\n",
      "  display_name: \"invoice id\"\n",
      "}\n",
      "property_definitions {\n",
      "  name: \"invoice_date\"\n",
      "  is_filterable: true\n",
      "  is_searchable: true\n",
      "  is_metadata: true\n",
      "  display_name: \"invoice date\"\n",
      "  date_time_type_options {\n",
      "  }\n",
      "}\n",
      "property_definitions {\n",
      "  name: \"total_amount\"\n",
      "  is_filterable: true\n",
      "  is_searchable: true\n",
      "  is_metadata: true\n",
      "  float_type_options {\n",
      "  }\n",
      "  display_name: \"Total Amount\"\n",
      "}\n",
      "description: \"Invoice Document Schema\"\n",
      "\n"
     ]
    }
   ],
   "source": [
    "create_schema_response = dw_utils.create_document_schema(document_schema)\n",
    "document_schema_id = create_schema_response.name.split(\"/\")[-1]"
   ]
  },
  {
   "cell_type": "code",
   "execution_count": 17,
   "id": "98010a48-6acc-48c9-8916-d91eb9b37540",
   "metadata": {},
   "outputs": [],
   "source": [
    "schema_id_list.append(document_schema_id)"
   ]
  },
  {
   "cell_type": "code",
   "execution_count": 18,
   "id": "f148c0f0-1676-4570-94a2-b575371dc2e3",
   "metadata": {},
   "outputs": [
    {
     "data": {
      "text/plain": [
       "name: \"projects/226216830996/locations/us/documentSchemas/3lbhrm6pcsdo8\"\n",
       "display_name: \"Invoice\"\n",
       "property_definitions {\n",
       "  name: \"supplier_name\"\n",
       "  is_filterable: true\n",
       "  is_searchable: true\n",
       "  is_metadata: true\n",
       "  text_type_options {\n",
       "  }\n",
       "  display_name: \"supplier name\"\n",
       "}\n",
       "property_definitions {\n",
       "  name: \"supplier_address\"\n",
       "  is_filterable: true\n",
       "  is_searchable: true\n",
       "  is_metadata: true\n",
       "  text_type_options {\n",
       "  }\n",
       "  display_name: \"supplier address\"\n",
       "}\n",
       "property_definitions {\n",
       "  name: \"invoice_id\"\n",
       "  is_filterable: true\n",
       "  is_searchable: true\n",
       "  is_metadata: true\n",
       "  text_type_options {\n",
       "  }\n",
       "  display_name: \"invoice id\"\n",
       "}\n",
       "property_definitions {\n",
       "  name: \"invoice_date\"\n",
       "  is_filterable: true\n",
       "  is_searchable: true\n",
       "  is_metadata: true\n",
       "  display_name: \"invoice date\"\n",
       "  date_time_type_options {\n",
       "  }\n",
       "}\n",
       "property_definitions {\n",
       "  name: \"total_amount\"\n",
       "  is_filterable: true\n",
       "  is_searchable: true\n",
       "  is_metadata: true\n",
       "  float_type_options {\n",
       "  }\n",
       "  display_name: \"Total Amount\"\n",
       "}\n",
       "update_time {\n",
       "  seconds: 1671184622\n",
       "  nanos: 811665000\n",
       "}\n",
       "create_time {\n",
       "  seconds: 1671184622\n",
       "  nanos: 811665000\n",
       "}\n",
       "description: \"Invoice Document Schema\""
      ]
     },
     "execution_count": 18,
     "metadata": {},
     "output_type": "execute_result"
    }
   ],
   "source": [
    "# Let's try to get the schema using the schema_id\n",
    "dw_utils.get_document_schema(schema_id=document_schema_id)"
   ]
  },
  {
   "cell_type": "markdown",
   "id": "aa5b36e5-d546-49cd-8292-d2f883ead9a8",
   "metadata": {},
   "source": [
    "#### 2. Create a folder using schema created in step #1."
   ]
  },
  {
   "cell_type": "code",
   "execution_count": 19,
   "id": "5bb34c4b-d9f0-4493-9da1-a15704d9b827",
   "metadata": {},
   "outputs": [],
   "source": [
    "create_folder_response = dw_utils.create_document(\n",
    "    display_name=\"Invoice\",\n",
    "    document_schema_id=folder_schema_id,\n",
    "    caller_user_id=caller_user,\n",
    ")"
   ]
  },
  {
   "cell_type": "code",
   "execution_count": 20,
   "id": "5f9aa961-2067-4bfe-a5c0-df8b72869f5c",
   "metadata": {},
   "outputs": [],
   "source": [
    "folder_id = create_folder_response.document.name.split(\"/\")[-1]"
   ]
  },
  {
   "cell_type": "code",
   "execution_count": 21,
   "id": "2f202fa3-d183-49f0-abfc-0929b892ad22",
   "metadata": {},
   "outputs": [
    {
     "data": {
      "text/plain": [
       "'1pa5a3u7e5cag'"
      ]
     },
     "execution_count": 21,
     "metadata": {},
     "output_type": "execute_result"
    }
   ],
   "source": [
    "folder_id"
   ]
  },
  {
   "cell_type": "code",
   "execution_count": 22,
   "id": "c7e8b094-71c6-42cb-ba3b-b292595a3807",
   "metadata": {},
   "outputs": [],
   "source": [
    "folder_id_list.append(folder_id)"
   ]
  },
  {
   "cell_type": "markdown",
   "id": "fc9f0dec-fb08-43b4-80f0-14d263f6e95b",
   "metadata": {},
   "source": [
    "#### 3. Create a document using schema created in step #1 using inline raw document & set property values."
   ]
  },
  {
   "cell_type": "code",
   "execution_count": 23,
   "id": "18d52ea0-5b96-4764-8a49-fa78f8508f43",
   "metadata": {},
   "outputs": [],
   "source": [
    "document_raw_bytes = storage_utils.read_file(invoice_document_path, mode=\"rb\")"
   ]
  },
  {
   "cell_type": "code",
   "execution_count": 24,
   "id": "e15536cf-cccc-4d6e-a9c4-f42289051279",
   "metadata": {},
   "outputs": [],
   "source": [
    "invoice_document_metadata = storage_utils.read_file(\n",
    "    invoice_document_metadata_path, mode=\"r\"\n",
    ")"
   ]
  },
  {
   "cell_type": "code",
   "execution_count": 25,
   "id": "bcd9ddf5-01a9-4d66-9695-cff0ea52dee4",
   "metadata": {},
   "outputs": [],
   "source": [
    "invoice_document_metadata_json = json.loads(invoice_document_metadata)"
   ]
  },
  {
   "cell_type": "code",
   "execution_count": 26,
   "id": "a26881f4-83ad-4947-9263-6c3e1e10f809",
   "metadata": {},
   "outputs": [],
   "source": [
    "create_document_response = dw_utils.create_document(\n",
    "    display_name=invoice_document_metadata_json[\"display_name\"],\n",
    "    mime_type=invoice_document_metadata_json[\"mime_type\"],\n",
    "    document_schema_id=document_schema_id,\n",
    "    metadata_properties=invoice_document_metadata_json[\"properties\"],\n",
    "    raw_inline_bytes=document_raw_bytes,\n",
    "    caller_user_id=caller_user,\n",
    ")"
   ]
  },
  {
   "cell_type": "code",
   "execution_count": 27,
   "id": "08056fde-2f75-4e6a-820d-aba44e2d8235",
   "metadata": {},
   "outputs": [
    {
     "data": {
      "text/plain": [
       "document {\n",
       "  name: \"projects/226216830996/locations/us/documents/4i3b1v8ka8qho\"\n",
       "  display_name: \"Invoice 1\"\n",
       "  document_schema_name: \"projects/226216830996/locations/us/documentSchemas/3lbhrm6pcsdo8\"\n",
       "  cloud_ai_document {\n",
       "    mime_type: \"application/pdf\"\n",
       "  }\n",
       "  properties {\n",
       "    name: \"supplier_name\"\n",
       "    text_values {\n",
       "      values: \"Acme Inc\"\n",
       "    }\n",
       "  }\n",
       "  properties {\n",
       "    name: \"supplier_address\"\n",
       "    text_values {\n",
       "      values: \"123 Main street N. Seattle, WA 98109\"\n",
       "    }\n",
       "  }\n",
       "  properties {\n",
       "    name: \"invoice_id\"\n",
       "    text_values {\n",
       "      values: \"ABC123\"\n",
       "    }\n",
       "  }\n",
       "  properties {\n",
       "    name: \"invoice_date\"\n",
       "    date_time_values {\n",
       "      values {\n",
       "        year: 2022\n",
       "        month: 12\n",
       "        day: 12\n",
       "        utc_offset {\n",
       "        }\n",
       "      }\n",
       "    }\n",
       "  }\n",
       "  properties {\n",
       "    name: \"total_amount\"\n",
       "    float_values {\n",
       "      values: 3524.449951171875\n",
       "    }\n",
       "  }\n",
       "  update_time {\n",
       "    seconds: 1671184638\n",
       "    nanos: 609607000\n",
       "  }\n",
       "  create_time {\n",
       "    seconds: 1671184638\n",
       "    nanos: 609607000\n",
       "  }\n",
       "  raw_document_file_type: RAW_DOCUMENT_FILE_TYPE_PDF\n",
       "  creator: \"226216830996-compute@developer.gserviceaccount.com\"\n",
       "  updater: \"226216830996-compute@developer.gserviceaccount.com\"\n",
       "  title: \"Invoice 1\"\n",
       "}\n",
       "rule_engine_output {\n",
       "  rule_evaluator_output {\n",
       "  }\n",
       "  action_executor_output {\n",
       "  }\n",
       "  document_name: \"projects/226216830996/locations/us/documents/4i3b1v8ka8qho\"\n",
       "}\n",
       "metadata {\n",
       "  request_id: \"1da82dc1-80a6-4a17-bb45-cb2ec5cc8250\"\n",
       "}"
      ]
     },
     "execution_count": 27,
     "metadata": {},
     "output_type": "execute_result"
    }
   ],
   "source": [
    "create_document_response  # Verify that the properties have been set correctly"
   ]
  },
  {
   "cell_type": "markdown",
   "id": "8be6a324-e062-4020-ab3f-a1e9c9e0841a",
   "metadata": {},
   "source": [
    "Now Let's create a document in Document AI Warehouse using file stores in GCS bucket"
   ]
  },
  {
   "cell_type": "code",
   "execution_count": 28,
   "id": "2e1e056a-d38c-466e-8c29-2616d35e7d15",
   "metadata": {},
   "outputs": [
    {
     "name": "stdout",
     "output_type": "stream",
     "text": [
      "4i3b1v8ka8qho\n"
     ]
    }
   ],
   "source": [
    "document_id = create_document_response.document.name.split(\"/\")[-1]\n",
    "print(document_id)"
   ]
  },
  {
   "cell_type": "code",
   "execution_count": 29,
   "id": "fa5dc4d6-5471-4fd8-b157-1f797b73c4ef",
   "metadata": {},
   "outputs": [],
   "source": [
    "document_id_list.append(document_id)"
   ]
  },
  {
   "cell_type": "markdown",
   "id": "040cc456-0ac6-4ff8-9b3f-02e899dfe5d2",
   "metadata": {},
   "source": [
    "#### 4. Create a document using schema created in step #1 using document stored in GCS bucket & embed DocumentAI processor output alongwith."
   ]
  },
  {
   "cell_type": "code",
   "execution_count": 30,
   "id": "4818e021-1709-4cc4-9ea1-0e7544b4e91c",
   "metadata": {},
   "outputs": [],
   "source": [
    "docai_utils = DocumentaiUtils(project_number=PROJECT_NUM, api_location=API_LOCATION)"
   ]
  },
  {
   "cell_type": "code",
   "execution_count": 31,
   "id": "930e9edf-efff-4eb5-87ee-38221d158ad1",
   "metadata": {},
   "outputs": [],
   "source": [
    "# Call Document AI Online API\n",
    "document_ai_output = docai_utils.process_file_from_gcs(\n",
    "    processor_id=DOCAI_PROCESSOR_ID, bucket_name=GCS_BUCKET, file_path=BLOB_NAME\n",
    ")"
   ]
  },
  {
   "cell_type": "code",
   "execution_count": 32,
   "id": "99f50cec-3ee8-4ccd-b5fb-685ce5593ea6",
   "metadata": {},
   "outputs": [],
   "source": [
    "create_document_response = dw_utils.create_document(\n",
    "    display_name=invoice_document_metadata_json[\"display_name\"],\n",
    "    mime_type=invoice_document_metadata_json[\"mime_type\"],\n",
    "    document_schema_id=document_schema_id,\n",
    "    metadata_properties=invoice_document_metadata_json[\"properties\"],\n",
    "    raw_document_path=f\"gs://{GCS_BUCKET}/{BLOB_NAME}\",\n",
    "    docai_document=document_ai_output,\n",
    "    caller_user_id=caller_user,\n",
    ")"
   ]
  },
  {
   "cell_type": "code",
   "execution_count": 33,
   "id": "920bea76-74f4-4e0c-98f1-579a0e10248e",
   "metadata": {},
   "outputs": [
    {
     "data": {
      "text/plain": [
       "document {\n",
       "  name: \"projects/226216830996/locations/us/documents/2lj1f4rick560\"\n",
       "  display_name: \"Invoice 1\"\n",
       "  document_schema_name: \"projects/226216830996/locations/us/documentSchemas/3lbhrm6pcsdo8\"\n",
       "  properties {\n",
       "    name: \"supplier_name\"\n",
       "    text_values {\n",
       "      values: \"Acme Inc\"\n",
       "    }\n",
       "  }\n",
       "  properties {\n",
       "    name: \"supplier_address\"\n",
       "    text_values {\n",
       "      values: \"123 Main street N. Seattle, WA 98109\"\n",
       "    }\n",
       "  }\n",
       "  properties {\n",
       "    name: \"invoice_id\"\n",
       "    text_values {\n",
       "      values: \"ABC123\"\n",
       "    }\n",
       "  }\n",
       "  properties {\n",
       "    name: \"invoice_date\"\n",
       "    date_time_values {\n",
       "      values {\n",
       "        year: 2022\n",
       "        month: 12\n",
       "        day: 12\n",
       "        utc_offset {\n",
       "        }\n",
       "      }\n",
       "    }\n",
       "  }\n",
       "  properties {\n",
       "    name: \"total_amount\"\n",
       "    float_values {\n",
       "      values: 3524.449951171875\n",
       "    }\n",
       "  }\n",
       "  update_time {\n",
       "    seconds: 1671184656\n",
       "    nanos: 200909000\n",
       "  }\n",
       "  create_time {\n",
       "    seconds: 1671184656\n",
       "    nanos: 200909000\n",
       "  }\n",
       "  raw_document_file_type: RAW_DOCUMENT_FILE_TYPE_PDF\n",
       "  creator: \"226216830996-compute@developer.gserviceaccount.com\"\n",
       "  updater: \"226216830996-compute@developer.gserviceaccount.com\"\n",
       "  title: \"Invoice 1\"\n",
       "}\n",
       "rule_engine_output {\n",
       "  rule_evaluator_output {\n",
       "  }\n",
       "  action_executor_output {\n",
       "  }\n",
       "  document_name: \"projects/226216830996/locations/us/documents/2lj1f4rick560\"\n",
       "}\n",
       "metadata {\n",
       "  request_id: \"059a6677-19bd-4f95-ac73-d272bf0e2020\"\n",
       "}"
      ]
     },
     "execution_count": 33,
     "metadata": {},
     "output_type": "execute_result"
    }
   ],
   "source": [
    "create_document_response"
   ]
  },
  {
   "cell_type": "code",
   "execution_count": 34,
   "id": "452e919e-bf62-4d92-b37e-16ac8231fc69",
   "metadata": {},
   "outputs": [],
   "source": [
    "document_id_gcs = create_document_response.document.name.split(\"/\")[-1]"
   ]
  },
  {
   "cell_type": "code",
   "execution_count": 35,
   "id": "8e344aa2-55e6-4acb-9956-a0df03e523cd",
   "metadata": {},
   "outputs": [],
   "source": [
    "document_id_list.append(document_id_gcs)"
   ]
  },
  {
   "cell_type": "markdown",
   "id": "dd663fdf-3d5f-41d2-93e4-be7bd62b53df",
   "metadata": {},
   "source": [
    "#### 5. Link document created in step #4 to the folder"
   ]
  },
  {
   "cell_type": "code",
   "execution_count": 36,
   "id": "16bd9b21-b350-46fe-a02e-fc4839fb3835",
   "metadata": {},
   "outputs": [
    {
     "data": {
      "text/plain": [
       "name: \"projects/226216830996/locations/us/documents/1pa5a3u7e5cag/documentLinks/3ult13jh4soc0\"\n",
       "source_document_reference {\n",
       "  document_name: \"projects/226216830996/locations/us/documents/1pa5a3u7e5cag\"\n",
       "  display_name: \"Invoice\"\n",
       "  document_is_folder: true\n",
       "  update_time {\n",
       "    seconds: 1671184629\n",
       "    nanos: 133972000\n",
       "  }\n",
       "  create_time {\n",
       "    seconds: 1671184629\n",
       "    nanos: 133972000\n",
       "  }\n",
       "}\n",
       "target_document_reference {\n",
       "  document_name: \"projects/226216830996/locations/us/documents/4i3b1v8ka8qho\"\n",
       "  display_name: \"Invoice 1\"\n",
       "  update_time {\n",
       "    seconds: 1671184638\n",
       "    nanos: 611727000\n",
       "  }\n",
       "  create_time {\n",
       "    seconds: 1671184638\n",
       "    nanos: 611727000\n",
       "  }\n",
       "}\n",
       "update_time {\n",
       "  seconds: 1671184663\n",
       "  nanos: 13675000\n",
       "}\n",
       "create_time {\n",
       "  seconds: 1671184663\n",
       "  nanos: 13675000\n",
       "}\n",
       "state: ACTIVE"
      ]
     },
     "execution_count": 36,
     "metadata": {},
     "output_type": "execute_result"
    }
   ],
   "source": [
    "dw_utils.link_document_to_folder(\n",
    "    document_id=document_id, folder_document_id=folder_id, caller_user_id=caller_user\n",
    ")"
   ]
  },
  {
   "cell_type": "markdown",
   "id": "2ef6006d-f4c7-4f52-9100-8e97c4926447",
   "metadata": {},
   "source": [
    "#### 6. Search document"
   ]
  },
  {
   "cell_type": "code",
   "execution_count": 37,
   "id": "e85bb95a-0696-49cb-9f13-4185680fe80e",
   "metadata": {},
   "outputs": [],
   "source": [
    "query = \"ABC123\"\n",
    "search_response = dw_utils.search_documents(query=query, caller_user_id=caller_user)"
   ]
  },
  {
   "cell_type": "code",
   "execution_count": 38,
   "id": "8fec533e-0d87-49fa-9ae5-765209a4d7d7",
   "metadata": {},
   "outputs": [
    {
     "data": {
      "text/plain": [
       "SearchDocumentsPager<matching_documents {\n",
       "  document {\n",
       "    name: \"projects/226216830996/locations/us/documents/4i3b1v8ka8qho\"\n",
       "    display_name: \"Invoice 1\"\n",
       "    document_schema_name: \"projects/226216830996/locations/us/documentSchemas/3lbhrm6pcsdo8\"\n",
       "    properties {\n",
       "      name: \"supplier_name\"\n",
       "      text_values {\n",
       "        values: \"Acme Inc\"\n",
       "      }\n",
       "    }\n",
       "    properties {\n",
       "      name: \"invoice_date\"\n",
       "      date_time_values {\n",
       "        values {\n",
       "          year: 2022\n",
       "          month: 12\n",
       "          day: 12\n",
       "          utc_offset {\n",
       "          }\n",
       "        }\n",
       "      }\n",
       "    }\n",
       "    properties {\n",
       "      name: \"supplier_address\"\n",
       "      text_values {\n",
       "        values: \"123 Main street N. Seattle, WA 98109\"\n",
       "      }\n",
       "    }\n",
       "    properties {\n",
       "      name: \"invoice_id\"\n",
       "      text_values {\n",
       "        values: \"ABC123\"\n",
       "      }\n",
       "    }\n",
       "    properties {\n",
       "      name: \"total_amount\"\n",
       "      float_values {\n",
       "        values: 3524.449951171875\n",
       "      }\n",
       "    }\n",
       "    update_time {\n",
       "      seconds: 1671184638\n",
       "      nanos: 611727000\n",
       "    }\n",
       "    create_time {\n",
       "      seconds: 1671184638\n",
       "      nanos: 611727000\n",
       "    }\n",
       "    raw_document_file_type: RAW_DOCUMENT_FILE_TYPE_PDF\n",
       "    creator: \"226216830996-compute@developer.gserviceaccount.com\"\n",
       "  }\n",
       "  search_text_snippet: \"Acme Inc 123 Main street N. Seattle, WA 98109 <b>ABC123</b> 1670803200 3524.45\"\n",
       "}\n",
       "matching_documents {\n",
       "  document {\n",
       "    name: \"projects/226216830996/locations/us/documents/3l2gqvccc9ki0\"\n",
       "    display_name: \"Invoice 1\"\n",
       "    document_schema_name: \"projects/226216830996/locations/us/documentSchemas/7obmlk64ta408\"\n",
       "    properties {\n",
       "      name: \"invoice_id\"\n",
       "      text_values {\n",
       "        values: \"ABC123\"\n",
       "      }\n",
       "    }\n",
       "    properties {\n",
       "      name: \"total_amount\"\n",
       "      float_values {\n",
       "        values: 3524.449951171875\n",
       "      }\n",
       "    }\n",
       "    properties {\n",
       "      name: \"supplier_address\"\n",
       "      text_values {\n",
       "        values: \"123 Main street N. Seattle, WA 98109\"\n",
       "      }\n",
       "    }\n",
       "    properties {\n",
       "      name: \"supplier_name\"\n",
       "      text_values {\n",
       "        values: \"Acme Inc\"\n",
       "      }\n",
       "    }\n",
       "    properties {\n",
       "      name: \"invoice_date\"\n",
       "      date_time_values {\n",
       "        values {\n",
       "          year: 2022\n",
       "          month: 12\n",
       "          day: 12\n",
       "          utc_offset {\n",
       "          }\n",
       "        }\n",
       "      }\n",
       "    }\n",
       "    update_time {\n",
       "      seconds: 1671184092\n",
       "      nanos: 173729000\n",
       "    }\n",
       "    create_time {\n",
       "      seconds: 1671184092\n",
       "      nanos: 173729000\n",
       "    }\n",
       "    raw_document_file_type: RAW_DOCUMENT_FILE_TYPE_PDF\n",
       "    creator: \"226216830996-compute@developer.gserviceaccount.com\"\n",
       "  }\n",
       "  search_text_snippet: \"Acme Inc 123 Main street N. Seattle, WA 98109 <b>ABC123</b> 1670803200 3524.45\"\n",
       "}\n",
       "matching_documents {\n",
       "  document {\n",
       "    name: \"projects/226216830996/locations/us/documents/2lj1f4rick560\"\n",
       "    display_name: \"Invoice 1\"\n",
       "    document_schema_name: \"projects/226216830996/locations/us/documentSchemas/3lbhrm6pcsdo8\"\n",
       "    properties {\n",
       "      name: \"supplier_name\"\n",
       "      text_values {\n",
       "        values: \"Acme Inc\"\n",
       "      }\n",
       "    }\n",
       "    properties {\n",
       "      name: \"invoice_date\"\n",
       "      date_time_values {\n",
       "        values {\n",
       "          year: 2022\n",
       "          month: 12\n",
       "          day: 12\n",
       "          utc_offset {\n",
       "          }\n",
       "        }\n",
       "      }\n",
       "    }\n",
       "    properties {\n",
       "      name: \"supplier_address\"\n",
       "      text_values {\n",
       "        values: \"123 Main street N. Seattle, WA 98109\"\n",
       "      }\n",
       "    }\n",
       "    properties {\n",
       "      name: \"invoice_id\"\n",
       "      text_values {\n",
       "        values: \"ABC123\"\n",
       "      }\n",
       "    }\n",
       "    properties {\n",
       "      name: \"total_amount\"\n",
       "      float_values {\n",
       "        values: 3524.449951171875\n",
       "      }\n",
       "    }\n",
       "    update_time {\n",
       "      seconds: 1671184656\n",
       "      nanos: 203849000\n",
       "    }\n",
       "    create_time {\n",
       "      seconds: 1671184656\n",
       "      nanos: 203849000\n",
       "    }\n",
       "    raw_document_file_type: RAW_DOCUMENT_FILE_TYPE_PDF\n",
       "    creator: \"226216830996-compute@developer.gserviceaccount.com\"\n",
       "  }\n",
       "  search_text_snippet: \"McWilliam Piping International Piping Company 14368 Pipeline Ave Chino, CA 91710 Invoice: 10103 Due Date: 2020-01-03 tem Quantity Price ...\"\n",
       "}\n",
       "next_page_token: \"0,0.28205245733261108,\\\"2lj1f4rick560\\\"\"\n",
       "total_size: -1\n",
       "metadata {\n",
       "  request_id: \"73e36a66-d21b-4f8b-a2d6-76c55833455c\"\n",
       "}\n",
       ">"
      ]
     },
     "execution_count": 38,
     "metadata": {},
     "output_type": "execute_result"
    }
   ],
   "source": [
    "search_response"
   ]
  },
  {
   "cell_type": "markdown",
   "id": "c15041e7-d21c-4942-9d56-1a250b603131",
   "metadata": {},
   "source": [
    "#### 7. Clean-up"
   ]
  },
  {
   "cell_type": "code",
   "execution_count": 1,
   "id": "85d0ab16-fc26-45a3-aac9-8f3956466152",
   "metadata": {},
   "outputs": [],
   "source": [
    "def cleanup():\n",
    "    # delete documents\n",
    "    for document_id in document_id_list:\n",
    "        dw_utils.delete_document(document_id, caller_user_id=caller_user)\n",
    "        print(f\"Document:{document_id} deleted\")\n",
    "\n",
    "    # delete folders\n",
    "    for folder_document_id in folder_id_list:\n",
    "        dw_utils.delete_document(folder_document_id, caller_user_id=caller_user)\n",
    "        print(f\"Folder:{folder_document_id} deleted\")\n",
    "\n",
    "    time.sleep(2)\n",
    "    # Delete schemas\n",
    "    for schema_id in schema_id_list:\n",
    "        dw_utils.delete_document_schema(schema_id)\n",
    "        print(f\"Schema:{schema_id} deleted\")\n",
    "\n",
    "    document_id_list.clear()\n",
    "    folder_id_list.clear()\n",
    "    schema_id_list.clear()"
   ]
  },
  {
   "cell_type": "code",
   "execution_count": 40,
   "id": "af789c33-785f-459e-95da-0c2a4ede415c",
   "metadata": {},
   "outputs": [
    {
     "name": "stdout",
     "output_type": "stream",
     "text": [
      "Document:4i3b1v8ka8qho deleted\n",
      "Document:2lj1f4rick560 deleted\n",
      "Folder:1pa5a3u7e5cag deleted\n",
      "Schema:6t6ebbp36kb9o deleted\n",
      "Schema:3lbhrm6pcsdo8 deleted\n"
     ]
    }
   ],
   "source": [
    "cleanup()"
   ]
  },
  {
   "cell_type": "code",
   "execution_count": null,
   "id": "502a0d43-db8a-44d4-a5bd-4b428a583058",
   "metadata": {},
   "outputs": [],
   "source": []
  }
 ],
 "metadata": {
  "environment": {
   "kernel": "python3",
   "name": "common-cpu.m102",
   "type": "gcloud",
   "uri": "gcr.io/deeplearning-platform-release/base-cpu:m102"
  },
  "kernelspec": {
   "display_name": "Python 3",
   "language": "python",
   "name": "python3"
  },
  "language_info": {
   "codemirror_mode": {
    "name": "ipython",
    "version": 3
   },
   "file_extension": ".py",
   "mimetype": "text/x-python",
   "name": "python",
   "nbconvert_exporter": "python",
   "pygments_lexer": "ipython3",
   "version": "3.7.12"
  }
 },
 "nbformat": 4,
 "nbformat_minor": 5
}
